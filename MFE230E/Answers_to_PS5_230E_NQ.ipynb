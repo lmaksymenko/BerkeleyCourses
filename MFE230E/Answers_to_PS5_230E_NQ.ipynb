{
 "cells": [
  {
   "cell_type": "markdown",
   "id": "753271fa-c701-4143-b491-c2d36f902a62",
   "metadata": {},
   "source": [
    "### Answers to Assignment 5 of 230E"
   ]
  },
  {
   "cell_type": "markdown",
   "id": "fcb86882-bd41-433a-ac0d-b03995b9720c",
   "metadata": {},
   "source": [
    "##### Authors(alphabetic order)\n",
    "1) Ishan Pathak ishan_pathak@berkeley.edu\n",
    "2) Leonid Maksymenko leo.maksymenko@berkeley.edu\n",
    "3) Nymph Qiu nymph_qiu@berkeley.edu\n",
    "4) Xuanzhong Ren rxz19@berkeley.edu"
   ]
  },
  {
   "cell_type": "code",
   "execution_count": 84,
   "id": "ab595ca0-a627-4fad-a36d-e0d0956a2c3f",
   "metadata": {},
   "outputs": [],
   "source": [
    "import pandas as pd\n",
    "import numpy as np\n",
    "import matplotlib.pyplot as plt\n",
    "import statsmodels.api as sm\n",
    "from statsmodels.graphics.tsaplots import plot_acf, plot_pacf"
   ]
  },
  {
   "cell_type": "markdown",
   "id": "e6203697-a152-401b-843c-48edb8767314",
   "metadata": {},
   "source": [
    "### Q1"
   ]
  },
  {
   "cell_type": "markdown",
   "id": "e4ff76b6-b9e5-4ffa-8c7b-1ca8eb88a874",
   "metadata": {},
   "source": [
    "$$P_t=E_t[\\sum_{i=1}^{\\infty}\\frac{D_{t+i}}{(1+R)^i}]$$\n",
    "Let $A=\\sum_{i=1}^{\\infty}\\frac{D_{t+i}}{(1+R)^i}=\\frac{\\Delta D_{t+1}+D_t}{(1+R)}+\\frac{\\Delta D_{t+2}+\\Delta D_{t+1}+D_t}{(1+R)^2} + ...$"
   ]
  },
  {
   "cell_type": "markdown",
   "id": "48d7f250-143e-46b8-8ce4-83b95c92a601",
   "metadata": {},
   "source": [
    "$A=\\sum_{i=1}^{\\infty}\\frac{D_t}{(1+R)^i}+\\sum_{i=1}^{\\infty}\\frac{\\Delta D_{t+1}}{(1+R)^i}+\\frac{1}{1+R}\\sum_{i=1}^{\\infty}\\frac{\\Delta D_{t+2}}{(1+R)^i}+...=\\frac{D_t}{R}+\\frac{1}{R}\\sum_{i=0}^{\\infty}\\frac{\\Delta D_{t+i+1}}{(1+R)^i}$<br>\n",
    "$P_t=E_t(A)=\\frac{D_t}{R}+\\frac{1}{R}E_t[\\sum_{i=0}^{\\infty}\\frac{\\Delta D_{t+i+1}}{(1+R)^i}]$ => $P_t-\\frac{D_t}{R}=\\frac{1}{R}E_t[\\sum_{i=0}^{\\infty}\\frac{\\Delta D_{t+i+1}}{(1+R)^i}]$<br>"
   ]
  },
  {
   "cell_type": "markdown",
   "id": "b52acfb8-211d-4ece-ac79-cd7b91fbef6e",
   "metadata": {},
   "source": [
    "Because $\\Delta D_t$ is $I(0)$ process, prices and dividends would cointegrate."
   ]
  },
  {
   "cell_type": "markdown",
   "id": "91f6a75a-f4d3-460e-be71-de03025429eb",
   "metadata": {},
   "source": [
    "### Q2"
   ]
  },
  {
   "cell_type": "markdown",
   "id": "0fc33026-e84e-4026-b63f-34f5f804272a",
   "metadata": {},
   "source": [
    "(a)"
   ]
  },
  {
   "cell_type": "markdown",
   "id": "d7e7d155-096c-41ad-80b0-280e19c6c54a",
   "metadata": {},
   "source": [
    "$1+R_{t+1} = \\frac{P_{t+1}+D_{t+1}}{P_{t+1}}\\frac{P_{t+1}}{P_t}$"
   ]
  },
  {
   "cell_type": "markdown",
   "id": "662d4eff-8267-46f0-9d43-d616bcf42312",
   "metadata": {},
   "source": [
    "$r_{t+1}=\\log P_{t+1} - \\log P_t + \\log(1+\\frac{D_{t+1}}{P_{t+1}})=p_{t+1}-p_t + \\log(1+\\frac{D_{t+1}}{P_{t+1}})$"
   ]
  },
  {
   "cell_type": "markdown",
   "id": "be7ec42c-4461-4397-9c41-8e21c4400736",
   "metadata": {},
   "source": [
    "$\\log(1+\\frac{D_{t+1}}{P_{t+1}})=\\log(1+e^{d_{t+1}-p_{t+1}})\\approx \\frac{e^{\\overline{d-p}}}{1+e^{\\overline{d-p}}}(d_{t+1}-p_{t+1}-\\overline{d-p})+\\log(1+e^{\\overline{d-p}})$"
   ]
  },
  {
   "cell_type": "markdown",
   "id": "0d2f69d5-dcc4-4042-92fb-8b43b74efffe",
   "metadata": {},
   "source": [
    "$\\frac{e^{\\overline{d-p}}}{1+e^{\\overline{d-p}}}(d_{t+1}-p_{t+1}-\\overline{d-p})+\\log(1+e^{\\overline{d-p}})=(1-\\rho)(d_{t+1}-p_{t+1}-\\ln(\\frac{1}{\\rho}-1))-\\rho$"
   ]
  },
  {
   "cell_type": "markdown",
   "id": "7986cfcf-e18b-4c5c-9488-7f25c5a3126f",
   "metadata": {},
   "source": [
    "$r_{t+1}\\approx p_{t+1}-p_t+(1-\\rho)(d_{t+1}-p_{t+1}-\\ln(\\frac{1}{\\rho}-1))-\\rho$<br>\n",
    "$=-\\ln(\\rho)-(1-\\rho)\\ln(\\frac{1}{\\rho}-1)+\\rho p_{t+1}+(1-\\rho)d_{t+1}-p_t=k+\\rho p_{t+1}+(1-\\rho)d_{t+1}-p_t$"
   ]
  },
  {
   "cell_type": "markdown",
   "id": "c4bd9643-53b0-46de-b409-b7f63b0b8cc9",
   "metadata": {},
   "source": [
    "(b)"
   ]
  },
  {
   "cell_type": "markdown",
   "id": "3127b3d5-f322-43de-b4f4-0e2e35fcea68",
   "metadata": {},
   "source": [
    "$p_t\\approx k+\\rho p_{t+1}+(1-\\rho)d_{t+1}-r_{t+1}=k+\\rho (k+\\rho p_{t+2}+(1-\\rho)d_{t+2}-r_{t+2})+(1-\\rho)d_{t+1}-r_{t+1}$"
   ]
  },
  {
   "cell_type": "markdown",
   "id": "d9a876d1-5781-481f-afe4-eb165efbafb3",
   "metadata": {},
   "source": [
    "By induction<br>\n",
    "$E_t(p_t)=p_t \\approx E_t(\\sum_{i=1}^{K}k\\rho^{i-1}+\\rho^K p_{t+K} + \\sum_{i=1}^{K}\\rho^{i-1}((1-\\rho)d_{t+i}-r_{t+i}))$"
   ]
  },
  {
   "cell_type": "markdown",
   "id": "6dda429b-5584-4246-93eb-224b4e25c348",
   "metadata": {},
   "source": [
    "When K tends infinite,<br>\n",
    "$p_t\\approx E_t[\\sum_{j=0}^{\\infty}\\rho^{j}((1-\\rho)d_{t+j+1}-r_{t+j+1})]$<br>\n",
    "$p_t-d_t\\approx E_t[\\sum_{j=0}^{\\infty}\\rho^{j}((1-\\rho)d_{t+j+1})]-d_t-E_t[\\sum_{j=0}^{\\infty}\\rho^{j}r_{t+j+1}]$<br>\n",
    "Let $X_t = \\sum_{j=0}^{\\infty}\\rho^{j}((1-\\rho)d_{t+j+1})-d_t=+\\sum_{j=0}^{\\infty}\\rho^{j}((1-\\rho)\\Delta d_{t+j+1})+\\rho\\sum_{j=0}^{\\infty}\\rho^{j}((1-\\rho)\\Delta d_{t+j+2})+...$<br>\n",
    "$X_t=\\Delta d_{t+j+1}+\\rho \\Delta d_{t+j+2} + ...=\\sum_{j=0}^{\\infty}\\rho^j \\Delta d_{t+j+1}$<br>"
   ]
  },
  {
   "cell_type": "markdown",
   "id": "6ade6195-76fd-4700-8cd9-565d084c576d",
   "metadata": {},
   "source": [
    "$p_t-d_t\\approx E_t[\\sum_{j=0}^{\\infty}\\rho^j \\Delta d_{t+j+1}] - E_t[\\sum_{j=0}^{\\infty}\\rho^{j}r_{t+j+1}]=E_t[\\sum_{j=0}^{\\infty}\\rho^{j}(\\Delta d_{t+j+1} - r_{t+j+1})]$"
   ]
  },
  {
   "cell_type": "markdown",
   "id": "e3edd1c0-2b30-4612-b0a5-1e15d622ea80",
   "metadata": {},
   "source": [
    "### Q3"
   ]
  },
  {
   "cell_type": "markdown",
   "id": "fca89c82-68af-44dc-ab86-9e807af39277",
   "metadata": {},
   "source": [
    "(a)"
   ]
  },
  {
   "cell_type": "markdown",
   "id": "f11365aa-fcd4-4c72-a686-69f14a9c67f6",
   "metadata": {},
   "source": [
    "$\\beta_p=\\frac{1}{3}\\sum_{j=1}^3 \\beta_j=0.7$"
   ]
  },
  {
   "cell_type": "markdown",
   "id": "eb89e51a-3122-49cb-a2e7-ad4b582ed50d",
   "metadata": {},
   "source": [
    "(b)"
   ]
  },
  {
   "cell_type": "markdown",
   "id": "fac03014-4a52-44a9-9d1d-1c2a997ec059",
   "metadata": {},
   "source": [
    "$\\sigma_p^2=\\frac{1}{9}\\sum_{j=1}^3(\\beta_j^2 \\sigma_{market}^2+\\sigma_{\\epsilon,j}^2)=\n",
    "0.008533333333333332$"
   ]
  },
  {
   "cell_type": "code",
   "execution_count": 85,
   "id": "be5eee1e-bcf9-4fcc-83dc-6b8a8193fa02",
   "metadata": {},
   "outputs": [
    {
     "data": {
      "text/plain": [
       "0.008533333333333332"
      ]
     },
     "execution_count": 85,
     "metadata": {},
     "output_type": "execute_result"
    }
   ],
   "source": [
    "1/9*(0.02*(0.7**2+0.8**2+0.6**2)+0.01+0.025+0.012)"
   ]
  },
  {
   "cell_type": "markdown",
   "id": "d5a7204e-9e4a-45d6-a427-362d768d296a",
   "metadata": {},
   "source": [
    "(c)"
   ]
  },
  {
   "cell_type": "markdown",
   "id": "caca9746-e1f2-4c47-8265-725443099e8e",
   "metadata": {},
   "source": [
    "$\\frac{\\beta_1^2\\sigma_{market}^2}{\\beta_1^2\\sigma_{market}^2+\\sigma_{\\epsilon,1}^2}=0.494949494949495$"
   ]
  },
  {
   "cell_type": "code",
   "execution_count": 86,
   "id": "e9d4d251-1d1b-4555-9b42-eec10de75548",
   "metadata": {},
   "outputs": [
    {
     "data": {
      "text/plain": [
       "0.494949494949495"
      ]
     },
     "execution_count": 86,
     "metadata": {},
     "output_type": "execute_result"
    }
   ],
   "source": [
    "0.7**2*0.02/(0.7**2*0.02+0.01)"
   ]
  },
  {
   "cell_type": "markdown",
   "id": "6788c716-f074-4542-8e4f-bdca53a74646",
   "metadata": {},
   "source": [
    "### Q4"
   ]
  },
  {
   "cell_type": "markdown",
   "id": "09e311d5-89fc-4fae-8f3b-6074163dcaf9",
   "metadata": {},
   "source": [
    "(a)"
   ]
  },
  {
   "cell_type": "code",
   "execution_count": 194,
   "id": "c8882a47-12c3-4f8f-8773-8e23c92476d9",
   "metadata": {},
   "outputs": [
    {
     "name": "stderr",
     "output_type": "stream",
     "text": [
      "/var/folders/z1/63t9r5_d2vq7tf0245y_z8qr0000gn/T/ipykernel_61564/1486839674.py:4: FutureWarning: The argument 'date_parser' is deprecated and will be removed in a future version. Please use 'date_format' instead, or read your data in as 'object' dtype and then call 'to_datetime'.\n",
      "  ff_5_factor = web.DataReader('F-F_Research_Data_5_Factors_2x3', 'famafrench', start='1963-7-1')\n",
      "/var/folders/z1/63t9r5_d2vq7tf0245y_z8qr0000gn/T/ipykernel_61564/1486839674.py:4: FutureWarning: The argument 'date_parser' is deprecated and will be removed in a future version. Please use 'date_format' instead, or read your data in as 'object' dtype and then call 'to_datetime'.\n",
      "  ff_5_factor = web.DataReader('F-F_Research_Data_5_Factors_2x3', 'famafrench', start='1963-7-1')\n",
      "/var/folders/z1/63t9r5_d2vq7tf0245y_z8qr0000gn/T/ipykernel_61564/1486839674.py:5: FutureWarning: The argument 'date_parser' is deprecated and will be removed in a future version. Please use 'date_format' instead, or read your data in as 'object' dtype and then call 'to_datetime'.\n",
      "  mm_factor = web.DataReader('F-F_Momentum_Factor', 'famafrench', start='1963-7-1')\n",
      "/var/folders/z1/63t9r5_d2vq7tf0245y_z8qr0000gn/T/ipykernel_61564/1486839674.py:5: FutureWarning: The argument 'date_parser' is deprecated and will be removed in a future version. Please use 'date_format' instead, or read your data in as 'object' dtype and then call 'to_datetime'.\n",
      "  mm_factor = web.DataReader('F-F_Momentum_Factor', 'famafrench', start='1963-7-1')\n",
      "/var/folders/z1/63t9r5_d2vq7tf0245y_z8qr0000gn/T/ipykernel_61564/1486839674.py:6: FutureWarning: The argument 'date_parser' is deprecated and will be removed in a future version. Please use 'date_format' instead, or read your data in as 'object' dtype and then call 'to_datetime'.\n",
      "  portfolio = web.DataReader('25_Portfolios_ME_Prior_12_2', 'famafrench', start='1963-7-1')\n",
      "/var/folders/z1/63t9r5_d2vq7tf0245y_z8qr0000gn/T/ipykernel_61564/1486839674.py:6: FutureWarning: The argument 'date_parser' is deprecated and will be removed in a future version. Please use 'date_format' instead, or read your data in as 'object' dtype and then call 'to_datetime'.\n",
      "  portfolio = web.DataReader('25_Portfolios_ME_Prior_12_2', 'famafrench', start='1963-7-1')\n",
      "/var/folders/z1/63t9r5_d2vq7tf0245y_z8qr0000gn/T/ipykernel_61564/1486839674.py:6: FutureWarning: The argument 'date_parser' is deprecated and will be removed in a future version. Please use 'date_format' instead, or read your data in as 'object' dtype and then call 'to_datetime'.\n",
      "  portfolio = web.DataReader('25_Portfolios_ME_Prior_12_2', 'famafrench', start='1963-7-1')\n",
      "/var/folders/z1/63t9r5_d2vq7tf0245y_z8qr0000gn/T/ipykernel_61564/1486839674.py:6: FutureWarning: The argument 'date_parser' is deprecated and will be removed in a future version. Please use 'date_format' instead, or read your data in as 'object' dtype and then call 'to_datetime'.\n",
      "  portfolio = web.DataReader('25_Portfolios_ME_Prior_12_2', 'famafrench', start='1963-7-1')\n",
      "/var/folders/z1/63t9r5_d2vq7tf0245y_z8qr0000gn/T/ipykernel_61564/1486839674.py:6: FutureWarning: The argument 'date_parser' is deprecated and will be removed in a future version. Please use 'date_format' instead, or read your data in as 'object' dtype and then call 'to_datetime'.\n",
      "  portfolio = web.DataReader('25_Portfolios_ME_Prior_12_2', 'famafrench', start='1963-7-1')\n",
      "/var/folders/z1/63t9r5_d2vq7tf0245y_z8qr0000gn/T/ipykernel_61564/1486839674.py:6: FutureWarning: The argument 'date_parser' is deprecated and will be removed in a future version. Please use 'date_format' instead, or read your data in as 'object' dtype and then call 'to_datetime'.\n",
      "  portfolio = web.DataReader('25_Portfolios_ME_Prior_12_2', 'famafrench', start='1963-7-1')\n",
      "/var/folders/z1/63t9r5_d2vq7tf0245y_z8qr0000gn/T/ipykernel_61564/1486839674.py:6: FutureWarning: The argument 'date_parser' is deprecated and will be removed in a future version. Please use 'date_format' instead, or read your data in as 'object' dtype and then call 'to_datetime'.\n",
      "  portfolio = web.DataReader('25_Portfolios_ME_Prior_12_2', 'famafrench', start='1963-7-1')\n",
      "/var/folders/z1/63t9r5_d2vq7tf0245y_z8qr0000gn/T/ipykernel_61564/1486839674.py:6: FutureWarning: The argument 'date_parser' is deprecated and will be removed in a future version. Please use 'date_format' instead, or read your data in as 'object' dtype and then call 'to_datetime'.\n",
      "  portfolio = web.DataReader('25_Portfolios_ME_Prior_12_2', 'famafrench', start='1963-7-1')\n"
     ]
    }
   ],
   "source": [
    "import pandas as pd\n",
    "import pandas_datareader.data as web\n",
    "from datetime import datetime\n",
    "ff_5_factor = web.DataReader('F-F_Research_Data_5_Factors_2x3', 'famafrench', start='1963-7-1')\n",
    "mm_factor = web.DataReader('F-F_Momentum_Factor', 'famafrench', start='1963-7-1')\n",
    "portfolio = web.DataReader('25_Portfolios_ME_Prior_12_2', 'famafrench', start='1963-7-1')"
   ]
  },
  {
   "cell_type": "code",
   "execution_count": 195,
   "id": "cd8314ef-3dd9-430a-8d72-9a91d980d7f6",
   "metadata": {},
   "outputs": [],
   "source": [
    "train_data = portfolio[1]\n",
    "market_prem = ff_5_factor[0][\"Mkt-RF\"]\n",
    "risk_free = ff_5_factor[0][\"RF\"]"
   ]
  },
  {
   "cell_type": "code",
   "execution_count": 209,
   "id": "37b71e5c-ea3d-4dec-90d1-7d21b253ff89",
   "metadata": {},
   "outputs": [
    {
     "data": {
      "text/html": [
       "<div>\n",
       "<style scoped>\n",
       "    .dataframe tbody tr th:only-of-type {\n",
       "        vertical-align: middle;\n",
       "    }\n",
       "\n",
       "    .dataframe tbody tr th {\n",
       "        vertical-align: top;\n",
       "    }\n",
       "\n",
       "    .dataframe thead th {\n",
       "        text-align: right;\n",
       "    }\n",
       "</style>\n",
       "<table border=\"1\" class=\"dataframe\">\n",
       "  <thead>\n",
       "    <tr style=\"text-align: right;\">\n",
       "      <th></th>\n",
       "      <th>portfolio</th>\n",
       "      <th>alpha</th>\n",
       "      <th>alpha_white_error</th>\n",
       "      <th>alpha_nw_error</th>\n",
       "      <th>p_val_alpha_white</th>\n",
       "      <th>p_val_alpha_nw</th>\n",
       "      <th>beta</th>\n",
       "      <th>beta_white_error</th>\n",
       "      <th>beta_nw_error</th>\n",
       "    </tr>\n",
       "  </thead>\n",
       "  <tbody>\n",
       "    <tr>\n",
       "      <th>0</th>\n",
       "      <td>SMALL LoPRIOR</td>\n",
       "      <td>-0.221397</td>\n",
       "      <td>0.222042</td>\n",
       "      <td>0.229052</td>\n",
       "      <td>3.187183e-01</td>\n",
       "      <td>0.333754</td>\n",
       "      <td>1.316269</td>\n",
       "      <td>0.062579</td>\n",
       "      <td>0.066611</td>\n",
       "    </tr>\n",
       "    <tr>\n",
       "      <th>1</th>\n",
       "      <td>ME1 PRIOR2</td>\n",
       "      <td>0.301751</td>\n",
       "      <td>0.137711</td>\n",
       "      <td>0.145561</td>\n",
       "      <td>2.843839e-02</td>\n",
       "      <td>0.038170</td>\n",
       "      <td>0.992744</td>\n",
       "      <td>0.045024</td>\n",
       "      <td>0.046909</td>\n",
       "    </tr>\n",
       "    <tr>\n",
       "      <th>2</th>\n",
       "      <td>ME1 PRIOR3</td>\n",
       "      <td>0.495185</td>\n",
       "      <td>0.128034</td>\n",
       "      <td>0.137517</td>\n",
       "      <td>1.099045e-04</td>\n",
       "      <td>0.000317</td>\n",
       "      <td>0.914649</td>\n",
       "      <td>0.041273</td>\n",
       "      <td>0.041795</td>\n",
       "    </tr>\n",
       "    <tr>\n",
       "      <th>3</th>\n",
       "      <td>ME1 PRIOR4</td>\n",
       "      <td>0.644692</td>\n",
       "      <td>0.129414</td>\n",
       "      <td>0.139841</td>\n",
       "      <td>6.305696e-07</td>\n",
       "      <td>0.000004</td>\n",
       "      <td>0.927655</td>\n",
       "      <td>0.038936</td>\n",
       "      <td>0.039855</td>\n",
       "    </tr>\n",
       "    <tr>\n",
       "      <th>4</th>\n",
       "      <td>SMALL HiPRIOR</td>\n",
       "      <td>0.761188</td>\n",
       "      <td>0.163852</td>\n",
       "      <td>0.177971</td>\n",
       "      <td>3.391066e-06</td>\n",
       "      <td>0.000019</td>\n",
       "      <td>1.135040</td>\n",
       "      <td>0.043860</td>\n",
       "      <td>0.045390</td>\n",
       "    </tr>\n",
       "    <tr>\n",
       "      <th>5</th>\n",
       "      <td>ME2 PRIOR1</td>\n",
       "      <td>-0.640227</td>\n",
       "      <td>0.158517</td>\n",
       "      <td>0.160153</td>\n",
       "      <td>5.371340e-05</td>\n",
       "      <td>0.000064</td>\n",
       "      <td>1.473364</td>\n",
       "      <td>0.051260</td>\n",
       "      <td>0.055701</td>\n",
       "    </tr>\n",
       "    <tr>\n",
       "      <th>6</th>\n",
       "      <td>ME2 PRIOR2</td>\n",
       "      <td>0.044870</td>\n",
       "      <td>0.114334</td>\n",
       "      <td>0.113518</td>\n",
       "      <td>6.947301e-01</td>\n",
       "      <td>0.692646</td>\n",
       "      <td>1.137861</td>\n",
       "      <td>0.036396</td>\n",
       "      <td>0.036758</td>\n",
       "    </tr>\n",
       "    <tr>\n",
       "      <th>7</th>\n",
       "      <td>ME2 PRIOR3</td>\n",
       "      <td>0.253670</td>\n",
       "      <td>0.100867</td>\n",
       "      <td>0.101657</td>\n",
       "      <td>1.190725e-02</td>\n",
       "      <td>0.012583</td>\n",
       "      <td>1.038996</td>\n",
       "      <td>0.032709</td>\n",
       "      <td>0.033275</td>\n",
       "    </tr>\n",
       "    <tr>\n",
       "      <th>8</th>\n",
       "      <td>ME2 PRIOR4</td>\n",
       "      <td>0.396729</td>\n",
       "      <td>0.104653</td>\n",
       "      <td>0.105441</td>\n",
       "      <td>1.501024e-04</td>\n",
       "      <td>0.000168</td>\n",
       "      <td>1.064061</td>\n",
       "      <td>0.033870</td>\n",
       "      <td>0.034539</td>\n",
       "    </tr>\n",
       "    <tr>\n",
       "      <th>9</th>\n",
       "      <td>ME2 PRIOR5</td>\n",
       "      <td>0.500067</td>\n",
       "      <td>0.136657</td>\n",
       "      <td>0.139440</td>\n",
       "      <td>2.529235e-04</td>\n",
       "      <td>0.000335</td>\n",
       "      <td>1.282039</td>\n",
       "      <td>0.034326</td>\n",
       "      <td>0.036239</td>\n",
       "    </tr>\n",
       "    <tr>\n",
       "      <th>10</th>\n",
       "      <td>ME3 PRIOR1</td>\n",
       "      <td>-0.484856</td>\n",
       "      <td>0.156192</td>\n",
       "      <td>0.158166</td>\n",
       "      <td>1.907785e-03</td>\n",
       "      <td>0.002173</td>\n",
       "      <td>1.404665</td>\n",
       "      <td>0.051160</td>\n",
       "      <td>0.055315</td>\n",
       "    </tr>\n",
       "    <tr>\n",
       "      <th>11</th>\n",
       "      <td>ME3 PRIOR2</td>\n",
       "      <td>-0.010759</td>\n",
       "      <td>0.099424</td>\n",
       "      <td>0.102363</td>\n",
       "      <td>9.138256e-01</td>\n",
       "      <td>0.916290</td>\n",
       "      <td>1.128698</td>\n",
       "      <td>0.031778</td>\n",
       "      <td>0.034001</td>\n",
       "    </tr>\n",
       "    <tr>\n",
       "      <th>12</th>\n",
       "      <td>ME3 PRIOR3</td>\n",
       "      <td>0.141494</td>\n",
       "      <td>0.087542</td>\n",
       "      <td>0.090562</td>\n",
       "      <td>1.060302e-01</td>\n",
       "      <td>0.118192</td>\n",
       "      <td>1.029990</td>\n",
       "      <td>0.028839</td>\n",
       "      <td>0.030386</td>\n",
       "    </tr>\n",
       "    <tr>\n",
       "      <th>13</th>\n",
       "      <td>ME3 PRIOR4</td>\n",
       "      <td>0.181191</td>\n",
       "      <td>0.085977</td>\n",
       "      <td>0.085204</td>\n",
       "      <td>3.507891e-02</td>\n",
       "      <td>0.033457</td>\n",
       "      <td>1.017175</td>\n",
       "      <td>0.027895</td>\n",
       "      <td>0.027944</td>\n",
       "    </tr>\n",
       "    <tr>\n",
       "      <th>14</th>\n",
       "      <td>ME3 PRIOR5</td>\n",
       "      <td>0.470645</td>\n",
       "      <td>0.119008</td>\n",
       "      <td>0.120632</td>\n",
       "      <td>7.662266e-05</td>\n",
       "      <td>0.000096</td>\n",
       "      <td>1.217380</td>\n",
       "      <td>0.030611</td>\n",
       "      <td>0.032608</td>\n",
       "    </tr>\n",
       "    <tr>\n",
       "      <th>15</th>\n",
       "      <td>ME4 PRIOR1</td>\n",
       "      <td>-0.538734</td>\n",
       "      <td>0.162577</td>\n",
       "      <td>0.163486</td>\n",
       "      <td>9.206605e-04</td>\n",
       "      <td>0.000983</td>\n",
       "      <td>1.387481</td>\n",
       "      <td>0.060416</td>\n",
       "      <td>0.064547</td>\n",
       "    </tr>\n",
       "    <tr>\n",
       "      <th>16</th>\n",
       "      <td>ME4 PRIOR2</td>\n",
       "      <td>-0.009688</td>\n",
       "      <td>0.093259</td>\n",
       "      <td>0.095172</td>\n",
       "      <td>9.172641e-01</td>\n",
       "      <td>0.918921</td>\n",
       "      <td>1.123318</td>\n",
       "      <td>0.028745</td>\n",
       "      <td>0.030250</td>\n",
       "    </tr>\n",
       "    <tr>\n",
       "      <th>17</th>\n",
       "      <td>ME4 PRIOR3</td>\n",
       "      <td>0.118157</td>\n",
       "      <td>0.073124</td>\n",
       "      <td>0.076672</td>\n",
       "      <td>1.061264e-01</td>\n",
       "      <td>0.123297</td>\n",
       "      <td>1.018559</td>\n",
       "      <td>0.023533</td>\n",
       "      <td>0.024608</td>\n",
       "    </tr>\n",
       "    <tr>\n",
       "      <th>18</th>\n",
       "      <td>ME4 PRIOR4</td>\n",
       "      <td>0.211976</td>\n",
       "      <td>0.068861</td>\n",
       "      <td>0.069423</td>\n",
       "      <td>2.081790e-03</td>\n",
       "      <td>0.002263</td>\n",
       "      <td>0.996393</td>\n",
       "      <td>0.019964</td>\n",
       "      <td>0.020437</td>\n",
       "    </tr>\n",
       "    <tr>\n",
       "      <th>19</th>\n",
       "      <td>ME4 PRIOR5</td>\n",
       "      <td>0.369572</td>\n",
       "      <td>0.106828</td>\n",
       "      <td>0.103702</td>\n",
       "      <td>5.411743e-04</td>\n",
       "      <td>0.000366</td>\n",
       "      <td>1.136347</td>\n",
       "      <td>0.027461</td>\n",
       "      <td>0.028969</td>\n",
       "    </tr>\n",
       "    <tr>\n",
       "      <th>20</th>\n",
       "      <td>BIG LoPRIOR</td>\n",
       "      <td>-0.478827</td>\n",
       "      <td>0.151861</td>\n",
       "      <td>0.152037</td>\n",
       "      <td>1.615716e-03</td>\n",
       "      <td>0.001636</td>\n",
       "      <td>1.272079</td>\n",
       "      <td>0.053922</td>\n",
       "      <td>0.056779</td>\n",
       "    </tr>\n",
       "    <tr>\n",
       "      <th>21</th>\n",
       "      <td>ME5 PRIOR2</td>\n",
       "      <td>-0.028922</td>\n",
       "      <td>0.090222</td>\n",
       "      <td>0.094900</td>\n",
       "      <td>7.485387e-01</td>\n",
       "      <td>0.760546</td>\n",
       "      <td>1.006995</td>\n",
       "      <td>0.030816</td>\n",
       "      <td>0.032276</td>\n",
       "    </tr>\n",
       "    <tr>\n",
       "      <th>22</th>\n",
       "      <td>ME5 PRIOR3</td>\n",
       "      <td>-0.018951</td>\n",
       "      <td>0.057654</td>\n",
       "      <td>0.060601</td>\n",
       "      <td>7.423846e-01</td>\n",
       "      <td>0.754500</td>\n",
       "      <td>0.954607</td>\n",
       "      <td>0.015777</td>\n",
       "      <td>0.016712</td>\n",
       "    </tr>\n",
       "    <tr>\n",
       "      <th>23</th>\n",
       "      <td>ME5 PRIOR4</td>\n",
       "      <td>0.087715</td>\n",
       "      <td>0.054061</td>\n",
       "      <td>0.054012</td>\n",
       "      <td>1.046951e-01</td>\n",
       "      <td>0.104382</td>\n",
       "      <td>0.928466</td>\n",
       "      <td>0.014930</td>\n",
       "      <td>0.015746</td>\n",
       "    </tr>\n",
       "    <tr>\n",
       "      <th>24</th>\n",
       "      <td>BIG HiPRIOR</td>\n",
       "      <td>0.263959</td>\n",
       "      <td>0.095063</td>\n",
       "      <td>0.095954</td>\n",
       "      <td>5.491735e-03</td>\n",
       "      <td>0.005944</td>\n",
       "      <td>1.046790</td>\n",
       "      <td>0.026232</td>\n",
       "      <td>0.028263</td>\n",
       "    </tr>\n",
       "  </tbody>\n",
       "</table>\n",
       "</div>"
      ],
      "text/plain": [
       "        portfolio     alpha  alpha_white_error  alpha_nw_error  \\\n",
       "0   SMALL LoPRIOR -0.221397           0.222042        0.229052   \n",
       "1      ME1 PRIOR2  0.301751           0.137711        0.145561   \n",
       "2      ME1 PRIOR3  0.495185           0.128034        0.137517   \n",
       "3      ME1 PRIOR4  0.644692           0.129414        0.139841   \n",
       "4   SMALL HiPRIOR  0.761188           0.163852        0.177971   \n",
       "5      ME2 PRIOR1 -0.640227           0.158517        0.160153   \n",
       "6      ME2 PRIOR2  0.044870           0.114334        0.113518   \n",
       "7      ME2 PRIOR3  0.253670           0.100867        0.101657   \n",
       "8      ME2 PRIOR4  0.396729           0.104653        0.105441   \n",
       "9      ME2 PRIOR5  0.500067           0.136657        0.139440   \n",
       "10     ME3 PRIOR1 -0.484856           0.156192        0.158166   \n",
       "11     ME3 PRIOR2 -0.010759           0.099424        0.102363   \n",
       "12     ME3 PRIOR3  0.141494           0.087542        0.090562   \n",
       "13     ME3 PRIOR4  0.181191           0.085977        0.085204   \n",
       "14     ME3 PRIOR5  0.470645           0.119008        0.120632   \n",
       "15     ME4 PRIOR1 -0.538734           0.162577        0.163486   \n",
       "16     ME4 PRIOR2 -0.009688           0.093259        0.095172   \n",
       "17     ME4 PRIOR3  0.118157           0.073124        0.076672   \n",
       "18     ME4 PRIOR4  0.211976           0.068861        0.069423   \n",
       "19     ME4 PRIOR5  0.369572           0.106828        0.103702   \n",
       "20    BIG LoPRIOR -0.478827           0.151861        0.152037   \n",
       "21     ME5 PRIOR2 -0.028922           0.090222        0.094900   \n",
       "22     ME5 PRIOR3 -0.018951           0.057654        0.060601   \n",
       "23     ME5 PRIOR4  0.087715           0.054061        0.054012   \n",
       "24    BIG HiPRIOR  0.263959           0.095063        0.095954   \n",
       "\n",
       "    p_val_alpha_white  p_val_alpha_nw      beta  beta_white_error  \\\n",
       "0        3.187183e-01        0.333754  1.316269          0.062579   \n",
       "1        2.843839e-02        0.038170  0.992744          0.045024   \n",
       "2        1.099045e-04        0.000317  0.914649          0.041273   \n",
       "3        6.305696e-07        0.000004  0.927655          0.038936   \n",
       "4        3.391066e-06        0.000019  1.135040          0.043860   \n",
       "5        5.371340e-05        0.000064  1.473364          0.051260   \n",
       "6        6.947301e-01        0.692646  1.137861          0.036396   \n",
       "7        1.190725e-02        0.012583  1.038996          0.032709   \n",
       "8        1.501024e-04        0.000168  1.064061          0.033870   \n",
       "9        2.529235e-04        0.000335  1.282039          0.034326   \n",
       "10       1.907785e-03        0.002173  1.404665          0.051160   \n",
       "11       9.138256e-01        0.916290  1.128698          0.031778   \n",
       "12       1.060302e-01        0.118192  1.029990          0.028839   \n",
       "13       3.507891e-02        0.033457  1.017175          0.027895   \n",
       "14       7.662266e-05        0.000096  1.217380          0.030611   \n",
       "15       9.206605e-04        0.000983  1.387481          0.060416   \n",
       "16       9.172641e-01        0.918921  1.123318          0.028745   \n",
       "17       1.061264e-01        0.123297  1.018559          0.023533   \n",
       "18       2.081790e-03        0.002263  0.996393          0.019964   \n",
       "19       5.411743e-04        0.000366  1.136347          0.027461   \n",
       "20       1.615716e-03        0.001636  1.272079          0.053922   \n",
       "21       7.485387e-01        0.760546  1.006995          0.030816   \n",
       "22       7.423846e-01        0.754500  0.954607          0.015777   \n",
       "23       1.046951e-01        0.104382  0.928466          0.014930   \n",
       "24       5.491735e-03        0.005944  1.046790          0.026232   \n",
       "\n",
       "    beta_nw_error  \n",
       "0        0.066611  \n",
       "1        0.046909  \n",
       "2        0.041795  \n",
       "3        0.039855  \n",
       "4        0.045390  \n",
       "5        0.055701  \n",
       "6        0.036758  \n",
       "7        0.033275  \n",
       "8        0.034539  \n",
       "9        0.036239  \n",
       "10       0.055315  \n",
       "11       0.034001  \n",
       "12       0.030386  \n",
       "13       0.027944  \n",
       "14       0.032608  \n",
       "15       0.064547  \n",
       "16       0.030250  \n",
       "17       0.024608  \n",
       "18       0.020437  \n",
       "19       0.028969  \n",
       "20       0.056779  \n",
       "21       0.032276  \n",
       "22       0.016712  \n",
       "23       0.015746  \n",
       "24       0.028263  "
      ]
     },
     "execution_count": 209,
     "metadata": {},
     "output_type": "execute_result"
    }
   ],
   "source": [
    "import statsmodels.api as sm\n",
    "data = {\"portfolio\": [],\"alpha\": [],\"alpha_white_error\":[],\"alpha_nw_error\": [],\"p_val_alpha_white\":[], \"p_val_alpha_nw\": [],\"beta\":[],\"beta_white_error\":[],\"beta_nw_error\": []}\n",
    "for col in list(train_data.columns):\n",
    "    Y = train_data[col]-risk_free\n",
    "    X = market_prem\n",
    "    X = sm.add_constant(X)\n",
    "    model = sm.OLS(Y,X)\n",
    "    results = model.fit(cov_type='HC3')\n",
    "    data[\"portfolio\"].append(col)\n",
    "    data[\"alpha\"].append(results.params[\"const\"])\n",
    "    data[\"beta\"].append(results.params[\"Mkt-RF\"])\n",
    "    data[\"alpha_white_error\"].append(results.bse[\"const\"])\n",
    "    data[\"beta_white_error\"].append(results.bse[\"Mkt-RF\"])\n",
    "    data[\"p_val_alpha_white\"].append(results.pvalues[\"const\"])\n",
    "    nw_results = sm.OLS(Y,X).fit(cov_type='HAC',cov_kwds={'maxlags':1})\n",
    "    data[\"alpha_nw_error\"].append(nw_results.bse[\"const\"])\n",
    "    data[\"beta_nw_error\"].append(nw_results.bse[\"Mkt-RF\"])\n",
    "    data[\"p_val_alpha_nw\"].append(nw_results.pvalues[\"const\"])    \n",
    "stats = pd.DataFrame(data=data)\n",
    "stats"
   ]
  },
  {
   "cell_type": "markdown",
   "id": "16d9258b-483e-40f8-be0c-7892694f4216",
   "metadata": {},
   "source": [
    "We could observe that $\\alpha$ is not close to 0 for which the $\\beta$ is biased. "
   ]
  },
  {
   "cell_type": "markdown",
   "id": "7a139f81-5a2f-4fde-ab4d-f32307b161ae",
   "metadata": {},
   "source": [
    "(b)"
   ]
  },
  {
   "cell_type": "code",
   "execution_count": 238,
   "id": "0eafd04b-7508-47cd-a394-e6c5b6f28e21",
   "metadata": {},
   "outputs": [
    {
     "data": {
      "text/html": [
       "<div>\n",
       "<style scoped>\n",
       "    .dataframe tbody tr th:only-of-type {\n",
       "        vertical-align: middle;\n",
       "    }\n",
       "\n",
       "    .dataframe tbody tr th {\n",
       "        vertical-align: top;\n",
       "    }\n",
       "\n",
       "    .dataframe thead th {\n",
       "        text-align: right;\n",
       "    }\n",
       "</style>\n",
       "<table border=\"1\" class=\"dataframe\">\n",
       "  <thead>\n",
       "    <tr style=\"text-align: right;\">\n",
       "      <th></th>\n",
       "      <th>portfolio</th>\n",
       "      <th>p_val_alpha_white</th>\n",
       "      <th>t_alpha_white</th>\n",
       "      <th>alpha significant?</th>\n",
       "    </tr>\n",
       "  </thead>\n",
       "  <tbody>\n",
       "    <tr>\n",
       "      <th>0</th>\n",
       "      <td>SMALL LoPRIOR</td>\n",
       "      <td>3.187183e-01</td>\n",
       "      <td>-0.997095</td>\n",
       "      <td>False</td>\n",
       "    </tr>\n",
       "    <tr>\n",
       "      <th>1</th>\n",
       "      <td>ME1 PRIOR2</td>\n",
       "      <td>2.843839e-02</td>\n",
       "      <td>2.191185</td>\n",
       "      <td>True</td>\n",
       "    </tr>\n",
       "    <tr>\n",
       "      <th>2</th>\n",
       "      <td>ME1 PRIOR3</td>\n",
       "      <td>1.099045e-04</td>\n",
       "      <td>3.867616</td>\n",
       "      <td>True</td>\n",
       "    </tr>\n",
       "    <tr>\n",
       "      <th>3</th>\n",
       "      <td>ME1 PRIOR4</td>\n",
       "      <td>6.305696e-07</td>\n",
       "      <td>4.981611</td>\n",
       "      <td>True</td>\n",
       "    </tr>\n",
       "    <tr>\n",
       "      <th>4</th>\n",
       "      <td>SMALL HiPRIOR</td>\n",
       "      <td>3.391066e-06</td>\n",
       "      <td>4.645590</td>\n",
       "      <td>True</td>\n",
       "    </tr>\n",
       "    <tr>\n",
       "      <th>5</th>\n",
       "      <td>ME2 PRIOR1</td>\n",
       "      <td>5.371340e-05</td>\n",
       "      <td>-4.038852</td>\n",
       "      <td>True</td>\n",
       "    </tr>\n",
       "    <tr>\n",
       "      <th>6</th>\n",
       "      <td>ME2 PRIOR2</td>\n",
       "      <td>6.947301e-01</td>\n",
       "      <td>0.392444</td>\n",
       "      <td>False</td>\n",
       "    </tr>\n",
       "    <tr>\n",
       "      <th>7</th>\n",
       "      <td>ME2 PRIOR3</td>\n",
       "      <td>1.190725e-02</td>\n",
       "      <td>2.514881</td>\n",
       "      <td>True</td>\n",
       "    </tr>\n",
       "    <tr>\n",
       "      <th>8</th>\n",
       "      <td>ME2 PRIOR4</td>\n",
       "      <td>1.501024e-04</td>\n",
       "      <td>3.790900</td>\n",
       "      <td>True</td>\n",
       "    </tr>\n",
       "    <tr>\n",
       "      <th>9</th>\n",
       "      <td>ME2 PRIOR5</td>\n",
       "      <td>2.529235e-04</td>\n",
       "      <td>3.659281</td>\n",
       "      <td>True</td>\n",
       "    </tr>\n",
       "    <tr>\n",
       "      <th>10</th>\n",
       "      <td>ME3 PRIOR1</td>\n",
       "      <td>1.907785e-03</td>\n",
       "      <td>-3.104224</td>\n",
       "      <td>True</td>\n",
       "    </tr>\n",
       "    <tr>\n",
       "      <th>11</th>\n",
       "      <td>ME3 PRIOR2</td>\n",
       "      <td>9.138256e-01</td>\n",
       "      <td>-0.108214</td>\n",
       "      <td>False</td>\n",
       "    </tr>\n",
       "    <tr>\n",
       "      <th>12</th>\n",
       "      <td>ME3 PRIOR3</td>\n",
       "      <td>1.060302e-01</td>\n",
       "      <td>1.616296</td>\n",
       "      <td>False</td>\n",
       "    </tr>\n",
       "    <tr>\n",
       "      <th>13</th>\n",
       "      <td>ME3 PRIOR4</td>\n",
       "      <td>3.507891e-02</td>\n",
       "      <td>2.107446</td>\n",
       "      <td>True</td>\n",
       "    </tr>\n",
       "    <tr>\n",
       "      <th>14</th>\n",
       "      <td>ME3 PRIOR5</td>\n",
       "      <td>7.662266e-05</td>\n",
       "      <td>3.954725</td>\n",
       "      <td>True</td>\n",
       "    </tr>\n",
       "    <tr>\n",
       "      <th>15</th>\n",
       "      <td>ME4 PRIOR1</td>\n",
       "      <td>9.206605e-04</td>\n",
       "      <td>-3.313713</td>\n",
       "      <td>True</td>\n",
       "    </tr>\n",
       "    <tr>\n",
       "      <th>16</th>\n",
       "      <td>ME4 PRIOR2</td>\n",
       "      <td>9.172641e-01</td>\n",
       "      <td>-0.103881</td>\n",
       "      <td>False</td>\n",
       "    </tr>\n",
       "    <tr>\n",
       "      <th>17</th>\n",
       "      <td>ME4 PRIOR3</td>\n",
       "      <td>1.061264e-01</td>\n",
       "      <td>1.615852</td>\n",
       "      <td>False</td>\n",
       "    </tr>\n",
       "    <tr>\n",
       "      <th>18</th>\n",
       "      <td>ME4 PRIOR4</td>\n",
       "      <td>2.081790e-03</td>\n",
       "      <td>3.078309</td>\n",
       "      <td>True</td>\n",
       "    </tr>\n",
       "    <tr>\n",
       "      <th>19</th>\n",
       "      <td>ME4 PRIOR5</td>\n",
       "      <td>5.411743e-04</td>\n",
       "      <td>3.459502</td>\n",
       "      <td>True</td>\n",
       "    </tr>\n",
       "    <tr>\n",
       "      <th>20</th>\n",
       "      <td>BIG LoPRIOR</td>\n",
       "      <td>1.615716e-03</td>\n",
       "      <td>-3.153055</td>\n",
       "      <td>True</td>\n",
       "    </tr>\n",
       "    <tr>\n",
       "      <th>21</th>\n",
       "      <td>ME5 PRIOR2</td>\n",
       "      <td>7.485387e-01</td>\n",
       "      <td>-0.320567</td>\n",
       "      <td>False</td>\n",
       "    </tr>\n",
       "    <tr>\n",
       "      <th>22</th>\n",
       "      <td>ME5 PRIOR3</td>\n",
       "      <td>7.423846e-01</td>\n",
       "      <td>-0.328697</td>\n",
       "      <td>False</td>\n",
       "    </tr>\n",
       "    <tr>\n",
       "      <th>23</th>\n",
       "      <td>ME5 PRIOR4</td>\n",
       "      <td>1.046951e-01</td>\n",
       "      <td>1.622506</td>\n",
       "      <td>False</td>\n",
       "    </tr>\n",
       "    <tr>\n",
       "      <th>24</th>\n",
       "      <td>BIG HiPRIOR</td>\n",
       "      <td>5.491735e-03</td>\n",
       "      <td>2.776679</td>\n",
       "      <td>True</td>\n",
       "    </tr>\n",
       "  </tbody>\n",
       "</table>\n",
       "</div>"
      ],
      "text/plain": [
       "        portfolio  p_val_alpha_white  t_alpha_white  alpha significant?\n",
       "0   SMALL LoPRIOR       3.187183e-01      -0.997095               False\n",
       "1      ME1 PRIOR2       2.843839e-02       2.191185                True\n",
       "2      ME1 PRIOR3       1.099045e-04       3.867616                True\n",
       "3      ME1 PRIOR4       6.305696e-07       4.981611                True\n",
       "4   SMALL HiPRIOR       3.391066e-06       4.645590                True\n",
       "5      ME2 PRIOR1       5.371340e-05      -4.038852                True\n",
       "6      ME2 PRIOR2       6.947301e-01       0.392444               False\n",
       "7      ME2 PRIOR3       1.190725e-02       2.514881                True\n",
       "8      ME2 PRIOR4       1.501024e-04       3.790900                True\n",
       "9      ME2 PRIOR5       2.529235e-04       3.659281                True\n",
       "10     ME3 PRIOR1       1.907785e-03      -3.104224                True\n",
       "11     ME3 PRIOR2       9.138256e-01      -0.108214               False\n",
       "12     ME3 PRIOR3       1.060302e-01       1.616296               False\n",
       "13     ME3 PRIOR4       3.507891e-02       2.107446                True\n",
       "14     ME3 PRIOR5       7.662266e-05       3.954725                True\n",
       "15     ME4 PRIOR1       9.206605e-04      -3.313713                True\n",
       "16     ME4 PRIOR2       9.172641e-01      -0.103881               False\n",
       "17     ME4 PRIOR3       1.061264e-01       1.615852               False\n",
       "18     ME4 PRIOR4       2.081790e-03       3.078309                True\n",
       "19     ME4 PRIOR5       5.411743e-04       3.459502                True\n",
       "20    BIG LoPRIOR       1.615716e-03      -3.153055                True\n",
       "21     ME5 PRIOR2       7.485387e-01      -0.320567               False\n",
       "22     ME5 PRIOR3       7.423846e-01      -0.328697               False\n",
       "23     ME5 PRIOR4       1.046951e-01       1.622506               False\n",
       "24    BIG HiPRIOR       5.491735e-03       2.776679                True"
      ]
     },
     "execution_count": 238,
     "metadata": {},
     "output_type": "execute_result"
    }
   ],
   "source": [
    "stats[\"t_alpha_white\"] = stats[\"alpha\"] / stats[\"alpha_white_error\"]\n",
    "stats[\"alpha significant?\"] = stats[\"p_val_alpha_white\"].apply(lambda x: x < 0.05)\n",
    "stats[[\"portfolio\", \"p_val_alpha_white\", \"t_alpha_white\", \"alpha significant?\"]]"
   ]
  },
  {
   "cell_type": "code",
   "execution_count": 239,
   "id": "fe899757-f6c0-41a3-9b2e-68624a245331",
   "metadata": {},
   "outputs": [
    {
     "data": {
      "text/plain": [
       "<Axes: >"
      ]
     },
     "execution_count": 239,
     "metadata": {},
     "output_type": "execute_result"
    },
    {
     "data": {
      "image/png": "[encoded data removed]",
      "text/plain": [
       "<Figure size 800x550 with 1 Axes>"
      ]
     },
     "metadata": {},
     "output_type": "display_data"
    }
   ],
   "source": [
    "stats[\"alpha\"].hist()"
   ]
  },
  {
   "cell_type": "markdown",
   "id": "388a8298-ccf0-4046-80a9-a474a0f13465",
   "metadata": {},
   "source": [
    "We could see that in most cases, $\\alpha$ is significant which makes $\\beta$ estimation biased. 16 out of 25 portfolios have significant $\\alpha$, whose pricing errors matter when regression. And many pricing errors fall on the positive side. It might be due to idiosyncratice factors which cannot be captured by CAPM only."
   ]
  },
  {
   "cell_type": "markdown",
   "id": "1faf46fa-8850-41f8-b3d4-a2887e813a14",
   "metadata": {},
   "source": [
    "(c)"
   ]
  },
  {
   "cell_type": "code",
   "execution_count": 218,
   "id": "5ebc17a2-05ab-48e8-a535-5a66f76add3d",
   "metadata": {},
   "outputs": [
    {
     "data": {
      "image/png": "[encoded data removed]",
      "text/plain": [
       "<Figure size 800x550 with 1 Axes>"
      ]
     },
     "metadata": {},
     "output_type": "display_data"
    }
   ],
   "source": [
    "import numpy as np\n",
    "mean_fitted = []\n",
    "mean_actual = []\n",
    "for col in list(train_data.columns):\n",
    "    Y = train_data[col]-risk_free\n",
    "    X = market_prem\n",
    "    mean_fitted.append(stats.loc[stats[\"portfolio\"]==col, \"alpha\"] + stats.loc[stats[\"portfolio\"]==col, \"beta\"] * np.mean(X))\n",
    "    mean_actual.append(np.mean(Y))\n",
    "plt.scatter(mean_fitted, mean_actual)\n",
    "plt.xlabel(\"fitted mean excess return\")\n",
    "plt.ylabel(\"actual mean excess return\")\n",
    "plt.title(\"actual vs. fitted mean excess return\")\n",
    "plt.show()"
   ]
  },
  {
   "cell_type": "markdown",
   "id": "733bff15-fe66-4d3a-b2ea-b1ec3073d2fb",
   "metadata": {},
   "source": [
    "We could see that actual and fitted mean excess return are the same for each portfolio. This is consistent with the fact that $\\bar{r_i^e}=\\hat{\\alpha}+\\hat{\\beta}\\bar{r_m^e}$."
   ]
  },
  {
   "cell_type": "markdown",
   "id": "a558fa7d-2d66-4499-8b42-90032a7e916c",
   "metadata": {},
   "source": [
    "(d)"
   ]
  },
  {
   "cell_type": "code",
   "execution_count": 237,
   "id": "88300e11-90e3-4074-b719-177a353fb046",
   "metadata": {},
   "outputs": [
    {
     "data": {
      "text/html": [
       "<div>\n",
       "<style scoped>\n",
       "    .dataframe tbody tr th:only-of-type {\n",
       "        vertical-align: middle;\n",
       "    }\n",
       "\n",
       "    .dataframe tbody tr th {\n",
       "        vertical-align: top;\n",
       "    }\n",
       "\n",
       "    .dataframe thead th {\n",
       "        text-align: right;\n",
       "    }\n",
       "</style>\n",
       "<table border=\"1\" class=\"dataframe\">\n",
       "  <thead>\n",
       "    <tr style=\"text-align: right;\">\n",
       "      <th></th>\n",
       "      <th>portfolio</th>\n",
       "      <th>p_val_alpha_white</th>\n",
       "      <th>t_alpha_white</th>\n",
       "      <th>alpha significant? 95%</th>\n",
       "    </tr>\n",
       "  </thead>\n",
       "  <tbody>\n",
       "    <tr>\n",
       "      <th>0</th>\n",
       "      <td>SMALL LoPRIOR</td>\n",
       "      <td>3.187183e-01</td>\n",
       "      <td>-0.997095</td>\n",
       "      <td>False</td>\n",
       "    </tr>\n",
       "    <tr>\n",
       "      <th>1</th>\n",
       "      <td>ME1 PRIOR2</td>\n",
       "      <td>2.843839e-02</td>\n",
       "      <td>2.191185</td>\n",
       "      <td>True</td>\n",
       "    </tr>\n",
       "    <tr>\n",
       "      <th>2</th>\n",
       "      <td>ME1 PRIOR3</td>\n",
       "      <td>1.099045e-04</td>\n",
       "      <td>3.867616</td>\n",
       "      <td>True</td>\n",
       "    </tr>\n",
       "    <tr>\n",
       "      <th>3</th>\n",
       "      <td>ME1 PRIOR4</td>\n",
       "      <td>6.305696e-07</td>\n",
       "      <td>4.981611</td>\n",
       "      <td>True</td>\n",
       "    </tr>\n",
       "    <tr>\n",
       "      <th>4</th>\n",
       "      <td>SMALL HiPRIOR</td>\n",
       "      <td>3.391066e-06</td>\n",
       "      <td>4.645590</td>\n",
       "      <td>True</td>\n",
       "    </tr>\n",
       "    <tr>\n",
       "      <th>5</th>\n",
       "      <td>ME2 PRIOR1</td>\n",
       "      <td>5.371340e-05</td>\n",
       "      <td>-4.038852</td>\n",
       "      <td>True</td>\n",
       "    </tr>\n",
       "    <tr>\n",
       "      <th>6</th>\n",
       "      <td>ME2 PRIOR2</td>\n",
       "      <td>6.947301e-01</td>\n",
       "      <td>0.392444</td>\n",
       "      <td>False</td>\n",
       "    </tr>\n",
       "    <tr>\n",
       "      <th>7</th>\n",
       "      <td>ME2 PRIOR3</td>\n",
       "      <td>1.190725e-02</td>\n",
       "      <td>2.514881</td>\n",
       "      <td>True</td>\n",
       "    </tr>\n",
       "    <tr>\n",
       "      <th>8</th>\n",
       "      <td>ME2 PRIOR4</td>\n",
       "      <td>1.501024e-04</td>\n",
       "      <td>3.790900</td>\n",
       "      <td>True</td>\n",
       "    </tr>\n",
       "    <tr>\n",
       "      <th>9</th>\n",
       "      <td>ME2 PRIOR5</td>\n",
       "      <td>2.529235e-04</td>\n",
       "      <td>3.659281</td>\n",
       "      <td>True</td>\n",
       "    </tr>\n",
       "    <tr>\n",
       "      <th>10</th>\n",
       "      <td>ME3 PRIOR1</td>\n",
       "      <td>1.907785e-03</td>\n",
       "      <td>-3.104224</td>\n",
       "      <td>True</td>\n",
       "    </tr>\n",
       "    <tr>\n",
       "      <th>11</th>\n",
       "      <td>ME3 PRIOR2</td>\n",
       "      <td>9.138256e-01</td>\n",
       "      <td>-0.108214</td>\n",
       "      <td>False</td>\n",
       "    </tr>\n",
       "    <tr>\n",
       "      <th>12</th>\n",
       "      <td>ME3 PRIOR3</td>\n",
       "      <td>1.060302e-01</td>\n",
       "      <td>1.616296</td>\n",
       "      <td>False</td>\n",
       "    </tr>\n",
       "    <tr>\n",
       "      <th>13</th>\n",
       "      <td>ME3 PRIOR4</td>\n",
       "      <td>3.507891e-02</td>\n",
       "      <td>2.107446</td>\n",
       "      <td>True</td>\n",
       "    </tr>\n",
       "    <tr>\n",
       "      <th>14</th>\n",
       "      <td>ME3 PRIOR5</td>\n",
       "      <td>7.662266e-05</td>\n",
       "      <td>3.954725</td>\n",
       "      <td>True</td>\n",
       "    </tr>\n",
       "    <tr>\n",
       "      <th>15</th>\n",
       "      <td>ME4 PRIOR1</td>\n",
       "      <td>9.206605e-04</td>\n",
       "      <td>-3.313713</td>\n",
       "      <td>True</td>\n",
       "    </tr>\n",
       "    <tr>\n",
       "      <th>16</th>\n",
       "      <td>ME4 PRIOR2</td>\n",
       "      <td>9.172641e-01</td>\n",
       "      <td>-0.103881</td>\n",
       "      <td>False</td>\n",
       "    </tr>\n",
       "    <tr>\n",
       "      <th>17</th>\n",
       "      <td>ME4 PRIOR3</td>\n",
       "      <td>1.061264e-01</td>\n",
       "      <td>1.615852</td>\n",
       "      <td>False</td>\n",
       "    </tr>\n",
       "    <tr>\n",
       "      <th>18</th>\n",
       "      <td>ME4 PRIOR4</td>\n",
       "      <td>2.081790e-03</td>\n",
       "      <td>3.078309</td>\n",
       "      <td>True</td>\n",
       "    </tr>\n",
       "    <tr>\n",
       "      <th>19</th>\n",
       "      <td>ME4 PRIOR5</td>\n",
       "      <td>5.411743e-04</td>\n",
       "      <td>3.459502</td>\n",
       "      <td>True</td>\n",
       "    </tr>\n",
       "    <tr>\n",
       "      <th>20</th>\n",
       "      <td>BIG LoPRIOR</td>\n",
       "      <td>1.615716e-03</td>\n",
       "      <td>-3.153055</td>\n",
       "      <td>True</td>\n",
       "    </tr>\n",
       "    <tr>\n",
       "      <th>21</th>\n",
       "      <td>ME5 PRIOR2</td>\n",
       "      <td>7.485387e-01</td>\n",
       "      <td>-0.320567</td>\n",
       "      <td>False</td>\n",
       "    </tr>\n",
       "    <tr>\n",
       "      <th>22</th>\n",
       "      <td>ME5 PRIOR3</td>\n",
       "      <td>7.423846e-01</td>\n",
       "      <td>-0.328697</td>\n",
       "      <td>False</td>\n",
       "    </tr>\n",
       "    <tr>\n",
       "      <th>23</th>\n",
       "      <td>ME5 PRIOR4</td>\n",
       "      <td>1.046951e-01</td>\n",
       "      <td>1.622506</td>\n",
       "      <td>False</td>\n",
       "    </tr>\n",
       "    <tr>\n",
       "      <th>24</th>\n",
       "      <td>BIG HiPRIOR</td>\n",
       "      <td>5.491735e-03</td>\n",
       "      <td>2.776679</td>\n",
       "      <td>True</td>\n",
       "    </tr>\n",
       "  </tbody>\n",
       "</table>\n",
       "</div>"
      ],
      "text/plain": [
       "        portfolio  p_val_alpha_white  t_alpha_white  alpha significant? 95%\n",
       "0   SMALL LoPRIOR       3.187183e-01      -0.997095                   False\n",
       "1      ME1 PRIOR2       2.843839e-02       2.191185                    True\n",
       "2      ME1 PRIOR3       1.099045e-04       3.867616                    True\n",
       "3      ME1 PRIOR4       6.305696e-07       4.981611                    True\n",
       "4   SMALL HiPRIOR       3.391066e-06       4.645590                    True\n",
       "5      ME2 PRIOR1       5.371340e-05      -4.038852                    True\n",
       "6      ME2 PRIOR2       6.947301e-01       0.392444                   False\n",
       "7      ME2 PRIOR3       1.190725e-02       2.514881                    True\n",
       "8      ME2 PRIOR4       1.501024e-04       3.790900                    True\n",
       "9      ME2 PRIOR5       2.529235e-04       3.659281                    True\n",
       "10     ME3 PRIOR1       1.907785e-03      -3.104224                    True\n",
       "11     ME3 PRIOR2       9.138256e-01      -0.108214                   False\n",
       "12     ME3 PRIOR3       1.060302e-01       1.616296                   False\n",
       "13     ME3 PRIOR4       3.507891e-02       2.107446                    True\n",
       "14     ME3 PRIOR5       7.662266e-05       3.954725                    True\n",
       "15     ME4 PRIOR1       9.206605e-04      -3.313713                    True\n",
       "16     ME4 PRIOR2       9.172641e-01      -0.103881                   False\n",
       "17     ME4 PRIOR3       1.061264e-01       1.615852                   False\n",
       "18     ME4 PRIOR4       2.081790e-03       3.078309                    True\n",
       "19     ME4 PRIOR5       5.411743e-04       3.459502                    True\n",
       "20    BIG LoPRIOR       1.615716e-03      -3.153055                    True\n",
       "21     ME5 PRIOR2       7.485387e-01      -0.320567                   False\n",
       "22     ME5 PRIOR3       7.423846e-01      -0.328697                   False\n",
       "23     ME5 PRIOR4       1.046951e-01       1.622506                   False\n",
       "24    BIG HiPRIOR       5.491735e-03       2.776679                    True"
      ]
     },
     "execution_count": 237,
     "metadata": {},
     "output_type": "execute_result"
    }
   ],
   "source": [
    "stats[\"t_alpha_white\"] = stats[\"alpha\"] / stats[\"alpha_white_error\"]\n",
    "stats[\"alpha significant? 95%\"] = stats[\"p_val_alpha_white\"].apply(lambda x: x < 0.05)\n",
    "stats[[\"portfolio\", \"p_val_alpha_white\", \"t_alpha_white\", \"alpha significant? 95%\"]]"
   ]
  },
  {
   "cell_type": "markdown",
   "id": "b18f4a12-5bde-48a4-b33f-f8c76eb82c54",
   "metadata": {},
   "source": [
    "(e)"
   ]
  },
  {
   "cell_type": "code",
   "execution_count": 240,
   "id": "327c1721-2fef-4bdb-b582-2aea9be9a0a3",
   "metadata": {},
   "outputs": [],
   "source": [
    "errors = []\n",
    "for col in list(train_data.columns):\n",
    "    Y = np.array(train_data[col]-risk_free)\n",
    "    X = np.array(market_prem)\n",
    "    error = Y - (stats.loc[stats[\"portfolio\"]==col, \"alpha\"].iloc[0] + stats.loc[stats[\"portfolio\"]==col, \"beta\"].iloc[0] * X)\n",
    "    errors.append(list(error))\n",
    "\n",
    "cov_matrix = np.cov(errors)"
   ]
  },
  {
   "cell_type": "code",
   "execution_count": 241,
   "id": "626f8f22-e001-42b5-a6cb-b96cf351a39e",
   "metadata": {},
   "outputs": [
    {
     "name": "stdout",
     "output_type": "stream",
     "text": [
      "GRS: 123.84360604410851\n"
     ]
    }
   ],
   "source": [
    "market_sr = np.mean(market_prem)/np.std(market_prem)\n",
    "GRS = np.dot(np.dot(np.array(stats[\"alpha\"]).reshape((1,25)), np.linalg.inv(cov_matrix)), np.array(stats[\"alpha\"]).reshape((25, 1)))/(1+market_sr**2)*len(train_data)\n",
    "print(\"GRS:\", GRS[0,0])"
   ]
  },
  {
   "cell_type": "code",
   "execution_count": 242,
   "id": "02468955-c60b-4716-8de2-44d028649fa6",
   "metadata": {},
   "outputs": [
    {
     "name": "stdout",
     "output_type": "stream",
     "text": [
      "Chi-squared test: p-val= 4.6629367034256575e-15\n"
     ]
    }
   ],
   "source": [
    "from scipy.stats import chi2\n",
    "df = 25\n",
    "print(\"Chi-squared test: p-val=\", 1-chi2.cdf(GRS[0,0], 25, loc=0, scale=1))"
   ]
  },
  {
   "cell_type": "markdown",
   "id": "6123ecb0-59e8-4a03-b975-d78d1f636860",
   "metadata": {},
   "source": [
    "We could see that $H_0$ is rejected at 1% significance level, so not all pricing errors could be zeros at the same time."
   ]
  },
  {
   "cell_type": "markdown",
   "id": "67f0ffc0-a00f-4ca5-b4dc-abf66c7b850e",
   "metadata": {},
   "source": [
    "(f)"
   ]
  },
  {
   "cell_type": "code",
   "execution_count": 243,
   "id": "a6275a9b-2033-4fb2-89d4-74b3da04fbe3",
   "metadata": {},
   "outputs": [
    {
     "name": "stderr",
     "output_type": "stream",
     "text": [
      "/Users/nymphqiu/anaconda3/envs/mfe230e/lib/python3.11/site-packages/cvxpy/reductions/solvers/solving_chain.py:336: FutureWarning: \n",
      "    Your problem is being solved with the ECOS solver by default. Starting in \n",
      "    CVXPY 1.5.0, Clarabel will be used as the default solver instead. To continue \n",
      "    using ECOS, specify the ECOS solver explicitly using the ``solver=cp.ECOS`` \n",
      "    argument to the ``problem.solve`` method.\n",
      "    \n",
      "  warnings.warn(ECOS_DEPRECATION_MSG, FutureWarning)\n"
     ]
    },
    {
     "data": {
      "image/png": "[encoded data removed]",
      "text/plain": [
       "<Figure size 800x550 with 1 Axes>"
      ]
     },
     "metadata": {},
     "output_type": "display_data"
    }
   ],
   "source": [
    "from pypfopt.efficient_frontier import EfficientFrontier\n",
    "from pypfopt import plotting\n",
    "ef = EfficientFrontier(np.mean(np.array(train_data).T, axis=1), np.cov(np.array(train_data).T), weight_bounds=(None, None))\n",
    "fig, ax = plt.subplots()\n",
    "plotting.plot_efficient_frontier(ef, ax=ax, show_assets=True)\n",
    "x = np.linspace(0, 30, 500)\n",
    "plt.plot(x, [np.mean(risk_free)+np.mean(market_prem)/np.std(market_prem)*i for i in x], linestyle='-', color='red', label='CML')\n",
    "plt.show()"
   ]
  },
  {
   "cell_type": "markdown",
   "id": "ee3f194c-1f57-4440-bfce-6b8de5e32219",
   "metadata": {},
   "source": [
    "We could observe that efficient frontier formed by 25 portfolios is above CML which shows that pricing errors do exist."
   ]
  },
  {
   "cell_type": "markdown",
   "id": "43f7c583-e973-488b-8202-53ae9a8dbbc2",
   "metadata": {},
   "source": [
    "(g)"
   ]
  },
  {
   "cell_type": "code",
   "execution_count": 244,
   "id": "8e30b88c-c324-4c53-9e26-ab9dbbdb3a91",
   "metadata": {},
   "outputs": [],
   "source": [
    "test_data = portfolio[0]"
   ]
  },
  {
   "cell_type": "code",
   "execution_count": 245,
   "id": "053fdbb1-bfd7-4f4f-93fb-a73396ed7c75",
   "metadata": {},
   "outputs": [
    {
     "data": {
      "text/plain": [
       "0    -0.302455\n",
       "1     0.470597\n",
       "2     0.715940\n",
       "3     0.855145\n",
       "4     1.004128\n",
       "5    -0.272151\n",
       "6     0.408070\n",
       "7     0.607035\n",
       "8     0.753240\n",
       "9     0.852567\n",
       "10   -0.136930\n",
       "11    0.350477\n",
       "12    0.508239\n",
       "13    0.540285\n",
       "14    0.820824\n",
       "15   -0.170232\n",
       "16    0.367524\n",
       "17    0.471880\n",
       "18    0.578528\n",
       "19    0.737580\n",
       "20   -0.089418\n",
       "21    0.323880\n",
       "22    0.297395\n",
       "23    0.428621\n",
       "24    0.584179\n",
       "Name: beta, dtype: float64"
      ]
     },
     "execution_count": 245,
     "metadata": {},
     "output_type": "execute_result"
    }
   ],
   "source": [
    "test_mu, test_var = np.mean(np.array(test_data).T, axis=1), np.cov(np.array(test_data).T)\n",
    "pricing_errors = test_mu - stats[\"beta\"] * np.mean(market_prem)\n",
    "pricing_errors"
   ]
  },
  {
   "cell_type": "code",
   "execution_count": 246,
   "id": "9db707a1-21cb-496f-855a-edb1d32351fe",
   "metadata": {},
   "outputs": [
    {
     "name": "stdout",
     "output_type": "stream",
     "text": [
      "GRS: 129.02543537041757\n",
      "Chi-squared test: p-val= 5.551115123125783e-16\n"
     ]
    }
   ],
   "source": [
    "errors = []\n",
    "for col in list(test_data.columns):\n",
    "    Y = np.array(test_data[col]-risk_free)\n",
    "    X = np.array(market_prem)\n",
    "    error = Y - (stats.loc[stats[\"portfolio\"]==col, \"alpha\"].iloc[0] + stats.loc[stats[\"portfolio\"]==col, \"beta\"].iloc[0] * X)\n",
    "    errors.append(list(error))\n",
    "\n",
    "cov_matrix = np.cov(errors)\n",
    "market_sr = np.mean(market_prem)/np.std(market_prem)\n",
    "GRS = np.dot(np.dot(np.array(stats[\"alpha\"]).reshape((1,25)), np.linalg.inv(cov_matrix)), np.array(stats[\"alpha\"]).reshape((25, 1)))/(1+market_sr**2)*len(train_data)\n",
    "print(\"GRS:\", GRS[0,0])\n",
    "df = 25\n",
    "print(\"Chi-squared test: p-val=\", 1-chi2.cdf(GRS[0,0], 25, loc=0, scale=1))"
   ]
  },
  {
   "cell_type": "markdown",
   "id": "3caafca4-d5e7-490c-8309-1612f438a518",
   "metadata": {},
   "source": [
    "We could see that the pricing errors are big for which CAPM cannot hold in this case."
   ]
  },
  {
   "cell_type": "code",
   "execution_count": null,
   "id": "71de6667-b229-427a-a413-7c01d0981cfe",
   "metadata": {},
   "outputs": [],
   "source": []
  }
 ],
 "metadata": {
  "kernelspec": {
   "display_name": "mfe230e",
   "language": "python",
   "name": "mfe230e"
  },
  "language_info": {
   "codemirror_mode": {
    "name": "ipython",
    "version": 3
   },
   "file_extension": ".py",
   "mimetype": "text/x-python",
   "name": "python",
   "nbconvert_exporter": "python",
   "pygments_lexer": "ipython3",
   "version": "3.11.8"
  }
 },
 "nbformat": 4,
 "nbformat_minor": 5
}
