{
 "cells": [
  {
   "cell_type": "code",
   "execution_count": 3,
   "id": "d23a2148-dfcc-4a71-927c-90af902d1c0c",
   "metadata": {},
   "outputs": [],
   "source": [
    "import pandas as pd\n",
    "import pandas_datareader.data as web\n",
    "from datetime import datetime\n",
    "import matplotlib.pyplot as plt\n",
    "import yfinance as yf\n",
    "import numpy as np\n",
    "from statsmodels.graphics.tsaplots import plot_acf, plot_pacf\n",
    "from statsmodels.tsa.stattools import acf\n",
    "from arch import arch_model"
   ]
  },
  {
   "cell_type": "code",
   "execution_count": 5,
   "id": "414f8f76-de5e-4413-bf40-44f3e2edfd0e",
   "metadata": {},
   "outputs": [
    {
     "name": "stderr",
     "output_type": "stream",
     "text": [
      "[*********************100%%**********************]  1 of 1 completed\n",
      "[*********************100%%**********************]  1 of 1 completed\n",
      "/tmp/ipykernel_34835/295261138.py:10: FutureWarning: 'M' is deprecated and will be removed in a future version, please use 'ME' instead.\n",
      "  monthly_sp500 = sp500.resample('M').last()\n",
      "/tmp/ipykernel_34835/295261138.py:11: FutureWarning: 'M' is deprecated and will be removed in a future version, please use 'ME' instead.\n",
      "  monthly_ge = ge.resample('M').last()\n",
      "/tmp/ipykernel_34835/295261138.py:12: FutureWarning: 'A' is deprecated and will be removed in a future version, please use 'YE' instead.\n",
      "  annualy_sp500 = sp500.resample('A').last()\n",
      "/tmp/ipykernel_34835/295261138.py:13: FutureWarning: 'A' is deprecated and will be removed in a future version, please use 'YE' instead.\n",
      "  annualy_ge = ge.resample('A').last()\n"
     ]
    }
   ],
   "source": [
    "sp500 = yf.Ticker('^GSPC')\n",
    "ge = yf.Ticker('GE')\n",
    "\n",
    "sp500_data = yf.download('^GSPC', start='1970-01-01', end='2024-04-26')\n",
    "ge_data = yf.download('GE', start='1970-01-01', end='2024-04-26')\n",
    "sp500 = sp500_data['Adj Close']\n",
    "ge = ge_data['Adj Close']\n",
    "sp500 = sp500.loc[datetime(1970,1,1):]\n",
    "ge = ge.loc[datetime(1970,1,1):]\n",
    "monthly_sp500 = sp500.resample('M').last()\n",
    "monthly_ge = ge.resample('M').last()\n",
    "annualy_sp500 = sp500.resample('A').last()\n",
    "annualy_ge = ge.resample('A').last()"
   ]
  },
  {
   "cell_type": "code",
   "execution_count": 6,
   "id": "0b1a2f91-81ec-45af-92c2-411b5dfd15bf",
   "metadata": {},
   "outputs": [],
   "source": [
    "sp500 = np.log(sp500 / sp500.shift(1))\n",
    "ge = np.log(ge / ge.shift(1))\n",
    "monthly_sp500 = np.log(monthly_sp500 / monthly_sp500.shift(1))\n",
    "monthly_ge = np.log(monthly_ge / monthly_ge.shift(1))\n",
    "annualy_sp500 = np.log(annualy_sp500 / annualy_sp500.shift(1))\n",
    "annualy_ge = np.log(annualy_ge / annualy_ge.shift(1))"
   ]
  },
  {
   "cell_type": "code",
   "execution_count": 9,
   "id": "8c71dbe4-453f-4f63-9854-96f8c4708401",
   "metadata": {},
   "outputs": [
    {
     "ename": "NameError",
     "evalue": "name 'realized_sp500_monthly_vol' is not defined",
     "output_type": "error",
     "traceback": [
      "\u001b[0;31m---------------------------------------------------------------------------\u001b[0m",
      "\u001b[0;31mNameError\u001b[0m                                 Traceback (most recent call last)",
      "Cell \u001b[0;32mIn[9], line 4\u001b[0m\n\u001b[1;32m      2\u001b[0m monthly_ge\u001b[38;5;241m.\u001b[39mname\u001b[38;5;241m=\u001b[39m\u001b[38;5;28;01mNone\u001b[39;00m\n\u001b[1;32m      3\u001b[0m monthly_sp500\u001b[38;5;241m=\u001b[39mpd\u001b[38;5;241m.\u001b[39mDataFrame(monthly_sp500,columns\u001b[38;5;241m=\u001b[39m[\u001b[38;5;124m'\u001b[39m\u001b[38;5;124mlogreturn\u001b[39m\u001b[38;5;124m'\u001b[39m])\n\u001b[0;32m----> 4\u001b[0m monthly_sp500[\u001b[38;5;124m'\u001b[39m\u001b[38;5;124mrealized_vol\u001b[39m\u001b[38;5;124m'\u001b[39m]\u001b[38;5;241m=\u001b[39m\u001b[43mrealized_sp500_monthly_vol\u001b[49m\u001b[38;5;241m.\u001b[39miloc[\u001b[38;5;241m1\u001b[39m:]\n\u001b[1;32m      5\u001b[0m monthly_ge\u001b[38;5;241m=\u001b[39mpd\u001b[38;5;241m.\u001b[39mDataFrame(monthly_ge,columns\u001b[38;5;241m=\u001b[39m[\u001b[38;5;124m'\u001b[39m\u001b[38;5;124mlogreturn\u001b[39m\u001b[38;5;124m'\u001b[39m])\n\u001b[1;32m      6\u001b[0m monthly_ge[\u001b[38;5;124m'\u001b[39m\u001b[38;5;124mrealized_vol\u001b[39m\u001b[38;5;124m'\u001b[39m]\u001b[38;5;241m=\u001b[39mrealized_ge_monthly_vol\u001b[38;5;241m.\u001b[39miloc[\u001b[38;5;241m1\u001b[39m:]\n",
      "\u001b[0;31mNameError\u001b[0m: name 'realized_sp500_monthly_vol' is not defined"
     ]
    }
   ],
   "source": [
    "monthly_sp500.name=None\n",
    "monthly_ge.name=None\n",
    "monthly_sp500=pd.DataFrame(monthly_sp500,columns=['logreturn'])\n",
    "monthly_sp500['realized_vol'] = realized_sp500_monthly_vol.iloc[1:]\n",
    "monthly_ge = pd.DataFrame(monthly_ge,columns=['logreturn'])\n",
    "monthly_ge['realized_vol'] = realized_ge_monthly_vol.iloc[1:]"
   ]
  },
  {
   "cell_type": "code",
   "execution_count": 7,
   "id": "e8336b19-e90f-4600-8a72-d993af03180a",
   "metadata": {},
   "outputs": [
    {
     "ename": "KeyError",
     "evalue": "'logreturn'",
     "output_type": "error",
     "traceback": [
      "\u001b[0;31m---------------------------------------------------------------------------\u001b[0m",
      "\u001b[0;31mDateParseError\u001b[0m                            Traceback (most recent call last)",
      "File \u001b[0;32m~/envs/Python/mfe230e/lib/python3.11/site-packages/pandas/core/indexes/datetimes.py:603\u001b[0m, in \u001b[0;36mDatetimeIndex.get_loc\u001b[0;34m(self, key)\u001b[0m\n\u001b[1;32m    602\u001b[0m \u001b[38;5;28;01mtry\u001b[39;00m:\n\u001b[0;32m--> 603\u001b[0m     parsed, reso \u001b[38;5;241m=\u001b[39m \u001b[38;5;28;43mself\u001b[39;49m\u001b[38;5;241;43m.\u001b[39;49m\u001b[43m_parse_with_reso\u001b[49m\u001b[43m(\u001b[49m\u001b[43mkey\u001b[49m\u001b[43m)\u001b[49m\n\u001b[1;32m    604\u001b[0m \u001b[38;5;28;01mexcept\u001b[39;00m (\u001b[38;5;167;01mValueError\u001b[39;00m, pytz\u001b[38;5;241m.\u001b[39mNonExistentTimeError) \u001b[38;5;28;01mas\u001b[39;00m err:\n",
      "File \u001b[0;32m~/envs/Python/mfe230e/lib/python3.11/site-packages/pandas/core/indexes/datetimes.py:559\u001b[0m, in \u001b[0;36mDatetimeIndex._parse_with_reso\u001b[0;34m(self, label)\u001b[0m\n\u001b[1;32m    558\u001b[0m \u001b[38;5;28;01mdef\u001b[39;00m \u001b[38;5;21m_parse_with_reso\u001b[39m(\u001b[38;5;28mself\u001b[39m, label: \u001b[38;5;28mstr\u001b[39m):\n\u001b[0;32m--> 559\u001b[0m     parsed, reso \u001b[38;5;241m=\u001b[39m \u001b[38;5;28;43msuper\u001b[39;49m\u001b[43m(\u001b[49m\u001b[43m)\u001b[49m\u001b[38;5;241;43m.\u001b[39;49m\u001b[43m_parse_with_reso\u001b[49m\u001b[43m(\u001b[49m\u001b[43mlabel\u001b[49m\u001b[43m)\u001b[49m\n\u001b[1;32m    561\u001b[0m     parsed \u001b[38;5;241m=\u001b[39m Timestamp(parsed)\n",
      "File \u001b[0;32m~/envs/Python/mfe230e/lib/python3.11/site-packages/pandas/core/indexes/datetimelike.py:293\u001b[0m, in \u001b[0;36mDatetimeIndexOpsMixin._parse_with_reso\u001b[0;34m(self, label)\u001b[0m\n\u001b[1;32m    291\u001b[0m     label \u001b[38;5;241m=\u001b[39m \u001b[38;5;28mstr\u001b[39m(label)\n\u001b[0;32m--> 293\u001b[0m parsed, reso_str \u001b[38;5;241m=\u001b[39m \u001b[43mparsing\u001b[49m\u001b[38;5;241;43m.\u001b[39;49m\u001b[43mparse_datetime_string_with_reso\u001b[49m\u001b[43m(\u001b[49m\u001b[43mlabel\u001b[49m\u001b[43m,\u001b[49m\u001b[43m \u001b[49m\u001b[43mfreqstr\u001b[49m\u001b[43m)\u001b[49m\n\u001b[1;32m    294\u001b[0m reso \u001b[38;5;241m=\u001b[39m Resolution\u001b[38;5;241m.\u001b[39mfrom_attrname(reso_str)\n",
      "File \u001b[0;32mparsing.pyx:442\u001b[0m, in \u001b[0;36mpandas._libs.tslibs.parsing.parse_datetime_string_with_reso\u001b[0;34m()\u001b[0m\n",
      "File \u001b[0;32mparsing.pyx:666\u001b[0m, in \u001b[0;36mpandas._libs.tslibs.parsing.dateutil_parse\u001b[0;34m()\u001b[0m\n",
      "\u001b[0;31mDateParseError\u001b[0m: Unknown datetime string format, unable to parse: logreturn",
      "\nThe above exception was the direct cause of the following exception:\n",
      "\u001b[0;31mKeyError\u001b[0m                                  Traceback (most recent call last)",
      "Cell \u001b[0;32mIn[7], line 21\u001b[0m\n\u001b[1;32m     19\u001b[0m     garch_rmse \u001b[38;5;241m=\u001b[39m np\u001b[38;5;241m.\u001b[39msqrt(np\u001b[38;5;241m.\u001b[39mmean(np\u001b[38;5;241m.\u001b[39msquare(data[\u001b[38;5;124m'\u001b[39m\u001b[38;5;124mrealized_vol\u001b[39m\u001b[38;5;124m'\u001b[39m] \u001b[38;5;241m-\u001b[39m data[\u001b[38;5;124m'\u001b[39m\u001b[38;5;124mconditional_volatility\u001b[39m\u001b[38;5;124m'\u001b[39m])))\n\u001b[1;32m     20\u001b[0m     \u001b[38;5;28mprint\u001b[39m(\u001b[38;5;124m'\u001b[39m\u001b[38;5;124mGARCH RMSE:\u001b[39m\u001b[38;5;124m'\u001b[39m, garch_rmse)\n\u001b[0;32m---> 21\u001b[0m \u001b[43mgarch_1_1\u001b[49m\u001b[43m(\u001b[49m\u001b[43mmonthly_sp500\u001b[49m\u001b[43m)\u001b[49m\n",
      "Cell \u001b[0;32mIn[7], line 2\u001b[0m, in \u001b[0;36mgarch_1_1\u001b[0;34m(data)\u001b[0m\n\u001b[1;32m      1\u001b[0m \u001b[38;5;28;01mdef\u001b[39;00m \u001b[38;5;21mgarch_1_1\u001b[39m(data):\n\u001b[0;32m----> 2\u001b[0m     garch_model \u001b[38;5;241m=\u001b[39m arch_model(\u001b[43mdata\u001b[49m\u001b[43m[\u001b[49m\u001b[38;5;124;43m'\u001b[39;49m\u001b[38;5;124;43mlogreturn\u001b[39;49m\u001b[38;5;124;43m'\u001b[39;49m\u001b[43m]\u001b[49m, mean\u001b[38;5;241m=\u001b[39m\u001b[38;5;124m'\u001b[39m\u001b[38;5;124mconstant\u001b[39m\u001b[38;5;124m'\u001b[39m,vol\u001b[38;5;241m=\u001b[39m\u001b[38;5;124m'\u001b[39m\u001b[38;5;124mGarch\u001b[39m\u001b[38;5;124m'\u001b[39m, p\u001b[38;5;241m=\u001b[39m\u001b[38;5;241m1\u001b[39m, q\u001b[38;5;241m=\u001b[39m\u001b[38;5;241m1\u001b[39m,rescale\u001b[38;5;241m=\u001b[39m\u001b[38;5;28;01mFalse\u001b[39;00m)\n\u001b[1;32m      3\u001b[0m     garch_result \u001b[38;5;241m=\u001b[39m garch_model\u001b[38;5;241m.\u001b[39mfit(update_freq\u001b[38;5;241m=\u001b[39m\u001b[38;5;241m5\u001b[39m)\n\u001b[1;32m      5\u001b[0m     \u001b[38;5;66;03m# Print out the summary of the GARCH model to see the parameters.\u001b[39;00m\n",
      "File \u001b[0;32m~/envs/Python/mfe230e/lib/python3.11/site-packages/pandas/core/series.py:1112\u001b[0m, in \u001b[0;36mSeries.__getitem__\u001b[0;34m(self, key)\u001b[0m\n\u001b[1;32m   1109\u001b[0m     \u001b[38;5;28;01mreturn\u001b[39;00m \u001b[38;5;28mself\u001b[39m\u001b[38;5;241m.\u001b[39m_values[key]\n\u001b[1;32m   1111\u001b[0m \u001b[38;5;28;01melif\u001b[39;00m key_is_scalar:\n\u001b[0;32m-> 1112\u001b[0m     \u001b[38;5;28;01mreturn\u001b[39;00m \u001b[38;5;28;43mself\u001b[39;49m\u001b[38;5;241;43m.\u001b[39;49m\u001b[43m_get_value\u001b[49m\u001b[43m(\u001b[49m\u001b[43mkey\u001b[49m\u001b[43m)\u001b[49m\n\u001b[1;32m   1114\u001b[0m \u001b[38;5;66;03m# Convert generator to list before going through hashable part\u001b[39;00m\n\u001b[1;32m   1115\u001b[0m \u001b[38;5;66;03m# (We will iterate through the generator there to check for slices)\u001b[39;00m\n\u001b[1;32m   1116\u001b[0m \u001b[38;5;28;01mif\u001b[39;00m is_iterator(key):\n",
      "File \u001b[0;32m~/envs/Python/mfe230e/lib/python3.11/site-packages/pandas/core/series.py:1228\u001b[0m, in \u001b[0;36mSeries._get_value\u001b[0;34m(self, label, takeable)\u001b[0m\n\u001b[1;32m   1225\u001b[0m     \u001b[38;5;28;01mreturn\u001b[39;00m \u001b[38;5;28mself\u001b[39m\u001b[38;5;241m.\u001b[39m_values[label]\n\u001b[1;32m   1227\u001b[0m \u001b[38;5;66;03m# Similar to Index.get_value, but we do not fall back to positional\u001b[39;00m\n\u001b[0;32m-> 1228\u001b[0m loc \u001b[38;5;241m=\u001b[39m \u001b[38;5;28;43mself\u001b[39;49m\u001b[38;5;241;43m.\u001b[39;49m\u001b[43mindex\u001b[49m\u001b[38;5;241;43m.\u001b[39;49m\u001b[43mget_loc\u001b[49m\u001b[43m(\u001b[49m\u001b[43mlabel\u001b[49m\u001b[43m)\u001b[49m\n\u001b[1;32m   1230\u001b[0m \u001b[38;5;28;01mif\u001b[39;00m is_integer(loc):\n\u001b[1;32m   1231\u001b[0m     \u001b[38;5;28;01mreturn\u001b[39;00m \u001b[38;5;28mself\u001b[39m\u001b[38;5;241m.\u001b[39m_values[loc]\n",
      "File \u001b[0;32m~/envs/Python/mfe230e/lib/python3.11/site-packages/pandas/core/indexes/datetimes.py:605\u001b[0m, in \u001b[0;36mDatetimeIndex.get_loc\u001b[0;34m(self, key)\u001b[0m\n\u001b[1;32m    603\u001b[0m     parsed, reso \u001b[38;5;241m=\u001b[39m \u001b[38;5;28mself\u001b[39m\u001b[38;5;241m.\u001b[39m_parse_with_reso(key)\n\u001b[1;32m    604\u001b[0m \u001b[38;5;28;01mexcept\u001b[39;00m (\u001b[38;5;167;01mValueError\u001b[39;00m, pytz\u001b[38;5;241m.\u001b[39mNonExistentTimeError) \u001b[38;5;28;01mas\u001b[39;00m err:\n\u001b[0;32m--> 605\u001b[0m     \u001b[38;5;28;01mraise\u001b[39;00m \u001b[38;5;167;01mKeyError\u001b[39;00m(key) \u001b[38;5;28;01mfrom\u001b[39;00m \u001b[38;5;21;01merr\u001b[39;00m\n\u001b[1;32m    606\u001b[0m \u001b[38;5;28mself\u001b[39m\u001b[38;5;241m.\u001b[39m_disallow_mismatched_indexing(parsed)\n\u001b[1;32m    608\u001b[0m \u001b[38;5;28;01mif\u001b[39;00m \u001b[38;5;28mself\u001b[39m\u001b[38;5;241m.\u001b[39m_can_partial_date_slice(reso):\n",
      "\u001b[0;31mKeyError\u001b[0m: 'logreturn'"
     ]
    }
   ],
   "source": [
    "\n",
    "def garch_1_1(data):\n",
    "    garch_model = arch_model(data['logreturn'], mean='constant',vol='Garch', p=1, q=1,rescale=False)\n",
    "    garch_result = garch_model.fit(update_freq=5)\n",
    "\n",
    "    # Print out the summary of the GARCH model to see the parameters.\n",
    "    print(garch_result.summary())\n",
    "\n",
    "    # Use the model to estimate the conditional volatility.\n",
    "    data['conditional_volatility'] = (garch_result.conditional_volatility)**2\n",
    "\n",
    "    # Plot the realized volatility against the conditional volatility.\n",
    "    plt.figure(figsize=(10,5))\n",
    "    plt.plot(data.index, data['realized_vol'], label='Realized Volatility')\n",
    "    plt.plot(data.index, data['conditional_volatility'], label='Conditional Volatility', linestyle='--')\n",
    "    plt.legend()\n",
    "    plt.show()\n",
    "\n",
    "    # Calculate the RMSE for the GARCH model forecasts.\n",
    "    garch_rmse = np.sqrt(np.mean(np.square(data['realized_vol'] - data['conditional_volatility'])))\n",
    "    print('GARCH RMSE:', garch_rmse)\n",
    "garch_1_1(monthly_sp500)"
   ]
  },
  {
   "cell_type": "code",
   "execution_count": 8,
   "id": "b046a7ad-073b-4ba8-bcb4-5fa7a17542bc",
   "metadata": {},
   "outputs": [
    {
     "data": {
      "text/plain": [
       "Date\n",
       "1970-01-31         NaN\n",
       "1970-02-28    0.051352\n",
       "1970-03-31    0.001451\n",
       "1970-04-30   -0.094842\n",
       "1970-05-31   -0.062904\n",
       "                ...   \n",
       "2023-12-31    0.043279\n",
       "2024-01-31    0.015771\n",
       "2024-02-29    0.050428\n",
       "2024-03-31    0.030547\n",
       "2024-04-30   -0.039981\n",
       "Freq: ME, Name: Adj Close, Length: 652, dtype: float64"
      ]
     },
     "execution_count": 8,
     "metadata": {},
     "output_type": "execute_result"
    }
   ],
   "source": [
    "monthly_sp500"
   ]
  },
  {
   "cell_type": "code",
   "execution_count": null,
   "id": "d0ec38ae-c796-483b-a575-0e1222fd760f",
   "metadata": {},
   "outputs": [],
   "source": [
    "def arch_plot(model):\n",
    "    print"
   ]
  }
 ],
 "metadata": {
  "kernelspec": {
   "display_name": "mfe230e",
   "language": "python",
   "name": "mfe230e"
  },
  "language_info": {
   "codemirror_mode": {
    "name": "ipython",
    "version": 3
   },
   "file_extension": ".py",
   "mimetype": "text/x-python",
   "name": "python",
   "nbconvert_exporter": "python",
   "pygments_lexer": "ipython3",
   "version": "3.11.8"
  }
 },
 "nbformat": 4,
 "nbformat_minor": 5
}
