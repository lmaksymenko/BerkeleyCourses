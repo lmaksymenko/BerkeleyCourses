{
 "cells": [
  {
   "cell_type": "markdown",
   "id": "eac39ebb-5412-4777-acc1-f98f7d7617d0",
   "metadata": {},
   "source": [
    "$$\n",
    "\\begin{equation}\n",
    "Y_t =\n",
    "\\begin{pmatrix} .5 & .1\\\\ .4 & .5 \\end{pmatrix} Y_{t−1} +\n",
    "\\begin{pmatrix} 0 & 0\\\\ .25 & 0 \\end{pmatrix} Y_{t−2} +\n",
    "\\epsilon t\n",
    "\\end{equation}\n",
    "$$"
   ]
  },
  {
   "cell_type": "markdown",
   "id": "7001baa5-39d7-4bb8-b9e0-1b97cde1c89f",
   "metadata": {},
   "source": [
    "$$\n",
    "{\\bf\\Phi} (L) = \\textbf{I} - {\\bf\\Phi}_1L - {\\bf\\Phi}_2L^2\n",
    "$$ "
   ]
  },
  {
   "cell_type": "markdown",
   "id": "a999ad29-62b7-4989-8fd1-c339b27439c2",
   "metadata": {},
   "source": [
    "We must find the egienvalues and check that :\n",
    "\n"
   ]
  },
  {
   "cell_type": "markdown",
   "id": "285f4443-0008-4f3e-8b30-40af8e3019e1",
   "metadata": {},
   "source": [
    "\\begin{pmatrix} .5 & .1\\\\ .4 & .5 \\end{pmatrix}\n",
    "\n",
    "eigenvalues:\n",
    "\n",
    "\\begin{pmatrix} .7 \\\\ .3 \\end{pmatrix}\n",
    "\n",
    "Thus, \n",
    "\n",
    "\\begin{equation} z = \\begin{pmatrix} \\frac{1}{.7} \\\\ \\frac{1}{.3} \\end{pmatrix} \\end{equation}\n",
    "\n",
    "\n",
    "\n",
    "$  det(\\textbf{I} - {\\bf\\Phi}_1z - {\\bf\\Phi}_2z^2)  \\overset{?}{=} 0$\n",
    "\n",
    "\\begin{equation}\n",
    "det(\\textbf{I} -\n",
    "\\begin{pmatrix} .5 & .1\\\\ .4 & .5 \\end{pmatrix} \\begin{pmatrix} \\frac{1}{.7} \\\\ \\frac{1}{.3} \\end{pmatrix} -\n",
    "\\begin{pmatrix} 0 & 0\\\\ .25 & 0 \\end{pmatrix} \\begin{pmatrix} \\frac{1}{.7} \\\\ \\frac{1}{.3} \\end{pmatrix}^2 )\n",
    "\\end{equation}\n",
    "\n",
    "The process is not stationary"
   ]
  },
  {
   "cell_type": "code",
   "execution_count": null,
   "id": "37674f05-d248-472e-85fa-2485f9d1a1bc",
   "metadata": {},
   "outputs": [],
   "source": []
  },
  {
   "cell_type": "markdown",
   "id": "ea3c60dc-36ad-4b41-9615-b893be00ee12",
   "metadata": {},
   "source": [
    "# 2 \n",
    "\n"
   ]
  }
 ],
 "metadata": {
  "kernelspec": {
   "display_name": "mfe230e",
   "language": "python",
   "name": "mfe230e"
  },
  "language_info": {
   "codemirror_mode": {
    "name": "ipython",
    "version": 3
   },
   "file_extension": ".py",
   "mimetype": "text/x-python",
   "name": "python",
   "nbconvert_exporter": "python",
   "pygments_lexer": "ipython3",
   "version": "3.11.8"
  }
 },
 "nbformat": 4,
 "nbformat_minor": 5
}
