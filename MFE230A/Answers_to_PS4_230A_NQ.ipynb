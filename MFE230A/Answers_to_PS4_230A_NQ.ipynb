{
 "cells": [
  {
   "cell_type": "markdown",
   "id": "753271fa-c701-4143-b491-c2d36f902a62",
   "metadata": {},
   "source": [
    "### Answers to Assignment 4 of 230A"
   ]
  },
  {
   "cell_type": "markdown",
   "id": "fcb86882-bd41-433a-ac0d-b03995b9720c",
   "metadata": {},
   "source": [
    "##### Authors(alphabetic order)\n",
    "1) Ishan Pathak ishan_pathak@berkeley.edu\n",
    "2) Leonid Maksymenko leo.maksymenko@berkeley.edu\n",
    "3) Nymph Qiu nymph_qiu@berkeley.edu\n",
    "4) Xuanzhong Ren rxz19@berkeley.edu"
   ]
  },
  {
   "cell_type": "code",
   "execution_count": 1,
   "id": "ab595ca0-a627-4fad-a36d-e0d0956a2c3f",
   "metadata": {},
   "outputs": [],
   "source": [
    "import pandas as pd\n",
    "import numpy as np\n",
    "import matplotlib.pyplot as plt\n",
    "import statsmodels.api as sm\n",
    "from statsmodels.graphics.tsaplots import plot_acf, plot_pacf"
   ]
  },
  {
   "cell_type": "markdown",
   "id": "5a8df104-ef8c-4666-b7cc-1592b516439d",
   "metadata": {},
   "source": [
    "### Q3"
   ]
  },
  {
   "cell_type": "markdown",
   "id": "32142497-5c2a-4835-bc66-65d66a1da4f8",
   "metadata": {},
   "source": [
    "#### (a)"
   ]
  },
  {
   "cell_type": "code",
   "execution_count": 4,
   "id": "fd639427-efc2-4718-ae55-fb8ec65fc4da",
   "metadata": {
    "tags": []
   },
   "outputs": [
    {
     "data": {
      "text/plain": [
       "0.021991293070367384"
      ]
     },
     "execution_count": 4,
     "metadata": {},
     "output_type": "execute_result"
    }
   ],
   "source": [
    "t = 52/365\n",
    "div_yield = -np.log(2633.43/2634.56)/t+0.01898\n",
    "div_yield"
   ]
  },
  {
   "cell_type": "markdown",
   "id": "ba0ace3b-c0fc-408f-be70-944d65543755",
   "metadata": {},
   "source": [
    "#### (b)"
   ]
  },
  {
   "cell_type": "code",
   "execution_count": 5,
   "id": "5c950dc9-e816-462a-84f3-3803d862cc51",
   "metadata": {
    "tags": []
   },
   "outputs": [
    {
     "name": "stdout",
     "output_type": "stream",
     "text": [
      "2647.9957627884546\n"
     ]
    }
   ],
   "source": [
    "t = 52/365\n",
    "index_price = np.exp(-(0.01898-div_yield)*t)*2646.86\n",
    "print(index_price)"
   ]
  },
  {
   "cell_type": "markdown",
   "id": "aff45a82-22a0-47ec-adfc-846c03c0af0a",
   "metadata": {},
   "source": [
    "#### (c)"
   ]
  },
  {
   "cell_type": "markdown",
   "id": "9e31bc8d-e8db-4805-ade7-ceb97bf8730e",
   "metadata": {},
   "source": [
    "Replicate portfolio where we long futures. We borrow money to buy index"
   ]
  },
  {
   "cell_type": "code",
   "execution_count": 6,
   "id": "3736a032-35d7-45f9-81a6-8ee949fed1fc",
   "metadata": {
    "tags": []
   },
   "outputs": [],
   "source": [
    "lower_bound=2646.86/np.exp((0.01898-div_yield)*t)/1.001"
   ]
  },
  {
   "cell_type": "markdown",
   "id": "fc46feab-8219-4a5e-a57f-53a1b3c0cc2c",
   "metadata": {},
   "source": [
    "Replicate portfolio where we short futures. We deposit money and short sell index"
   ]
  },
  {
   "cell_type": "code",
   "execution_count": 7,
   "id": "eee46fb7-e7cc-417d-86a3-edbb01747864",
   "metadata": {
    "tags": []
   },
   "outputs": [],
   "source": [
    "upper_bound=2646.86/np.exp((0.01898-div_yield)*t)/0.999"
   ]
  },
  {
   "cell_type": "code",
   "execution_count": 8,
   "id": "5eff58f8-367e-48d3-9467-be92a77d2737",
   "metadata": {
    "tags": []
   },
   "outputs": [
    {
     "name": "stdout",
     "output_type": "stream",
     "text": [
      "2645.3504123760795 2650.6464091976527\n"
     ]
    }
   ],
   "source": [
    "print(lower_bound, upper_bound)"
   ]
  },
  {
   "cell_type": "markdown",
   "id": "833f5de3-980a-4a5b-899b-e9b6fa87a861",
   "metadata": {},
   "source": [
    "### Q4"
   ]
  },
  {
   "cell_type": "markdown",
   "id": "9191d3a4-2bbb-4dd3-b2ba-ad11e6ae75c5",
   "metadata": {},
   "source": [
    "#### (a)"
   ]
  },
  {
   "cell_type": "code",
   "execution_count": 19,
   "id": "bee522a4-2aea-4eac-8fe4-f8c0de640adc",
   "metadata": {
    "tags": []
   },
   "outputs": [],
   "source": [
    "r=0.02\n",
    "u=0.03\n",
    "y=0.08\n",
    "S0 = 80"
   ]
  },
  {
   "cell_type": "markdown",
   "id": "2cd663aa-70d1-406c-b1dc-a8d6393fa90f",
   "metadata": {},
   "source": [
    "Values are as follows<br>$G_{0,1}$"
   ]
  },
  {
   "cell_type": "code",
   "execution_count": 22,
   "id": "ab8869a4-b87d-4c32-b5ea-49de447ea0ce",
   "metadata": {
    "tags": []
   },
   "outputs": [
    {
     "name": "stdout",
     "output_type": "stream",
     "text": [
      "77.63564268388065\n"
     ]
    }
   ],
   "source": [
    "G_01 = S0*np.exp(r+u-y)\n",
    "print(G_01)"
   ]
  },
  {
   "cell_type": "markdown",
   "id": "2a8e833c-9f05-4a1c-8222-fa14e8137947",
   "metadata": {},
   "source": [
    "$G_{0,2}$"
   ]
  },
  {
   "cell_type": "code",
   "execution_count": 23,
   "id": "ea498db5-9ebc-4513-be82-d30f7db34755",
   "metadata": {
    "tags": []
   },
   "outputs": [
    {
     "name": "stdout",
     "output_type": "stream",
     "text": [
      "75.34116268673989\n"
     ]
    }
   ],
   "source": [
    "G_02 = S0*np.exp(2*(r+u-y))\n",
    "print(G_02)"
   ]
  },
  {
   "cell_type": "markdown",
   "id": "b2363b7e-fba0-4067-ae6f-7692c60c2cae",
   "metadata": {},
   "source": [
    "#### (b)"
   ]
  },
  {
   "cell_type": "markdown",
   "id": "a6db654d-10d4-4403-9dd9-8a67d4e7eea9",
   "metadata": {},
   "source": [
    "Fair swap rate is as follows"
   ]
  },
  {
   "cell_type": "code",
   "execution_count": 18,
   "id": "d6e5df52-b887-4a61-89b3-8c2ffc58bf55",
   "metadata": {
    "tags": []
   },
   "outputs": [
    {
     "data": {
      "text/plain": [
       "76.47119537586057"
      ]
     },
     "execution_count": 18,
     "metadata": {},
     "output_type": "execute_result"
    }
   ],
   "source": [
    "R=2/(1/G_01 + 1/G_02)\n",
    "R"
   ]
  },
  {
   "cell_type": "markdown",
   "id": "1ccab9b1-79cf-46e4-ba08-bca6319429c1",
   "metadata": {},
   "source": [
    "#### (c)"
   ]
  },
  {
   "cell_type": "markdown",
   "id": "c3204015-b164-4846-bd10-5c88e817a7d6",
   "metadata": {},
   "source": [
    "The option portfolio would be long a call at K=$G_{0,1}$ and short a put at K=$G_{0,1}$. This should have the same payoff as one-year forward from t=0 to t=1"
   ]
  },
  {
   "cell_type": "code",
   "execution_count": 26,
   "id": "35282653-93a6-462e-970a-c51332ed70fb",
   "metadata": {
    "tags": []
   },
   "outputs": [
    {
     "data": {
      "text/plain": [
       "7.569999999999993"
      ]
     },
     "execution_count": 26,
     "metadata": {},
     "output_type": "execute_result"
    }
   ],
   "source": [
    "c0 = 7.57\n",
    "p0 = c0 + G_01*np.exp(-r) - S0*np.exp(u-y)\n",
    "p0"
   ]
  },
  {
   "cell_type": "markdown",
   "id": "ce59877e-6fc6-443e-8b40-75214709fa26",
   "metadata": {
    "tags": []
   },
   "source": [
    "#### (d)"
   ]
  },
  {
   "cell_type": "code",
   "execution_count": 33,
   "id": "c81a3900-7b69-422a-afe4-4d181eb8cfc5",
   "metadata": {
    "tags": []
   },
   "outputs": [
    {
     "name": "stdout",
     "output_type": "stream",
     "text": [
      "[0.2500002 0.2500002]\n"
     ]
    }
   ],
   "source": [
    "from scipy.stats import norm\n",
    "def bs_func(sigma):\n",
    "    d1 = (np.log(S0/G_01)+(r+u-y+sigma**2/2))/sigma\n",
    "    d2 = d1 - sigma\n",
    "    return S0*np.exp((u-y))*norm.cdf(d1) - G_01*np.exp(-r)*norm.cdf(d2) - c0\n",
    "\n",
    "from scipy.optimize import fsolve\n",
    "results = fsolve(bs_func, np.array([1,1]))\n",
    "print(results)"
   ]
  },
  {
   "cell_type": "markdown",
   "id": "b684c67b-f78c-4be9-8c6e-44925ec5417b",
   "metadata": {},
   "source": [
    "$\\sigma_{oil}=0.25$"
   ]
  },
  {
   "cell_type": "code",
   "execution_count": null,
   "id": "956d2081-cec3-4e14-a8de-fc9a3f0c6187",
   "metadata": {},
   "outputs": [],
   "source": []
  }
 ],
 "metadata": {
  "kernelspec": {
   "display_name": "mfe230e",
   "language": "python",
   "name": "mfe230e"
  },
  "language_info": {
   "codemirror_mode": {
    "name": "ipython",
    "version": 3
   },
   "file_extension": ".py",
   "mimetype": "text/x-python",
   "name": "python",
   "nbconvert_exporter": "python",
   "pygments_lexer": "ipython3",
   "version": "3.11.8"
  }
 },
 "nbformat": 4,
 "nbformat_minor": 5
}
