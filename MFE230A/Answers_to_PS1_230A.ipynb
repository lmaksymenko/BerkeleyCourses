{
 "cells": [
  {
   "cell_type": "markdown",
   "id": "2e318302-4f04-49b8-bbe1-c2e679c89a6c",
   "metadata": {},
   "source": [
    "### Answers to Assignment 1 of 230A"
   ]
  },
  {
   "cell_type": "markdown",
   "id": "d6eb4b3c-891d-4f13-82dd-08831a91d2ad",
   "metadata": {},
   "source": [
    "##### Authors(alphabetic order)\n",
    "1) Ishan Pathak ishan_pathak@berkeley.edu\n",
    "2) Leonid Maksymenko leo.maksymenko@berkeley.edu\n",
    "3) Nymph Qiu nymph_qiu@berkeley.edu\n",
    "4) Xuanzhong Ren rxz19@berkeley.edu"
   ]
  },
  {
   "cell_type": "markdown",
   "id": "9387aaca-5be9-40ac-b568-078d59352389",
   "metadata": {},
   "source": [
    "#### Prerequisite"
   ]
  },
  {
   "cell_type": "code",
   "execution_count": 1,
   "id": "1195d0d1-f9f2-42f9-a84d-cbce8a512ea1",
   "metadata": {},
   "outputs": [],
   "source": [
    "import pandas as pd\n",
    "import numpy as np\n",
    "import matplotlib.pyplot as plt"
   ]
  },
  {
   "cell_type": "markdown",
   "id": "03aeb8c4-f13e-4619-a29c-8a0057fc662e",
   "metadata": {},
   "source": [
    "#### Q1"
   ]
  },
  {
   "cell_type": "code",
   "execution_count": null,
   "id": "2930830c",
   "metadata": {},
   "outputs": [],
   "source": [
    "rfb=pd.read_csv('1YRFb.csv')[3:-1]\n",
    "rfb=rfb.set_axis(rfb.iloc[0],axis=1)[1:]\n",
    "rfb=rfb.reset_index(drop=True)\n",
    "rfb['Interest rate']=rfb['Interest rate'].astype(float)\n",
    "rfb.columns.name=None\n",
    "rfb.set_index('Date',inplace=True)\n",
    "rfb=rfb/100\n",
    "rfb.index=pd.to_datetime(rfb.index,format='%Y-%m-%d')\n",
    "sp=pd.read_csv('SP100Returns.csv')\n",
    "temp=sp.groupby('PERMNO').count().sort_values(by='date')\n",
    "temp=temp[temp['date']==360]\n",
    "permno_pool=temp.index.tolist()   \n",
    "sp=sp[sp['PERMNO'].isin(permno_pool)] \n",
    "sp['date']=pd.to_datetime(sp['date'],format='%Y%m%d')\n",
    "mkt_ret=sp[:360]['sprtrn']\n",
    "mkt_ret.index=sp[:360]['date']"
   ]
  },
  {
   "cell_type": "markdown",
   "id": "b52599dd",
   "metadata": {},
   "source": [
    "#### Q2"
   ]
  },
  {
   "cell_type": "markdown",
   "id": "4741fc7e-b545-45fe-b8eb-6aa7fae5acad",
   "metadata": {},
   "source": [
    "(a)<br>\n",
    "$y_{0,1}=\\frac{108}{103.335}-1=0.0451$<br>\n",
    "$y_{0,2}=(\\frac{110}{103.823})^{\\frac{1}{2}}-1=0.0293$<br>\n",
    "$y_{0,3}=(\\frac{109}{102.273})^{\\frac{1}{3}}-1=0.0215$<br>\n",
    "(b)<br>\n",
    "$F_{0,0,1}=y_{0,1}=0.0451$<br>\n",
    "$F_{0,1,2}=\\frac{110}{103.823}\\frac{1}{\\frac{108}{103.335}}-1=0.0137$<br>\n",
    "$F_{0,2,3}=\\frac{109}{102.273}\\frac{1}{\\frac{110}{103.823}}-1=0.0059$<br>\n",
    "(c)<br>\n",
    "Let principal=1<br>\n",
    "$0.06\\frac{103.335}{108}+0.06\\frac{103.823}{110}+1.06\\frac{102.273}{109}=0.06\\frac{1}{1+YTM}+0.06\\frac{1}{(1+YTM)^2}+1.06\\frac{1}{(1+YTM)^3}$<br>\n",
    "=> YTM=$2.2176\\%$"
   ]
  },
  {
   "cell_type": "markdown",
   "id": "503ed859-22b9-4f74-801e-a6b6ffdb2e60",
   "metadata": {},
   "source": [
    "### Q3<br>\n",
    "(a) <br>\n",
    "$-e^{-\\gamma P}=E(-e^{-\\gamma\\tilde{X}})=-e^{-\\gamma(\\mu-\\frac{\\gamma}{2}\\sigma^2)}$<br>\n",
    "=> $P=\\mu-\\frac{\\gamma}{2}\\sigma^2$<br>\n",
    "(b)<br>\n",
    "$-e^{-\\gamma (P(r^f+1)-P)}=-e^{-\\gamma P r^f}=E(-e^{-\\gamma(\\tilde{X}-P)})=-e^{-\\gamma(\\mu-\\frac{\\gamma}{2}\\sigma^2)+\\gamma P}$<br>\n",
    "$-e^{-\\gamma P(r^f+1)}=-e^{-\\gamma(\\mu-\\frac{\\gamma}{2}\\sigma^2)}$<br>\n",
    "$P=\\frac{\\mu-\\frac{\\gamma}{2}\\sigma^2}{r^f+1}$<br>"
   ]
  },
  {
   "cell_type": "code",
   "execution_count": null,
   "id": "9b791a24-afd2-4f0e-b124-b1dbd50b9f32",
   "metadata": {},
   "outputs": [],
   "source": []
  }
 ],
 "metadata": {
  "kernelspec": {
   "display_name": "mfe230e",
   "language": "python",
   "name": "mfe230e"
  },
  "language_info": {
   "codemirror_mode": {
    "name": "ipython",
    "version": 3
   },
   "file_extension": ".py",
   "mimetype": "text/x-python",
   "name": "python",
   "nbconvert_exporter": "python",
   "pygments_lexer": "ipython3",
   "version": "3.11.8"
  }
 },
 "nbformat": 4,
 "nbformat_minor": 5
}
