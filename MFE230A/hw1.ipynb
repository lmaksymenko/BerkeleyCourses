{
 "cells": [
  {
   "cell_type": "code",
   "execution_count": 11,
   "metadata": {},
   "outputs": [],
   "source": [
    "import pandas as pd\n",
    "import numpy as np\n",
    "import matplotlib.pyplot as plt"
   ]
  },
  {
   "cell_type": "code",
   "execution_count": 13,
   "metadata": {},
   "outputs": [],
   "source": [
    "rfb=pd.read_csv('1YRFb.csv')[3:-1]\n",
    "rfb=rfb.set_axis(rfb.iloc[0],axis=1)[1:]\n",
    "rfb=rfb.reset_index(drop=True)\n",
    "rfb['Interest rate']=rfb['Interest rate'].astype(float)\n",
    "rfb.columns.name=None\n",
    "rfb.set_index('Date',inplace=True)\n",
    "rfb=rfb/100\n",
    "rfb.index=pd.to_datetime(rfb.index,format='%Y-%m-%d')\n",
    "sp=pd.read_csv('SP100Returns.csv')\n",
    "temp=sp.groupby('PERMNO').count().sort_values(by='date')\n",
    "temp=temp[temp['date']==360]\n",
    "permno_pool=temp.index.tolist()   \n",
    "sp=sp[sp['PERMNO'].isin(permno_pool)] \n",
    "sp['date']=pd.to_datetime(sp['date'],format='%Y%m%d')\n",
    "mkt_ret=sp[:360]['sprtrn']\n",
    "mkt_ret.index=sp[:360]['date']"
   ]
  },
  {
   "cell_type": "markdown",
   "metadata": {},
   "source": [
    "## a return\n"
   ]
  },
  {
   "cell_type": "markdown",
   "metadata": {},
   "source": [
    "#### i)"
   ]
  },
  {
   "cell_type": "code",
   "execution_count": 14,
   "metadata": {},
   "outputs": [
    {
     "name": "stdout",
     "output_type": "stream",
     "text": [
      "Market arithmetic return: 0.007666766666666667\n",
      "Market geometric return: 0.0067766632816785854\n"
     ]
    }
   ],
   "source": [
    "mkt_arim_ret=mkt_ret.mean()\n",
    "mkt_geo_ret=(mkt_ret+1).prod()**(1/len(mkt_ret))-1\n",
    "print('Market arithmetic return:',mkt_arim_ret)\n",
    "print('Market geometric return:',mkt_geo_ret)"
   ]
  },
  {
   "cell_type": "markdown",
   "metadata": {},
   "source": [
    "#### ii)"
   ]
  },
  {
   "cell_type": "code",
   "execution_count": 15,
   "metadata": {},
   "outputs": [
    {
     "name": "stdout",
     "output_type": "stream",
     "text": [
      "individual arithmetic return: PERMNO\n",
      "10104    0.023069\n",
      "10107    0.020032\n",
      "11308    0.009789\n",
      "11850    0.007331\n",
      "12052    0.016388\n",
      "           ...   \n",
      "70519    0.011833\n",
      "75510    0.023786\n",
      "76076    0.022244\n",
      "87055    0.014528\n",
      "92655    0.021621\n",
      "Name: RET, Length: 67, dtype: float64\n",
      "\n",
      "\n",
      "individual geometric return: PERMNO\n",
      "10104    0.016685\n",
      "10107    0.016277\n",
      "11308    0.008164\n",
      "11850    0.005904\n",
      "12052    0.013905\n",
      "           ...   \n",
      "70519    0.004929\n",
      "75510    0.015927\n",
      "76076    0.016637\n",
      "87055    0.011717\n",
      "92655    0.017810\n",
      "Name: RET, Length: 67, dtype: float64\n",
      "\n",
      "\n",
      "individual arithmetic return: 0.01315474274461028\n"
     ]
    }
   ],
   "source": [
    "individual_arim_ret=sp.groupby('PERMNO')['RET'].mean()\n",
    "individual_geo_ret=sp.groupby('PERMNO')['RET'].apply(lambda x: (x+1).prod()**(1/len(x))-1)\n",
    "print('individual arithmetic return:',individual_arim_ret)\n",
    "print('\\n')\n",
    "print('individual geometric return:',individual_geo_ret)\n",
    "print('\\n')\n",
    "print('individual arithmetic return:',individual_arim_ret.mean())"
   ]
  },
  {
   "cell_type": "code",
   "execution_count": 41,
   "metadata": {},
   "outputs": [
    {
     "data": {
      "text/html": [
       "<div>\n",
       "<style scoped>\n",
       "    .dataframe tbody tr th:only-of-type {\n",
       "        vertical-align: middle;\n",
       "    }\n",
       "\n",
       "    .dataframe tbody tr th {\n",
       "        vertical-align: top;\n",
       "    }\n",
       "\n",
       "    .dataframe thead th {\n",
       "        text-align: right;\n",
       "    }\n",
       "</style>\n",
       "<table border=\"1\" class=\"dataframe\">\n",
       "  <thead>\n",
       "    <tr style=\"text-align: right;\">\n",
       "      <th></th>\n",
       "      <th>PERMNO</th>\n",
       "      <th>date</th>\n",
       "      <th>TICKER</th>\n",
       "      <th>COMNAM</th>\n",
       "      <th>PRC</th>\n",
       "      <th>RET</th>\n",
       "      <th>sprtrn</th>\n",
       "    </tr>\n",
       "  </thead>\n",
       "  <tbody>\n",
       "    <tr>\n",
       "      <th>0</th>\n",
       "      <td>10104</td>\n",
       "      <td>1991-01-31</td>\n",
       "      <td>ORCL</td>\n",
       "      <td>ORACLE SYSTEMS CORP</td>\n",
       "      <td>9.00000</td>\n",
       "      <td>0.142857</td>\n",
       "      <td>0.041518</td>\n",
       "    </tr>\n",
       "    <tr>\n",
       "      <th>1</th>\n",
       "      <td>10104</td>\n",
       "      <td>1991-02-28</td>\n",
       "      <td>ORCL</td>\n",
       "      <td>ORACLE SYSTEMS CORP</td>\n",
       "      <td>9.00000</td>\n",
       "      <td>0.000000</td>\n",
       "      <td>0.067281</td>\n",
       "    </tr>\n",
       "    <tr>\n",
       "      <th>2</th>\n",
       "      <td>10104</td>\n",
       "      <td>1991-03-28</td>\n",
       "      <td>ORCL</td>\n",
       "      <td>ORACLE SYSTEMS CORP</td>\n",
       "      <td>9.00000</td>\n",
       "      <td>0.000000</td>\n",
       "      <td>0.022203</td>\n",
       "    </tr>\n",
       "    <tr>\n",
       "      <th>3</th>\n",
       "      <td>10104</td>\n",
       "      <td>1991-04-30</td>\n",
       "      <td>ORCL</td>\n",
       "      <td>ORACLE SYSTEMS CORP</td>\n",
       "      <td>9.25000</td>\n",
       "      <td>0.027778</td>\n",
       "      <td>0.000346</td>\n",
       "    </tr>\n",
       "    <tr>\n",
       "      <th>4</th>\n",
       "      <td>10104</td>\n",
       "      <td>1991-05-31</td>\n",
       "      <td>ORCL</td>\n",
       "      <td>ORACLE SYSTEMS CORP</td>\n",
       "      <td>7.50000</td>\n",
       "      <td>-0.189189</td>\n",
       "      <td>0.038577</td>\n",
       "    </tr>\n",
       "    <tr>\n",
       "      <th>...</th>\n",
       "      <td>...</td>\n",
       "      <td>...</td>\n",
       "      <td>...</td>\n",
       "      <td>...</td>\n",
       "      <td>...</td>\n",
       "      <td>...</td>\n",
       "      <td>...</td>\n",
       "    </tr>\n",
       "    <tr>\n",
       "      <th>24115</th>\n",
       "      <td>92655</td>\n",
       "      <td>2020-08-31</td>\n",
       "      <td>UNH</td>\n",
       "      <td>UNITEDHEALTH GROUP INC</td>\n",
       "      <td>312.54999</td>\n",
       "      <td>0.032268</td>\n",
       "      <td>0.070065</td>\n",
       "    </tr>\n",
       "    <tr>\n",
       "      <th>24116</th>\n",
       "      <td>92655</td>\n",
       "      <td>2020-09-30</td>\n",
       "      <td>UNH</td>\n",
       "      <td>UNITEDHEALTH GROUP INC</td>\n",
       "      <td>311.76999</td>\n",
       "      <td>0.001504</td>\n",
       "      <td>-0.039228</td>\n",
       "    </tr>\n",
       "    <tr>\n",
       "      <th>24117</th>\n",
       "      <td>92655</td>\n",
       "      <td>2020-10-30</td>\n",
       "      <td>UNH</td>\n",
       "      <td>UNITEDHEALTH GROUP INC</td>\n",
       "      <td>305.14001</td>\n",
       "      <td>-0.021266</td>\n",
       "      <td>-0.027666</td>\n",
       "    </tr>\n",
       "    <tr>\n",
       "      <th>24118</th>\n",
       "      <td>92655</td>\n",
       "      <td>2020-11-30</td>\n",
       "      <td>UNH</td>\n",
       "      <td>UNITEDHEALTH GROUP INC</td>\n",
       "      <td>336.34000</td>\n",
       "      <td>0.102248</td>\n",
       "      <td>0.107546</td>\n",
       "    </tr>\n",
       "    <tr>\n",
       "      <th>24119</th>\n",
       "      <td>92655</td>\n",
       "      <td>2020-12-31</td>\n",
       "      <td>UNH</td>\n",
       "      <td>UNITEDHEALTH GROUP INC</td>\n",
       "      <td>350.67999</td>\n",
       "      <td>0.046352</td>\n",
       "      <td>0.037121</td>\n",
       "    </tr>\n",
       "  </tbody>\n",
       "</table>\n",
       "<p>24120 rows × 7 columns</p>\n",
       "</div>"
      ],
      "text/plain": [
       "       PERMNO       date TICKER                  COMNAM        PRC       RET  \\\n",
       "0       10104 1991-01-31   ORCL     ORACLE SYSTEMS CORP    9.00000  0.142857   \n",
       "1       10104 1991-02-28   ORCL     ORACLE SYSTEMS CORP    9.00000  0.000000   \n",
       "2       10104 1991-03-28   ORCL     ORACLE SYSTEMS CORP    9.00000  0.000000   \n",
       "3       10104 1991-04-30   ORCL     ORACLE SYSTEMS CORP    9.25000  0.027778   \n",
       "4       10104 1991-05-31   ORCL     ORACLE SYSTEMS CORP    7.50000 -0.189189   \n",
       "...       ...        ...    ...                     ...        ...       ...   \n",
       "24115   92655 2020-08-31    UNH  UNITEDHEALTH GROUP INC  312.54999  0.032268   \n",
       "24116   92655 2020-09-30    UNH  UNITEDHEALTH GROUP INC  311.76999  0.001504   \n",
       "24117   92655 2020-10-30    UNH  UNITEDHEALTH GROUP INC  305.14001 -0.021266   \n",
       "24118   92655 2020-11-30    UNH  UNITEDHEALTH GROUP INC  336.34000  0.102248   \n",
       "24119   92655 2020-12-31    UNH  UNITEDHEALTH GROUP INC  350.67999  0.046352   \n",
       "\n",
       "         sprtrn  \n",
       "0      0.041518  \n",
       "1      0.067281  \n",
       "2      0.022203  \n",
       "3      0.000346  \n",
       "4      0.038577  \n",
       "...         ...  \n",
       "24115  0.070065  \n",
       "24116 -0.039228  \n",
       "24117 -0.027666  \n",
       "24118  0.107546  \n",
       "24119  0.037121  \n",
       "\n",
       "[24120 rows x 7 columns]"
      ]
     },
     "execution_count": 41,
     "metadata": {},
     "output_type": "execute_result"
    }
   ],
   "source": [
    "sp"
   ]
  },
  {
   "cell_type": "markdown",
   "metadata": {},
   "source": [
    "#### iii)"
   ]
  },
  {
   "cell_type": "code",
   "execution_count": 16,
   "metadata": {},
   "outputs": [
    {
     "name": "stdout",
     "output_type": "stream",
     "text": [
      "risk free rate average return: 0.028015555555555554\n",
      "risk free rate geometric return: 0.027784225892123926\n"
     ]
    }
   ],
   "source": [
    "rfb_arim_ret=rfb['Interest rate'].mean()\n",
    "rfb_geo_ret=(rfb['Interest rate']+1).prod()**(1/len(rfb['Interest rate']))-1\n",
    "print('risk free rate average return:',rfb_arim_ret)\n",
    "print('risk free rate geometric return:',rfb_geo_ret)"
   ]
  },
  {
   "cell_type": "markdown",
   "metadata": {},
   "source": [
    "#### iv)"
   ]
  },
  {
   "cell_type": "code",
   "execution_count": 17,
   "metadata": {},
   "outputs": [
    {
     "name": "stdout",
     "output_type": "stream",
     "text": [
      "annual market geometric return: 0.08442040890040325\n"
     ]
    }
   ],
   "source": [
    "annual_mkt_geo_ret=(1+mkt_geo_ret)**12-1\n",
    "print('annual market geometric return:',annual_mkt_geo_ret)"
   ]
  },
  {
   "cell_type": "markdown",
   "metadata": {},
   "source": [
    "#### v)"
   ]
  },
  {
   "cell_type": "code",
   "execution_count": 18,
   "metadata": {},
   "outputs": [
    {
     "data": {
      "image/png": "[encoded data removed]",
      "text/plain": [
       "<Figure size 640x480 with 1 Axes>"
      ]
     },
     "metadata": {},
     "output_type": "display_data"
    }
   ],
   "source": [
    "plt.hist(individual_geo_ret,bins=50)[2:]\n",
    "plt.axvline(x=mkt_geo_ret, color='r', linestyle='--', linewidth=2)\n",
    "plt.text(mkt_geo_ret, 0, 'mkt_return', color='r', ha='center', va='bottom')\n",
    "plt.xlabel('Returns')\n",
    "plt.ylabel('Frequency')\n",
    "plt.title('Histogram of Returns with Market Return')\n",
    "plt.show()"
   ]
  },
  {
   "cell_type": "code",
   "execution_count": 19,
   "metadata": {},
   "outputs": [],
   "source": [
    "sp_subset = sp[['PERMNO', 'date', 'RET']]\n",
    "individual_ret = sp_subset.pivot(index='date', columns='PERMNO', values='RET')"
   ]
  },
  {
   "cell_type": "code",
   "execution_count": 20,
   "metadata": {},
   "outputs": [
    {
     "data": {
      "image/png": "[encoded data removed]",
      "text/plain": [
       "<Figure size 640x480 with 1 Axes>"
      ]
     },
     "metadata": {},
     "output_type": "display_data"
    }
   ],
   "source": [
    "corr_stock_mkt=individual_ret.corrwith(mkt_ret).sort_values()\n",
    "plt.hist(corr_stock_mkt)[2:]\n",
    "plt.xlabel('correlation')\n",
    "plt.ylabel('Frequency')\n",
    "plt.title('Histogram of corr between individual stock and market')\n",
    "plt.show()"
   ]
  },
  {
   "cell_type": "code",
   "execution_count": 21,
   "metadata": {},
   "outputs": [
    {
     "data": {
      "image/png": "[encoded data removed]",
      "text/plain": [
       "<Figure size 1000x800 with 2 Axes>"
      ]
     },
     "metadata": {},
     "output_type": "display_data"
    }
   ],
   "source": [
    "import seaborn as sns\n",
    "corr = individual_ret.corr()\n",
    "plt.figure(figsize=(10, 8))\n",
    "sns.heatmap(corr, fmt=\".2f\", cmap=\"coolwarm\", square=True)\n",
    "plt.title(\"Heatmap of Correlation Coefficients Between Columns\")\n",
    "plt.show()"
   ]
  },
  {
   "cell_type": "markdown",
   "metadata": {},
   "source": [
    "1. Generally, these stocks have high correlation with the market since they are the components of SP500 and they are not randomly chosen.\n",
    "2. Stock annual return is higher than the bond annual return.\n",
    "3. The time span and the stock pool are not the same as that discussed in the class, and the latter showed an annual return of 11%, higher than the former."
   ]
  },
  {
   "cell_type": "markdown",
   "metadata": {},
   "source": [
    "## b"
   ]
  },
  {
   "cell_type": "code",
   "execution_count": 22,
   "metadata": {},
   "outputs": [
    {
     "name": "stdout",
     "output_type": "stream",
     "text": [
      "monthly market volatility: 0.041938996436702895\n",
      "\n",
      "\n",
      "monthly individual volatility: PERMNO\n",
      "10104    0.115647\n",
      "10107    0.087934\n",
      "11308    0.056805\n",
      "11850    0.053417\n",
      "12052    0.070848\n",
      "           ...   \n",
      "70519    0.114769\n",
      "75510    0.128172\n",
      "76076    0.106320\n",
      "87055    0.074182\n",
      "92655    0.085775\n",
      "Name: RET, Length: 67, dtype: float64\n",
      "\n",
      "\n",
      "annual market volatility: 0.14528094529363902\n",
      "\n",
      "\n",
      "annual individual volatility: PERMNO\n",
      "10104    0.400614\n",
      "10107    0.304614\n",
      "11308    0.196777\n",
      "11850    0.185042\n",
      "12052    0.245426\n",
      "           ...   \n",
      "70519    0.397573\n",
      "75510    0.444002\n",
      "76076    0.368303\n",
      "87055    0.256975\n",
      "92655    0.297134\n",
      "Name: RET, Length: 67, dtype: float64\n"
     ]
    }
   ],
   "source": [
    "monthly_mkt_vol=np.std(mkt_ret)\n",
    "monthly_individual_vol=sp.groupby('PERMNO')['RET'].std()\n",
    "annual_mkt_vol=np.sqrt(12)*monthly_mkt_vol\n",
    "annual_individual_vol=np.sqrt(12)*monthly_individual_vol\n",
    "print('monthly market volatility:',monthly_mkt_vol)\n",
    "print('\\n')\n",
    "print('monthly individual volatility:',monthly_individual_vol)\n",
    "print('\\n')\n",
    "print('annual market volatility:',annual_mkt_vol)\n",
    "print('\\n')\n",
    "print('annual individual volatility:',annual_individual_vol)"
   ]
  },
  {
   "cell_type": "code",
   "execution_count": 42,
   "metadata": {},
   "outputs": [
    {
     "name": "stdout",
     "output_type": "stream",
     "text": [
      "Average correlation between stock and market: 0.4956523955602912\n",
      "Average correlation between stock: 0.2625770803396364\n"
     ]
    }
   ],
   "source": [
    "avg_corr_stock_mkt=np.mean(individual_ret.corrwith(mkt_ret))\n",
    "avg_corr_between_stock=(corr.sum().sum()-len(corr))/(len(corr)*(len(corr)-1))\n",
    "print('Average correlation between stock and market:',avg_corr_stock_mkt)\n",
    "print('Average correlation between stock:',avg_corr_between_stock)"
   ]
  },
  {
   "cell_type": "markdown",
   "metadata": {},
   "source": [
    "## c"
   ]
  },
  {
   "cell_type": "code",
   "execution_count": 50,
   "metadata": {},
   "outputs": [
    {
     "name": "stdout",
     "output_type": "stream",
     "text": [
      "monthly market sharpe: 0.12807521208387862\n",
      "\n",
      "\n",
      "monthly individual sharpe: PERMNO\n",
      "10104    0.179693\n",
      "10107    0.201787\n",
      "11308    0.132051\n",
      "11850    0.094412\n",
      "12052    0.199017\n",
      "           ...   \n",
      "70519    0.083164\n",
      "75510    0.167728\n",
      "76076    0.187694\n",
      "87055    0.165001\n",
      "92655    0.225391\n",
      "Length: 67, dtype: float64\n",
      "\n",
      "\n",
      "annual market sharpe: 0.44366554903887434\n",
      "\n",
      "\n",
      "annual individual sharpe: PERMNO\n",
      "10104    0.622476\n",
      "10107    0.699011\n",
      "11308    0.457439\n",
      "11850    0.327053\n",
      "12052    0.689415\n",
      "           ...   \n",
      "70519    0.288089\n",
      "75510    0.581027\n",
      "76076    0.650191\n",
      "87055    0.571580\n",
      "92655    0.780779\n",
      "Length: 67, dtype: float64\n"
     ]
    }
   ],
   "source": [
    "\n",
    "monthly_rfb_rate=(rfb['Interest rate']+1)**(1/12)-1\n",
    "rfb.index=mkt_ret.index\n",
    "monthly_mkt_excess_ret=mkt_ret-monthly_rfb_rate\n",
    "monthly_individual_excess_ret=individual_ret.subtract(monthly_rfb_rate,axis=0)\n",
    "monthly_mkt_sharpe=monthly_mkt_excess_ret.mean()/mkt_ret.std()\n",
    "monthly_individual_sharpe=monthly_individual_excess_ret.mean()/individual_ret.std()\n",
    "annual_mkt_sharpe=np.sqrt(12)*monthly_mkt_sharpe\n",
    "annual_individual_sharpe=np.sqrt(12)*monthly_individual_sharpe\n",
    "print('monthly market sharpe:',monthly_mkt_sharpe)\n",
    "print('\\n')\n",
    "print('monthly individual sharpe:',monthly_individual_sharpe)\n",
    "print('\\n')\n",
    "print('annual market sharpe:',annual_mkt_sharpe)\n",
    "print('\\n')\n",
    "print('annual individual sharpe:',annual_individual_sharpe)"
   ]
  },
  {
   "cell_type": "code",
   "execution_count": 54,
   "metadata": {},
   "outputs": [
    {
     "name": "stdout",
     "output_type": "stream",
     "text": [
      "the highest sharpe ratio stock: DHR\n"
     ]
    }
   ],
   "source": [
    "sort_stock_sharpe=annual_individual_sharpe.sort_values()\n",
    "permno=sort_stock_sharpe.index[-1]\n",
    "ticker=sp[sp['PERMNO']==permno]['TICKER'].iloc[0]\n",
    "print('the highest sharpe ratio stock:',ticker)"
   ]
  },
  {
   "cell_type": "markdown",
   "metadata": {},
   "source": [
    "## d"
   ]
  },
  {
   "cell_type": "markdown",
   "metadata": {},
   "source": [
    "#### i)"
   ]
  },
  {
   "cell_type": "code",
   "execution_count": 51,
   "metadata": {},
   "outputs": [
    {
     "name": "stdout",
     "output_type": "stream",
     "text": [
      "investment worth at the end of 2020: 1137.4451769418406\n"
     ]
    }
   ],
   "source": [
    "final_money=(mkt_ret+1).prod()\n",
    "print('investment worth at the end of 2020:',100*final_money)"
   ]
  },
  {
   "cell_type": "markdown",
   "metadata": {},
   "source": [
    "#### ii)"
   ]
  },
  {
   "cell_type": "code",
   "execution_count": 57,
   "metadata": {},
   "outputs": [
    {
     "name": "stdout",
     "output_type": "stream",
     "text": [
      "investment worth at the end of 2020 with 1-year treasury bond: 234.11601437211073\n"
     ]
    }
   ],
   "source": [
    "rfb_year=rfb.resample('Y').first()\n",
    "final_money_rf=(rfb_year['Interest rate']+1).prod()\n",
    "print('investment worth at the end of 2020 with 1-year treasury bond:',100*final_money_rf)"
   ]
  },
  {
   "cell_type": "markdown",
   "metadata": {},
   "source": [
    "#### iii)"
   ]
  },
  {
   "cell_type": "code",
   "execution_count": 94,
   "metadata": {},
   "outputs": [
    {
     "name": "stdout",
     "output_type": "stream",
     "text": [
      "Times the high-risk investor wins: 15\n"
     ]
    }
   ],
   "source": [
    "mkt_horse=[]\n",
    "rf_horse=[]\n",
    "for i in range(25):\n",
    "    mkt_horse.append((mkt_ret[i*12:(i+6)*12]+1).prod())\n",
    "    rf_horse.append((rfb_year['Interest rate'][i:i+6]+1).prod())\n",
    "print('Times the high-risk investor wins:',sum([1 for i in range(25) if mkt_horse[i]>rf_horse[i]]))"
   ]
  },
  {
   "cell_type": "markdown",
   "metadata": {},
   "source": [
    "#### iv)"
   ]
  },
  {
   "cell_type": "code",
   "execution_count": 30,
   "metadata": {},
   "outputs": [
    {
     "name": "stdout",
     "output_type": "stream",
     "text": [
      "investment worth of 100$ with the highest total return in 30 years: 57536.217985327574\n"
     ]
    }
   ],
   "source": [
    "total_return=(individual_ret+1).prod().sort_values()\n",
    "print('investment worth of 100$ with the highest total return in 30 years:',100*total_return.iloc[-1])"
   ]
  },
  {
   "cell_type": "markdown",
   "metadata": {},
   "source": [
    "#### v)"
   ]
  },
  {
   "cell_type": "code",
   "execution_count": 31,
   "metadata": {},
   "outputs": [
    {
     "name": "stdout",
     "output_type": "stream",
     "text": [
      "investment worth of 100$ with the 3rd lowest total return in 30 years: 297.9815083158226\n"
     ]
    }
   ],
   "source": [
    "print('investment worth of 100$ with the 3rd lowest total return in 30 years:',100*total_return.iloc[2])"
   ]
  },
  {
   "cell_type": "markdown",
   "metadata": {},
   "source": [
    "#### vi)"
   ]
  },
  {
   "cell_type": "code",
   "execution_count": 32,
   "metadata": {},
   "outputs": [
    {
     "name": "stdout",
     "output_type": "stream",
     "text": [
      "investment worth of 100$ with maximum return every month in 30 years: 1.1806387126101154e+30\n"
     ]
    }
   ],
   "source": [
    "max_return=individual_ret.max(axis=1)\n",
    "print('investment worth of 100$ with maximum return every month in 30 years:',100*(max_return+1).prod())"
   ]
  },
  {
   "cell_type": "markdown",
   "metadata": {},
   "source": [
    "#### vii)"
   ]
  },
  {
   "cell_type": "code",
   "execution_count": 33,
   "metadata": {},
   "outputs": [
    {
     "name": "stdout",
     "output_type": "stream",
     "text": [
      "investment worth of 100$ with rebalanced portfolio in 30 years: 464.36646904701337\n"
     ]
    }
   ],
   "source": [
    "rebalance_ret=mkt_ret-0.25/100\n",
    "print('investment worth of 100$ with rebalanced portfolio in 30 years:',100*(rebalance_ret+1).prod())"
   ]
  },
  {
   "cell_type": "markdown",
   "metadata": {},
   "source": [
    "## 2"
   ]
  },
  {
   "cell_type": "markdown",
   "metadata": {},
   "source": [
    "#### (a)"
   ]
  },
  {
   "cell_type": "markdown",
   "metadata": {},
   "source": [
    "Spot rates for each maturity are:\n",
    "\n",
    "1. $$y_{0,1} = \\left(\\frac{108}{103.335}\\right)^1 - 1 = 4.514\\%\\$$\n",
    "2. $$y_{0,2} = \\left(\\frac{110}{103.823}\\right)^{\\frac{1}{2}} - 1 = 2.932\\%\\$$\n",
    "3.  $$y_{0,3} = \\left(\\frac{109}{102.273}\\right)^{\\frac{1}{3}} - 1 = 2.146\\%\\$$"
   ]
  },
  {
   "cell_type": "markdown",
   "metadata": {},
   "source": [
    "#### b)"
   ]
  },
  {
   "cell_type": "markdown",
   "metadata": {},
   "source": [
    "$$1 + F_{0,n,n+1} = \\frac{(1 + y_{0,n+1})^{n+1}}{(1 + y_{0,n})^n}$$\n",
    "1. $$F_{0,0,1} = y_{0,1}=4.514\\%\\$$\n",
    "2. $$F_{0,1,2} =  \\frac{(1 + y_{0,2})^{2}}{(1 + y_{0,1})^1}-1=1.373\\%\\$$\n",
    "3. $$F_{0,2,3} =  \\frac{(1 + y_{0,3})^{3}}{(1 + y_{0,2})^2}-1=0.593\\%\\$$\n"
   ]
  },
  {
   "cell_type": "markdown",
   "metadata": {},
   "source": [
    "#### c)"
   ]
  },
  {
   "cell_type": "markdown",
   "metadata": {},
   "source": [
    "$$\n",
    "PV = \\frac{C}{(1 + y_{0,1})} + \\frac{C}{(1 + y_{0,2})^2} + \\frac{C + FV}{(1 + y_{0,3})^3}\n",
    "$$\n",
    "$C=6,FV=100$,through calculation, $PV= 110.862$\n",
    "$$PV = \\frac{C}{(1 + YTM)} + \\frac{C}{(1 +YTM)^2} + \\frac{C + FV}{(1 + YTM)^3}$$\n",
    "Take the number into the equation above, we get:\n",
    "$$YTM=2.218\\%\\$$"
   ]
  },
  {
   "cell_type": "code",
   "execution_count": 36,
   "metadata": {},
   "outputs": [
    {
     "data": {
      "text/plain": [
       "array([0.0221756])"
      ]
     },
     "execution_count": 36,
     "metadata": {},
     "output_type": "execute_result"
    }
   ],
   "source": [
    "from scipy.optimize import fsolve\n",
    "def f(x):\n",
    "    return 6/(1+x)+6/(1+x)**2+106/(1+x)**3-110.8620518\n",
    "fsolve(f,0)"
   ]
  },
  {
   "cell_type": "markdown",
   "metadata": {},
   "source": [
    "## 3"
   ]
  },
  {
   "cell_type": "markdown",
   "metadata": {},
   "source": [
    "#### a)"
   ]
  },
  {
   "cell_type": "markdown",
   "metadata": {},
   "source": [
    "For a CARA (Constant Absolute Risk Aversion) investor with a risk aversion coefficient $ \\gamma $, the utility of the asset with payoff $ \\tilde{X} $ is:\n",
    "\n",
    "$$\n",
    "U = E[e^{-\\gamma\\tilde{X}}] = e^{-\\gamma(\\mu - \\frac{1}{2}\\gamma\\sigma^2)}\n",
    "$$\n",
    "\n",
    "To make the investor indifferent, the expected utility of investing $ P $ in the asset and receiving the payoff $ \\tilde{X} $ must be equal to the utility of no investment:\n",
    "\n",
    "$$\n",
    "e^{-\\gamma(\\mu - \\frac{1}{2}\\gamma\\sigma^2)} = e^{-\\gamma P}\n",
    "$$\n",
    "\n",
    "Solving for $ P $ gives us the price today that makes the investor indifferent:\n",
    "\n",
    "$$\n",
    "P = \\mu - \\frac{1}{2}\\gamma\\sigma^2\n",
    "$$"
   ]
  },
  {
   "cell_type": "markdown",
   "metadata": {},
   "source": [
    "#### b)"
   ]
  },
  {
   "cell_type": "markdown",
   "metadata": {},
   "source": [
    "To make the investor indifferent, the expected utility of investing $ P $ in the asset and receiving the payoff $ \\tilde{X} $ must be equal to the utility of investing $ P $ in a risk-free asset with return $ R_f $:\n",
    "\n",
    "$$\n",
    "e^{-\\gamma(\\mu-\\frac{1}{2}\\gamma\\sigma^2)} = e^{-\\gamma P(1 + r_f)}\n",
    "$$\n",
    "\n",
    "Solving for $ P $ gives us the price today that makes the investor indifferent:\n",
    "\n",
    "$$\n",
    "P = \\frac{\\mu - \\frac{1}{2}\\gamma\\sigma^2}{1 + r_f}\n",
    "$$\n"
   ]
  },
  {
   "cell_type": "markdown",
   "metadata": {},
   "source": [
    "## 4"
   ]
  },
  {
   "cell_type": "code",
   "execution_count": 37,
   "metadata": {},
   "outputs": [
    {
     "name": "stdout",
     "output_type": "stream",
     "text": [
      "0.08442040890040325\n",
      "0.14528094529363902\n",
      "0.027784225892123926\n",
      "0.07575574726842076\n"
     ]
    }
   ],
   "source": [
    "print(annual_mkt_geo_ret)\n",
    "print(annual_mkt_vol)\n",
    "print(rfb_geo_ret)\n",
    "annual_rfb_vol=np.sqrt(12)*rfb['Interest rate'].std()\n",
    "print(annual_rfb_vol)"
   ]
  },
  {
   "cell_type": "markdown",
   "metadata": {},
   "source": [
    "#### a)"
   ]
  },
  {
   "cell_type": "markdown",
   "metadata": {},
   "source": [
    "$$\n",
    "E(U(mkt))=-e^{- \\gamma(\\mu_{mkt} - \\frac{1}{2} \\gamma\\sigma_{mkt}^2)}$$\n",
    "$$\n",
    "E(U(rf))=-e^{- \\gamma(\\mu_{rf} - \\frac{1}{2} \\gamma\\sigma_{rf}^2)}$$\n",
    "$\\mu_{mkt}=0.0844,\\sigma_{mkt}=0.145,\\mu_{rf}=0.0278,\\sigma_{rf}=0.0758$<BR>\n",
    "we get $$E(U(mkt)) < E(u(RF))$$"
   ]
  },
  {
   "cell_type": "code",
   "execution_count": 40,
   "metadata": {},
   "outputs": [
    {
     "name": "stdout",
     "output_type": "stream",
     "text": [
      "-1.0000042210029703\n",
      "-1.0000013892050859\n"
     ]
    }
   ],
   "source": [
    "def E(gamma,miu,sigma):\n",
    "    return -np.exp(gamma*(miu-0.5*gamma*sigma**2))\n",
    "E(5/100000,annual_mkt_geo_ret,annual_mkt_vol)>E(5/100000,rfb_geo_ret,annual_rfb_vol)\n",
    "print(E(5/100000,annual_mkt_geo_ret,annual_mkt_vol))\n",
    "print(E(5/100000,rfb_geo_ret,annual_rfb_vol))"
   ]
  },
  {
   "cell_type": "markdown",
   "metadata": {},
   "source": [
    "#### b)"
   ]
  },
  {
   "cell_type": "markdown",
   "metadata": {},
   "source": [
    "take $$E(U(mkt))=E(U(rf))$$\n",
    "by solving the equation, we get,$\\gamma=737084.6$"
   ]
  },
  {
   "cell_type": "code",
   "execution_count": 39,
   "metadata": {},
   "outputs": [
    {
     "data": {
      "text/plain": [
       "7.370846450806592"
      ]
     },
     "execution_count": 39,
     "metadata": {},
     "output_type": "execute_result"
    }
   ],
   "source": [
    "2*(annual_mkt_geo_ret-rfb_geo_ret)/(annual_mkt_vol**2-annual_rfb_vol**2)"
   ]
  }
 ],
 "metadata": {
  "kernelspec": {
   "display_name": "base",
   "language": "python",
   "name": "python3"
  },
  "language_info": {
   "codemirror_mode": {
    "name": "ipython",
    "version": 3
   },
   "file_extension": ".py",
   "mimetype": "text/x-python",
   "name": "python",
   "nbconvert_exporter": "python",
   "pygments_lexer": "ipython3",
   "version": "3.11.5"
  }
 },
 "nbformat": 4,
 "nbformat_minor": 2
}
