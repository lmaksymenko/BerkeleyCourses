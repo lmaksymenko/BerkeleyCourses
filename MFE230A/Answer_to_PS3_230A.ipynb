{
 "cells": [
  {
   "cell_type": "markdown",
   "metadata": {},
   "source": [
    "## Answers to Assignment 2 of 230A"
   ]
  },
  {
   "cell_type": "markdown",
   "metadata": {},
   "source": [
    "##### Authors(alphabetic order)\n",
    "1) Ishan Pathak ishan_pathak@berkeley.edu\n",
    "2) Leonid Maksymenko leo.maksymenko@berkeley.edu\n",
    "3) Nymph Qiu nymph_qiu@berkeley.edu\n",
    "4) Xuanzhong Ren rxz19@berkeley.edu"
   ]
  },
  {
   "cell_type": "markdown",
   "metadata": {},
   "source": [
    "1.\n",
    "$$\n",
    " P_0 = E_t \\left[ \\sum_{n=0}^\\infty M_{0,n\\Delta t} \\cdot Y_{n\\Delta t} \\right] = Y_0 E_t \\left[ \\sum_{n=0}^\\infty e^{-n\\rho\\Delta t-\\gamma v_{n\\Delta t}} \\left( e^{v_{n\\Delta t}} \\right)^{1-r} \\Delta t \\right] $$\n",
    "\n",
    "\n",
    "$$\n",
    " v_t ~N(\\mu t,\\sigma^2t) $$\n",
    " $$E_t \\left[ e^{-(1-2\\gamma)v_t} \\right] = e^{(1-2\\gamma)\\mu t+\\frac{(1-2\\gamma)^2\\sigma^2t}{2}}$$\n",
    "\n",
    "\n",
    "$$\n",
    " {P_0} =  {Y_0}\\int_{0}^{\\infty}e^{(1-2\\gamma)\\mu t+\\frac{(1-2\\gamma)^2\\sigma^2t}{2}-\\rho t}dt$$\n",
    "\n",
    "\n",
    "$$\n",
    " =\\frac{1}{\\rho-(1-2\\gamma)\\mu-\\frac{(1-2\\gamma)^2\\sigma^2}{2}} $$\n",
    "\n",
    "\n",
    "2.\n",
    "$$\n",
    " \\text{Cov}_t(M_{t,t+1}R_t, R_t) = E(M_{t,t+1}R_t^2) - E(M_{t,t+1}R_t) E(R_t) $$\n",
    "\n",
    "\n",
    "$$\n",
    " \\text{Notice} \\quad E^Q[R] = R_f $$\n",
    "\n",
    "\n",
    "$$\n",
    " \\frac{Var^Q_t(R_t)}{R_f} = \\frac{E^Q[R_t^2] - (E^Q[R_t])^2}{R_f} = \\frac{E^Q[R_t^2]}{R_f} - R_f $$\n",
    "\n",
    "\n",
    "$$\n",
    " \\frac{Var^Q_t(R_t)}{R_f} - \\text{Cov}_t(M_{t,t+1}R_{t+1}, R_t) = \\frac{E^Q[R_t^2]}{R_f} - R_f - \\left( \\frac{E^Q[R_t^2]}{R_f} + E(R_t) \\right) $$\n",
    "\n",
    "\n",
    "$$\n",
    " \\frac{Var^Q_t(R_t)}{R_f} - \\text{Cov}_t(M_{t,t+1}R_{t+1}, R_t) = E(R_t) - R_f $$\n",
    "\n",
    "\n",
    "Lemma. Let $\n",
    " (X_1, Y_1), (X_2, Y_2) $\n",
    " be independent version of $\n",
    " (X,Y) $\n",
    ".\n",
    "\n",
    "Proof:\n",
    "$$\n",
    " E((X_2 - X_1)(Y_2 - Y_1)) = E(X_2Y_2) - E(X_2)E(Y_2) - E(X_1)E(Y_1) + E(X_1Y_1) = 2E(XY) - 2E(X)E(Y) $$\n",
    "\n",
    "\n",
    "$$\n",
    " = 2E(XY) - 2E(X)E(Y) = 2(E(XY) - E(X)E(Y)) $$\n",
    "\n",
    "\n",
    "Take $\n",
    " X = R_t^{m} $\n",
    ", $\n",
    " Y = R_t^{m(1-\\gamma)} $\n",
    ", for every realization of $\n",
    " Z = (Y_2 - Y_1)(X_2 - X_1) $\n",
    ",\n",
    "\n",
    "if $\n",
    " X_1 \\geq X_2 $, since $1-\\gamma \\leq 0, $we have $Y_1 \\leq Y_2,$so $Z \\leq 0 $\n",
    "therefore $ E(Z) \\leq 0,$so $ \\text{Cov}(R_t^m, R_t^{m(1-\\gamma)}) \\leq 0 $\n",
    "$$\n",
    " \\text{Cov}(M_{t,t+1}R_{t+1}, R_t^m) = a $$\n"
   ]
  }
 ],
 "metadata": {
  "language_info": {
   "name": "python"
  }
 },
 "nbformat": 4,
 "nbformat_minor": 2
}
