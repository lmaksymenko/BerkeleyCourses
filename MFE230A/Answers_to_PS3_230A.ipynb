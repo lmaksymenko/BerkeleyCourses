{
 "cells": [
  {
   "cell_type": "markdown",
   "metadata": {},
   "source": [
    "## Answers to Assignment 2 of 230A"
   ]
  },
  {
   "cell_type": "markdown",
   "metadata": {},
   "source": [
    "##### Authors(alphabetic order)\n",
    "1) Ishan Pathak ishan_pathak@berkeley.edu\n",
    "2) Leonid Maksymenko leo.maksymenko@berkeley.edu\n",
    "3) Nymph Qiu nymph_qiu@berkeley.edu\n",
    "4) Xuanzhong Ren rxz19@berkeley.edu"
   ]
  },
  {
   "cell_type": "markdown",
   "metadata": {},
   "source": [
    "1.(1) From the pricing results derived in class\n",
    "$$\n",
    " P_0 = E_t \\left[ \\sum_{n=0}^\\infty M_{0,n\\Delta t} \\cdot Y_{n\\Delta t} \\right] = Y_0 E_t \\left[ \\sum_{n=0}^\\infty e^{-n\\rho\\Delta t-\\gamma v_{n\\Delta t}} \\left( e^{v_{n\\Delta t}} \\right)^{1-r} \\Delta t \\right] $$\n",
    "$$v_t ~N(\\mu t,\\sigma^2t) $$\n",
    " $$E_t \\left[ e^{-(1-2\\gamma)v_t} \\right] = e^{(1-2\\gamma)\\mu t+\\frac{(1-2\\gamma)^2\\sigma^2t}{2}}$$\n",
    "$$ {P_0} =  {Y_0}\\int_{0}^{\\infty}e^{(1-2\\gamma)\\mu t+\\frac{(1-2\\gamma)^2\\sigma^2t}{2}-\\rho t}dt$$\n",
    "$$=\\frac{1}{\\rho-(1-2\\gamma)\\mu-\\frac{(1-2\\gamma)^2\\sigma^2}{2}} $$\n",
    "\n",
    "For the second part of this question, as we have $\\frac{Y_T}{p_T} = r$ (a constant in this economy), we have $p_T = \\frac{Y_T}{r}$, and $r = \\frac{Y_0}{p_0} = \\rho-(1-2\\gamma)\\mu-\\frac{(1-2\\gamma)^2\\sigma^2}{2}$\n",
    "\n",
    "\n",
    "Hence, it follows that \n",
    "$$G_0=E_{T}[M_{0,T}p_{T}]=E_{T}[M_{0,T}\\frac{Y_{T}}{r}]=E_{T}[e^{-\\rho T - \\gamma v_T}e^{v_T}]= E_{T}[e^{-\\rho T - (\\gamma -1) v_T}]*\\frac{1}{r}$$\n",
    "\n",
    "As, $-\\rho T - (\\gamma -1) v_T \\sim N(-\\rho T - (\\gamma-1)\\mu T,(\\gamma - 1)^2 \\sigma^2 T)$ \n",
    "\n",
    "Hence the above expectation follows from value of exponentiation of a normal random variable\n",
    "\n",
    "\n",
    "$$G_0=\\frac{e^{-\\rho T-(\\gamma-1)\\mu T+\\frac{(\\gamma-1)^2\\sigma^2T}{2}}}{\\rho-(1-2\\gamma)\\mu-\\frac{(1-2\\gamma)^2\\sigma^2}{2}}$$\n",
    "\n",
    "\n",
    "\n",
    "\n",
    "\n",
    "2.\n",
    "\n",
    "**part(a)**\n",
    "$$\n",
    " \\text{Cov}_t(M_{t,t+1}R_t, R_t) = E(M_{t,t+1}R_t^2) - E(M_{t,t+1}R_t) E(R_t) $$\n",
    "\n",
    "\n",
    "$$\n",
    " \\text{Notice} \\quad E^Q[R] = R_f $$\n",
    "\n",
    "\n",
    "$$\n",
    " \\frac{Var^Q_t(R_t)}{R_f} = \\frac{E^Q[R_t^2] - (E^Q[R_t])^2}{R_f} = \\frac{E^Q[R_t^2]}{R_f} - R_f $$\n",
    "\n",
    "\n",
    "$$\n",
    " \\frac{Var^Q_t(R_t)}{R_f} - \\text{Cov}_t(M_{t,t+1}R_{t+1}, R_t) = \\frac{E^Q[R_t^2]}{R_f} - R_f - \\left( \\frac{E^Q[R_t^2]}{R_f} + E(R_t) \\right) $$\n",
    "\n",
    "\n",
    "$$\n",
    " \\frac{Var^Q_t(R_t)}{R_f} - \\text{Cov}_t(M_{t,t+1}R_{t+1}, R_t) = E(R_t) - R_f $$\n",
    "\n",
    "**part(b)**\n",
    "\n",
    "Lemma. Let $\n",
    " (X_1, Y_1), (X_2, Y_2) $\n",
    " be independent version of $\n",
    " (X,Y) $\n",
    ".\n",
    "\n",
    "Proof:\n",
    "$$\n",
    " E((X_2 - X_1)(Y_2 - Y_1)) = E(X_2Y_2) - E(X_2)E(Y_2) - E(X_1)E(Y_1) + E(X_1Y_1) = 2E(XY) - 2E(X)E(Y) $$\n",
    "\n",
    "\n",
    "$$\n",
    " = 2E(XY) - 2E(X)E(Y) = 2(E(XY) - E(X)E(Y)) $$\n",
    "\n",
    "\n",
    "Take $\n",
    " X = R_t^{m} $\n",
    ", $\n",
    " Y = R_t^{m(1-\\gamma)} $\n",
    ", for every realization of $\n",
    " Z = (Y_2 - Y_1)(X_2 - X_1) $\n",
    ",\n",
    "\n",
    "if $ X_1 \\geq X_2 $, since $ 1-\\gamma \\leq 0 $,we have $ Y_1 \\leq Y_2 $,so $Z \\leq 0 $.\n",
    "Therefore $ E(Z) \\leq 0$,$ Cov(R_t^m, R_t^{m(1-\\gamma)}) \\leq 0 $ \n",
    "\n",
    "Further, as $M_{t,t+1}=a*(R_t^{m})^{-\\gamma}$, it follows that\n",
    "$$Cov(M_{t,t+1}R_t^{m}, R_t^m) \\leq 0 $$\n",
    "\n",
    "\n",
    "Hence, as $Cov(M_{t,t+1}R_t^{m}, R_t^m) \\leq 0 $, we conclude from the results in question that \n",
    "\n",
    "$E_{t}(R_t^{m})-R_{f}\\geq \\frac{SVIX_{t}}{R_{f}}$"
   ]
  },
  {
   "cell_type": "code",
   "execution_count": null,
   "metadata": {},
   "outputs": [],
   "source": []
  }
 ],
 "metadata": {
  "kernelspec": {
   "display_name": "Python 3 (ipykernel)",
   "language": "python",
   "name": "python3"
  },
  "language_info": {
   "codemirror_mode": {
    "name": "ipython",
    "version": 3
   },
   "file_extension": ".py",
   "mimetype": "text/x-python",
   "name": "python",
   "nbconvert_exporter": "python",
   "pygments_lexer": "ipython3",
<<<<<<< HEAD
   "version": "3.11.8"
=======
   "version": "3.9.7"
>>>>>>> f38a1275745265fbc3cf37dbc81c7db2d998f854
  }
 },
 "nbformat": 4,
 "nbformat_minor": 4
}
