{
 "cells": [
  {
   "cell_type": "markdown",
   "id": "7ef62ec3-afbe-4213-8a35-146029e85490",
   "metadata": {},
   "source": [
    "### Answers to Assignment 2 of 230A"
   ]
  },
  {
   "cell_type": "markdown",
   "id": "407604c9-81c6-4fbe-9170-0a9ba9bfd829",
   "metadata": {},
   "source": [
    "##### Authors(alphabetic order)\n",
    "1) Ishan Pathak ishan_pathak@berkeley.edu\n",
    "2) Leonid Maksymenko leo.maksymenko@berkeley.edu\n",
    "3) Nymph Qiu nymph_qiu@berkeley.edu\n",
    "4) Xuanzhong Ren rxz19@berkeley.edu"
   ]
  },
  {
   "cell_type": "code",
   "execution_count": 1,
   "id": "569e2327-ed5a-4995-a3ba-e4ee78f71259",
   "metadata": {},
   "outputs": [],
   "source": [
    "import pandas as pd\n",
    "import numpy as np\n",
    "import matplotlib.pyplot as plt\n",
    "from scipy.stats import norm,chi2, t"
   ]
  },
  {
   "cell_type": "markdown",
   "id": "f46d9931-19a8-4c02-9516-fc72b4452127",
   "metadata": {},
   "source": [
    "### Q2"
   ]
  },
  {
   "cell_type": "markdown",
   "id": "3f3964bb-928f-4166-9379-c722f7b0035d",
   "metadata": {},
   "source": [
    "(a)"
   ]
  },
  {
   "cell_type": "markdown",
   "id": "488f0763-d038-4bad-ab58-377c80f6275b",
   "metadata": {},
   "source": [
    "$$E_1(u(W_2))=-e^{-\\gamma W_1-\\gamma(\\alpha_1^1\\mu_1^1+\\alpha_1^2\\mu_1^2)+\\frac{1}{2}\\gamma^2((\\alpha_1^1\\sigma^2)^2+(\\alpha_2^2\\sigma^2)^2)}$$"
   ]
  },
  {
   "cell_type": "markdown",
   "id": "079717d2-e045-4f90-a32e-49a060b8f623",
   "metadata": {},
   "source": [
    "$$argmax_{\\alpha_1^1,\\alpha_1^2}-\\gamma(\\alpha_1^1\\mu_1^1+\\alpha_1^2\\mu_1^2)+\\frac{1}{2}\\gamma^2((\\alpha_1^1\\sigma^2)^2+(\\alpha_2^2\\sigma^2)^2)$$"
   ]
  },
  {
   "cell_type": "markdown",
   "id": "17c753ed-2eb1-4122-9d0e-06f7a0a97528",
   "metadata": {},
   "source": [
    "$$\\alpha_1^1=\\frac{\\mu_1^1}{\\gamma(\\sigma^2)^2}, \\alpha_1^2=\\frac{\\mu_1^2}{\\gamma(\\sigma^2)^2}=0$$"
   ]
  },
  {
   "cell_type": "markdown",
   "id": "cfec07c2-1938-4d09-847d-faf97f896b96",
   "metadata": {},
   "source": [
    "So maximum expected utility @t=1 is<br>\n",
    "$$\\max E_1(u(W_2))=-e^{-\\gamma W_1-\\frac{q-k\\tilde{\\mu}_0^2}{2(\\sigma^2)^2}}$$\n",
    "$$E_0(u(W_2))=E_0(-e^{-\\gamma W_0-\\gamma(\\alpha_0^1\\tilde{\\mu}_0^1+\\alpha_0^2\\tilde{\\mu}_0^2)-\\frac{q-k\\tilde{\\mu}_0^2}{2(\\sigma^2)^2}})=E_0(-e^{-\\gamma W_0-\\gamma(\\alpha_0^1\\tilde{\\mu}_0^1+\\alpha_0^2\\tilde{\\mu}_0^2)-\\frac{q-k\\tilde{\\mu}_0^2}{2(\\sigma^2)^2}})=-e^{-\\gamma W_0-\\frac{q}{2(\\sigma^2)^2}}E_0(e^{-\\gamma(\\alpha_0^1\\tilde{\\mu}_0^1+\\alpha_0^2\\tilde{\\mu}_0^2)+\\frac{k\\tilde{\\mu}_0^2}{2(\\sigma^2)^2}})$$\n",
    "$$\\alpha_0^1=\\frac{\\mu_0^1}{\\gamma(\\sigma^1)^2}=\\frac{q}{\\gamma(\\sigma^1)^2}, \\alpha_0^2=\\frac{k}{2\\gamma(\\sigma^2)^2}$$"
   ]
  },
  {
   "cell_type": "markdown",
   "id": "5492ec23-0103-41ae-bfbf-e0b128acff31",
   "metadata": {},
   "source": [
    "(b)"
   ]
  },
  {
   "cell_type": "markdown",
   "id": "5ae86983-2587-4dbb-920a-97a3d710859b",
   "metadata": {},
   "source": [
    "k is like a scalar for impact on expected return of asset 1 from realized return of asset 2 @t=0. This correlation would impact the investment decisions made per period for asset 1 & 2.<br>\n",
    "When k=0, there is zero investment in asset 2 @t=0. And asset 1 return would not be impacted by asset 2 so per period, asset 1 and 2 contribute to maximum expected utility individually.<br>\n",
    "When k>0, there would be positive investment in asset 2. When realized return of $\\tilde{\\mu}_0^2$ goes up, expected return for $\\tilde{\\mu}_1^1$ goes down, which would reduce asset 1 investment @t=1."
   ]
  },
  {
   "cell_type": "markdown",
   "id": "f86ea0aa-91b6-4c82-ba4d-1125ea2e645c",
   "metadata": {},
   "source": [
    "(c)"
   ]
  },
  {
   "cell_type": "markdown",
   "id": "bfd09289-0a9b-4a16-9331-cd4dd19647b7",
   "metadata": {},
   "source": [
    "Dollar investment $\\alpha_1^2$ is not impacted by $\\tilde{\\mu}_0$. So when $k\\neq 0$, $\\alpha_1^2$ is zero anyway. <br>\n",
    "Dollar investment $\\alpha_1^1$ would be impacted. The expected return for asset 1 @t=1 is $q-k\\tilde{\\mu}_0^2$ given the realized return. If k>0, when $\\tilde{\\mu}_0^2$ goes up, it reduces expected return for asset 1 @t=1 which in response, $\\alpha_1^1$ is reduced as well. Otherwise, when $\\tilde{\\mu}_0^2$ goes up, expected return increases then $\\alpha_1^1$ is augmented as well.<br>\n",
    "Risky-asset weight $\\omega_1^1, \\omega_1^2$ would be impacted due to $\\alpha_1^1$. If k > 0, when $\\tilde{\\mu}_0^2$ goes up, $\\alpha_1^1$ is reduced so $\\omega_1^1$ goes down while $\\omega_1^2$ increases. If k < 0, when $\\tilde{\\mu}_0^2$ goes down, $\\alpha_1^1$ is increased, $\\omega_1^1$ goes up while $\\omega_1^2$ decreases."
   ]
  },
  {
   "cell_type": "code",
   "execution_count": null,
   "id": "d74d28ce-ebec-4463-8ee8-a73a2d8298b9",
   "metadata": {},
   "outputs": [],
   "source": []
  }
 ],
 "metadata": {
  "kernelspec": {
   "display_name": "mfe230e",
   "language": "python",
   "name": "mfe230e"
  },
  "language_info": {
   "codemirror_mode": {
    "name": "ipython",
    "version": 3
   },
   "file_extension": ".py",
   "mimetype": "text/x-python",
   "name": "python",
   "nbconvert_exporter": "python",
   "pygments_lexer": "ipython3",
   "version": "3.11.8"
  }
 },
 "nbformat": 4,
 "nbformat_minor": 5
}
