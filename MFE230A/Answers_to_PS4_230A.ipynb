{
 "cells": [
  {
   "cell_type": "markdown",
   "id": "753271fa-c701-4143-b491-c2d36f902a62",
   "metadata": {},
   "source": [
    "### Answers to Assignment 4 of 230A"
   ]
  },
  {
   "cell_type": "markdown",
   "id": "fcb86882-bd41-433a-ac0d-b03995b9720c",
   "metadata": {},
   "source": [
    "##### Authors(alphabetic order)\n",
    "1) Ishan Pathak ishan_pathak@berkeley.edu\n",
    "2) Leonid Maksymenko leo.maksymenko@berkeley.edu\n",
    "3) Nymph Qiu nymph_qiu@berkeley.edu\n",
    "4) Xuanzhong Ren rxz19@berkeley.edu"
   ]
  },
  {
   "cell_type": "code",
   "execution_count": 6,
   "id": "ab595ca0-a627-4fad-a36d-e0d0956a2c3f",
   "metadata": {},
   "outputs": [
    {
     "name": "stderr",
     "output_type": "stream",
     "text": [
      "/Users/ishan/.local/lib/python3.9/site-packages/pandas/core/computation/expressions.py:21: UserWarning: Pandas requires version '2.8.4' or newer of 'numexpr' (version '2.7.3' currently installed).\n",
      "  from pandas.core.computation.check import NUMEXPR_INSTALLED\n",
      "/Users/ishan/.local/lib/python3.9/site-packages/pandas/core/arrays/masked.py:60: UserWarning: Pandas requires version '1.3.6' or newer of 'bottleneck' (version '1.3.2' currently installed).\n",
      "  from pandas.core import (\n"
     ]
    }
   ],
   "source": [
    "import pandas as pd\n",
    "import numpy as np\n",
    "import matplotlib.pyplot as plt\n",
    "import statsmodels.api as sm\n",
    "from statsmodels.graphics.tsaplots import plot_acf, plot_pacf"
   ]
  },
  {
   "cell_type": "markdown",
   "id": "16a3681d",
   "metadata": {},
   "source": [
    "### Q1"
   ]
  },
  {
   "cell_type": "markdown",
   "id": "29fe24db",
   "metadata": {},
   "source": [
    "#### Part (a)"
   ]
  },
  {
   "cell_type": "markdown",
   "id": "6d0c6c4b",
   "metadata": {},
   "source": [
    "$r_{us}=2.45\\%, r_{uk}=4.88\\%, s_0=1.3935\\$/£$\n",
    "\n",
    "$F_{usd/gbp}=G_{0,t}=\\exp^{(r_{us}-r_{uk})}S_0=\\exp^{(2.45\\%-4.88\\%)}\\times1.3935=\\exp^{-2.43\\%}\\times1.3935=1.3600 usd/gbp$"
   ]
  },
  {
   "cell_type": "markdown",
   "id": "1dff5532",
   "metadata": {},
   "source": [
    "#### Part (b)"
   ]
  },
  {
   "cell_type": "markdown",
   "id": "2b7852d9",
   "metadata": {},
   "source": [
    "To create an arbitrage arument, we see that the observed forward price of 1.3usd/£ is **lower** than equilibrium price of 1.3600$/£. \n",
    "\n",
    "Hence, we follow the following steps:\n",
    "\n",
    "1. Short 1 GBP at t=0\n",
    "2. Convert 1 GBP to S_0 USD at t=0 in the spot market\n",
    "3. Invest S_0 USD into risk free rate r_USD at t=0\n",
    "4. At t=0, Enter the forward contract to buy GBP and sell usd at t=T\n",
    "5. At t=T, use the proceeds from risk free instrument to pay the forward price of the contract in USD and receive GBP\n",
    "6. At t=T, Square off the short GBP position, and take the remining GBP as risk free profit\n",
    "\n",
    "By this strategy the payoff at t=T in GBP is \n",
    "\n",
    "$p_{t} = s_{0}\\cdot \\frac{e^{r_{USD}}}{1.3}-e^{r_{GBP}}=0.0457 GBP$\n",
    "\n",
    "This is a strategy to make risk free money at t=T if forward exchange rate $G_{0,t}=1.3$\n"
   ]
  },
  {
   "cell_type": "markdown",
   "id": "dadfa71d",
   "metadata": {},
   "source": [
    "#### Part (c)"
   ]
  },
  {
   "cell_type": "markdown",
   "id": "09c17989",
   "metadata": {},
   "source": [
    "To create an arbitrage arument, we see that the observed forward price of 1.4 usd/£ is **higher** than equilibrium price of 1.3600$/£. \n",
    "\n",
    "Hence, we follow the following steps:\n",
    "\n",
    "1. Short 1 USD at t=0\n",
    "2. Convert 1 USD to $\\frac{1}{s_{0}}$ GBP at t=0 in the spot market\n",
    "3. Invest $\\frac{1}{s_{0}}$ GBP into risk free rate $r_{GBP}$ at t=0\n",
    "4. At t=0, Enter the forward contract to buy USD and sell GBP at t=T\n",
    "5. At t=T, use the proceeds from risk free instrument to pay the forward price of the contract in GBP and receive USD\n",
    "6. At t=T, Square off the short USD position, and take the remining USD as risk free profit\n",
    "\n",
    "By this strategy the payoff at t=T in GBP is \n",
    "\n",
    "$p_{t} = \\frac{1}{s_{0}}\\cdot \\frac{e^{r_{GBP}}}{1/1.4}-e^{r_{USD}}=0.0301 USD$\n",
    "\n",
    "This is a strategy to make risk free money at t=T if forward exchange rate $G_{0,t}=1.4$\n"
   ]
  },
  {
   "cell_type": "markdown",
   "id": "909e4231",
   "metadata": {},
   "source": [
    "#### Part (d)"
   ]
  },
  {
   "cell_type": "markdown",
   "id": "9ec715da",
   "metadata": {},
   "source": [
    "By No arbitrage argument, \n",
    "\n",
    "$\\Large \\frac{1 \\cdot e^{0.25*r_{\\text{USD}}}}{G_{0,3m}} = \\frac{1}{s_0} \\cdot e^{0.25*r_{\\text{GBP}}}$\n",
    "\n",
    "Hence, \n",
    "$\\Large r_{\\text{GBP}} = 4*\\ln\\left(\\frac{s_{0} \\cdot e^{0.25*r_{\\text{USD}}}}{G_{0,3m}}\\right)=4.1$% per annum"
   ]
  },
  {
   "cell_type": "markdown",
   "id": "5cf73d1f",
   "metadata": {},
   "source": [
    "### Q2"
   ]
  },
  {
   "cell_type": "markdown",
   "id": "68097827",
   "metadata": {},
   "source": [
    "#### Part (a)\n",
    "\n",
    "3 Month forward bitcoin price can be obtained from no arbitrage price for forward contract\n",
    "\n",
    "$G_{0,3m} = s_{0} \\cdot e^{r \\times \\frac{3}{12}}$ = $27975 \\cdot e^{4.4 \\times \\frac{3}{1200}}$=28,284.4237 USD"
   ]
  },
  {
   "cell_type": "markdown",
   "id": "df691ba5",
   "metadata": {},
   "source": [
    "#### Part (b)"
   ]
  },
  {
   "cell_type": "markdown",
   "id": "80616e17",
   "metadata": {},
   "source": [
    "For the other side of the contract\n",
    "\n",
    "**At t=0**\n",
    "\n",
    "Borrow 27,975 USD\n",
    "Buy 1 Bitcoin\n",
    "Short Forward contract with strike price = 1,000,000 $\n",
    "\n",
    "**At t=T**\n",
    "\n",
    "Close the forward contract--receive $1000,000 and sell the Bitcoin\n",
    "\n",
    "Payback the loan amount of $27,975*e^{\\frac{4.4*3}{1200}} = 28,284.42 USD $\n",
    "\n",
    "Collect the remaining amount of **USD 971,715.58** as risk-free profit"
   ]
  },
  {
   "cell_type": "markdown",
   "id": "5a8df104-ef8c-4666-b7cc-1592b516439d",
   "metadata": {},
   "source": [
    "### Q3"
   ]
  },
  {
   "cell_type": "markdown",
   "id": "32142497-5c2a-4835-bc66-65d66a1da4f8",
   "metadata": {},
   "source": [
    "#### (a)"
   ]
  },
  {
   "cell_type": "code",
   "execution_count": 4,
   "id": "fd639427-efc2-4718-ae55-fb8ec65fc4da",
   "metadata": {
    "tags": []
   },
   "outputs": [
    {
     "data": {
      "text/plain": [
       "0.021991293070367384"
      ]
     },
     "execution_count": 4,
     "metadata": {},
     "output_type": "execute_result"
    }
   ],
   "source": [
    "t = 52/365\n",
    "div_yield = -np.log(2633.43/2634.56)/t+0.01898\n",
    "div_yield"
   ]
  },
  {
   "cell_type": "markdown",
   "id": "ba0ace3b-c0fc-408f-be70-944d65543755",
   "metadata": {},
   "source": [
    "#### (b)"
   ]
  },
  {
   "cell_type": "code",
   "execution_count": 5,
   "id": "5c950dc9-e816-462a-84f3-3803d862cc51",
   "metadata": {
    "tags": []
   },
   "outputs": [
    {
     "name": "stdout",
     "output_type": "stream",
     "text": [
      "2647.9957627884546\n"
     ]
    }
   ],
   "source": [
    "t = 52/365\n",
    "index_price = np.exp(-(0.01898-div_yield)*t)*2646.86\n",
    "print(index_price)"
   ]
  },
  {
   "cell_type": "markdown",
   "id": "aff45a82-22a0-47ec-adfc-846c03c0af0a",
   "metadata": {},
   "source": [
    "#### (c)"
   ]
  },
  {
   "cell_type": "markdown",
   "id": "9e31bc8d-e8db-4805-ade7-ceb97bf8730e",
   "metadata": {},
   "source": [
    "Replicate portfolio where we long futures. We borrow money to buy index"
   ]
  },
  {
   "cell_type": "code",
   "execution_count": 6,
   "id": "3736a032-35d7-45f9-81a6-8ee949fed1fc",
   "metadata": {
    "tags": []
   },
   "outputs": [],
   "source": [
    "lower_bound=2646.86/np.exp((0.01898-div_yield)*t)/1.001"
   ]
  },
  {
   "cell_type": "markdown",
   "id": "fc46feab-8219-4a5e-a57f-53a1b3c0cc2c",
   "metadata": {},
   "source": [
    "Replicate portfolio where we short futures. We deposit money and short sell index"
   ]
  },
  {
   "cell_type": "code",
   "execution_count": 7,
   "id": "eee46fb7-e7cc-417d-86a3-edbb01747864",
   "metadata": {
    "tags": []
   },
   "outputs": [],
   "source": [
    "upper_bound=2646.86/np.exp((0.01898-div_yield)*t)/0.999"
   ]
  },
  {
   "cell_type": "code",
   "execution_count": 8,
   "id": "5eff58f8-367e-48d3-9467-be92a77d2737",
   "metadata": {
    "tags": []
   },
   "outputs": [
    {
     "name": "stdout",
     "output_type": "stream",
     "text": [
      "2645.3504123760795 2650.6464091976527\n"
     ]
    }
   ],
   "source": [
    "print(lower_bound, upper_bound)"
   ]
  },
  {
   "cell_type": "markdown",
   "id": "833f5de3-980a-4a5b-899b-e9b6fa87a861",
   "metadata": {},
   "source": [
    "### Q4"
   ]
  },
  {
   "cell_type": "markdown",
   "id": "9191d3a4-2bbb-4dd3-b2ba-ad11e6ae75c5",
   "metadata": {},
   "source": [
    "#### (a)"
   ]
  },
  {
   "cell_type": "code",
   "execution_count": 19,
   "id": "bee522a4-2aea-4eac-8fe4-f8c0de640adc",
   "metadata": {
    "tags": []
   },
   "outputs": [],
   "source": [
    "r=0.02\n",
    "u=0.03\n",
    "y=0.08\n",
    "S0 = 80"
   ]
  },
  {
   "cell_type": "markdown",
   "id": "2cd663aa-70d1-406c-b1dc-a8d6393fa90f",
   "metadata": {},
   "source": [
    "Values are as follows<br>$G_{0,1}$"
   ]
  },
  {
   "cell_type": "code",
   "execution_count": 22,
   "id": "ab8869a4-b87d-4c32-b5ea-49de447ea0ce",
   "metadata": {
    "tags": []
   },
   "outputs": [
    {
     "name": "stdout",
     "output_type": "stream",
     "text": [
      "77.63564268388065\n"
     ]
    }
   ],
   "source": [
    "G_01 = S0*np.exp(r+u-y)\n",
    "print(G_01)"
   ]
  },
  {
   "cell_type": "markdown",
   "id": "2a8e833c-9f05-4a1c-8222-fa14e8137947",
   "metadata": {},
   "source": [
    "$G_{0,2}$"
   ]
  },
  {
   "cell_type": "code",
   "execution_count": 23,
   "id": "ea498db5-9ebc-4513-be82-d30f7db34755",
   "metadata": {
    "tags": []
   },
   "outputs": [
    {
     "name": "stdout",
     "output_type": "stream",
     "text": [
      "75.34116268673989\n"
     ]
    }
   ],
   "source": [
    "G_02 = S0*np.exp(2*(r+u-y))\n",
    "print(G_02)"
   ]
  },
  {
   "cell_type": "markdown",
   "id": "b2363b7e-fba0-4067-ae6f-7692c60c2cae",
   "metadata": {},
   "source": [
    "#### (b)"
   ]
  },
  {
   "cell_type": "markdown",
   "id": "a6db654d-10d4-4403-9dd9-8a67d4e7eea9",
   "metadata": {},
   "source": [
    "Fair swap rate is as follows"
   ]
  },
  {
   "cell_type": "code",
   "execution_count": 18,
   "id": "d6e5df52-b887-4a61-89b3-8c2ffc58bf55",
   "metadata": {
    "tags": []
   },
   "outputs": [
    {
     "data": {
      "text/plain": [
       "76.47119537586057"
      ]
     },
     "execution_count": 18,
     "metadata": {},
     "output_type": "execute_result"
    }
   ],
   "source": [
    "R=2/(1/G_01 + 1/G_02)\n",
    "R"
   ]
  },
  {
   "cell_type": "markdown",
   "id": "1ccab9b1-79cf-46e4-ba08-bca6319429c1",
   "metadata": {},
   "source": [
    "#### (c)"
   ]
  },
  {
   "cell_type": "markdown",
   "id": "c3204015-b164-4846-bd10-5c88e817a7d6",
   "metadata": {},
   "source": [
    "The option portfolio would be long a call at K=$G_{0,1}$ and short a put at K=$G_{0,1}$. This should have the same payoff as one-year forward from t=0 to t=1"
   ]
  },
  {
   "cell_type": "code",
   "execution_count": 26,
   "id": "35282653-93a6-462e-970a-c51332ed70fb",
   "metadata": {
    "tags": []
   },
   "outputs": [
    {
     "data": {
      "text/plain": [
       "7.569999999999993"
      ]
     },
     "execution_count": 26,
     "metadata": {},
     "output_type": "execute_result"
    }
   ],
   "source": [
    "c0 = 7.57\n",
    "p0 = c0 + G_01*np.exp(-r) - S0*np.exp(u-y)\n",
    "p0"
   ]
  },
  {
   "cell_type": "markdown",
   "id": "ce59877e-6fc6-443e-8b40-75214709fa26",
   "metadata": {
    "tags": []
   },
   "source": [
    "#### (d)"
   ]
  },
  {
   "cell_type": "code",
   "execution_count": 33,
   "id": "c81a3900-7b69-422a-afe4-4d181eb8cfc5",
   "metadata": {
    "tags": []
   },
   "outputs": [
    {
     "name": "stdout",
     "output_type": "stream",
     "text": [
      "[0.2500002 0.2500002]\n"
     ]
    }
   ],
   "source": [
    "from scipy.stats import norm\n",
    "def bs_func(sigma):\n",
    "    d1 = (np.log(S0/G_01)+(r+u-y+sigma**2/2))/sigma\n",
    "    d2 = d1 - sigma\n",
    "    return S0*np.exp((u-y))*norm.cdf(d1) - G_01*np.exp(-r)*norm.cdf(d2) - c0\n",
    "\n",
    "from scipy.optimize import fsolve\n",
    "results = fsolve(bs_func, np.array([1,1]))\n",
    "print(results)"
   ]
  },
  {
   "cell_type": "markdown",
   "id": "b684c67b-f78c-4be9-8c6e-44925ec5417b",
   "metadata": {},
   "source": [
    "$\\sigma_{oil}=0.25$"
   ]
  },
  {
   "cell_type": "code",
   "execution_count": null,
   "id": "956d2081-cec3-4e14-a8de-fc9a3f0c6187",
   "metadata": {},
   "outputs": [],
   "source": []
  }
 ],
 "metadata": {
  "kernelspec": {
   "display_name": "mfe230e",
   "language": "python",
   "name": "mfe230e"
  },
  "language_info": {
   "codemirror_mode": {
    "name": "ipython",
    "version": 3
   },
   "file_extension": ".py",
   "mimetype": "text/x-python",
   "name": "python",
   "nbconvert_exporter": "python",
   "pygments_lexer": "ipython3",
   "version": "3.11.8"
  }
 },
 "nbformat": 4,
 "nbformat_minor": 5
}
