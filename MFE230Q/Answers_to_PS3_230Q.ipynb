{
 "cells": [
  {
   "cell_type": "markdown",
   "metadata": {},
   "source": [
    "#### Q1"
   ]
  },
  {
   "cell_type": "markdown",
   "metadata": {},
   "source": [
    "a) For $$\n",
    " x(t) = e^{at} $$\n",
    "\n",
    "The stochastic differential $\n",
    " dx $\n",
    " is given by:\n",
    "\n",
    "$$ dx = a e^{at} dt $$\n",
    "\n",
    "b) For $$\n",
    " x(t) = \\int_{0}^{t} g(s) dW(s) $$\n",
    "\n",
    "\n",
    "The stochastic differential $\n",
    " dx $\n",
    " is:\n",
    "\n",
    "$$\n",
    " dx = g(t) dW(t) +\\frac{1}{2}g^{'}(t)dt$$\n",
    "\n",
    "\n",
    "c) For $$\n",
    " x(t) = e^{aW(t)} $$\n",
    "\n",
    "Using Itô's lemma, the stochastic differential $\n",
    " dx $\n",
    " is:\n",
    "\n",
    "$$\n",
    " dx = a e^{aW(t)} dW(t) + \\frac{1}{2} a^2 e^{aW(t)} dt $$\n",
    "\n",
    "\n",
    "d) For $$\n",
    " x(t) = e^{aY(t)} $$\n",
    ", where $$\n",
    " dY = \\mu dt + \\sigma dW $$\n",
    "Applying Itô's lemma, the stochastic differential $\n",
    " dx $\n",
    " is:\n",
    "\n",
    "$$\n",
    " dx = \\mu a e^{aY(t)} dt + \\frac{1}{2} \\sigma^2 a^2 e^{aY(t)} dt + \\sigma a e^{aY(t)} dW(t) $$\n",
    "\n",
    "\n",
    "e) For $$\n",
    " x(t) = Y^2(t) $$\n",
    ", where $$\n",
    " dY = \\alpha Y dt + \\sigma Y dW $$\n",
    "Applying Itô's lemma, the stochastic differential $\n",
    " dx $\n",
    " is:\n",
    "\n",
    "$$\n",
    " dx = (2\\alpha Y^2 + \\sigma^2 Y^2) dt + 2\\sigma Y^2 dW(t) $$\n",
    "\n",
    "\n",
    "f) For $$\n",
    " x(t) = \\frac{1}{Y(t)} $$\n",
    ", where $$\n",
    " dY = \\alpha Y dt + \\sigma Y dW $$\n",
    "\n",
    "Applying Itô's lemma, the stochastic differential $\n",
    " dx $\n",
    " is:\n",
    "\n",
    "$$\n",
    " dx = \\left(-\\alpha Y^{-1} + \\sigma^2 Y^{-1}\\right) dt - \\sigma Y^{-1} dW(t) $$\n",
    "\n"
   ]
  },
  {
   "cell_type": "markdown",
   "metadata": {},
   "source": [
    "#### Q2\n",
    "It is evident that $X(t)\\sim N(0,\\int_0^t \\sigma_s^{2} ds)$, and through calculation, we have$$\n",
    "E[e^{itX}]=e^{-\\frac{t^{2}}{2}\\sigma_{X}^{2}}=e^{-\\frac{t^{2}}{2}\\int_0^t \\sigma_s^{2} ds}$$"
   ]
  },
  {
   "cell_type": "markdown",
   "metadata": {},
   "source": [
    "#### Q3"
   ]
  },
  {
   "cell_type": "markdown",
   "metadata": {},
   "source": [
    "It is easy to see:\n",
    "$$ X=X_0+\\alpha\\int_0^t X_s ds +\\int_0^t \\sigma_s dW$$\n",
    "Take expectation on both sides, we have:\n",
    "$$E_0[X_t]=X_0+\\alpha\\int_0^t E[X_s]ds$$\n",
    "Solve this ODE, we have $$E_0[X_t]=\\frac{\\alpha+1}{\\alpha}X_0e^{\\alpha t}-\\frac{X_0}{\\alpha}$$"
   ]
  },
  {
   "cell_type": "markdown",
   "metadata": {},
   "source": [
    "#### Q4"
   ]
  },
  {
   "cell_type": "markdown",
   "metadata": {},
   "source": [
<<<<<<< HEAD
    "Given the coupled SDEs:\n",
    "$$\n",
    "dX = \\alpha X dt - Y dW\n",
    "$$\n",
    "$$\n",
    "dY = \\alpha Y dt + X dW.\n",
    "$$\n",
    "And the function $R(X, Y) = X^2 + Y^2$, we want to find $dR$. Using Itô's lemma for two variables, we get:\n",
    "$$\n",
    "dR = (2X dX + 2Y dY) + \\left( \\frac{\\partial^2 R}{\\partial X^2} (dX)^2 + 2 \\frac{\\partial^2 R}{\\partial X \\partial Y} dX dY + \\frac{\\partial^2 R}{\\partial Y^2} (dY)^2 \\right)\n",
    "$$\n",
    "$$ (dX)^2=Y^2dt,(dY)^2=X^2dt,dXdY=-XYdt$$\n",
    "After substituing these values, weget:\n",
    "$$\n",
    "dR =2(\\alpha+1)(X^2+Y^2)dt=2(\\alpha+1)Rdt$$"
=======
    "$$dx(t)=g(t)dW(t)+\\frac{1}{2}g'(t)dt$$"
>>>>>>> 16df4db983de14d0b48d9a2c3c5ca648c68223fb
   ]
  },
  {
   "cell_type": "markdown",
   "metadata": {},
   "source": [
    "#### Q5"
   ]
  },
  {
   "cell_type": "markdown",
   "metadata": {},
   "source": [
<<<<<<< HEAD
    "Given the SDE:\n",
    "$$\n",
    "dX = \\alpha X dt + \\sigma dW,\n",
    "$$\n",
    "(a) For $Y(X, t) = e^{-\\alpha t} X$, using Itô's lemma, we find:\n",
    "$$\n",
    "dY = -\\alpha e^{-\\alpha t}Xdt + \\alpha e^{-\\alpha t} X dt+\\sigma e^{-\\alpha t}dW=\\sigma e^{-\\alpha t}dW\n",
    "$$\n",
    "(b) From the relationship between Y and X, we know $Y(t=0)=X_0$\n",
    "$$\n",
    "Y(t)=X_0+\\sigma \\int_0^t e^{-\\alpha s} dW_s\n",
    "$$\n",
    "This shows that we can integrate the SDE for $X$ to get $X(t)$:\n",
    "$$\n",
    "X(t) = e^{\\alpha t} X(0) + \\sigma \\int_0^t e^{\\alpha (t-s)} dW_s.\n",
    "$$\n",
    "(c) Since $W(t)$ is normally distributed and $X(t)$ is a linear transformation involving $W(t)$, $X(t)$ is also normally distributed. Take $Z= \\sigma \\int_0^t e^{\\alpha (t-s)} dW_s$,$Z\\sim N(0,\\frac{\\sigma^2(e^{2\\alpha t}-1)}{2\\alpha})$,We can find \n",
    "$$\\mathbb{E}_0[X(T) | X(0)]=e^{\\alpha t} X(0)$$ \n",
    "$$\\mathbb{E}_0[X(T)^2 | X(0)]=e^{2\\alpha t} X^{2}(0)+\\frac{\\sigma^2(e^{2\\alpha t}-1)}{2\\alpha}$$\n",
    "$$ \\mathbb{Var}_0[X(T) | X(0)]=\\frac{\\sigma^2(e^{2\\alpha t}-1)}{2\\alpha}$$\n"
   ]
=======
    "$$dx(t)=\\alpha e^{\\alpha W(t)}dW(t)+\\frac{1}{2}\\alpha^2e^{\\alpha W(t)}dt=\\alpha x(t)dW(t)+\\frac{1}{2}\\alpha^2x(t)dt$$"
   ]
  },
  {
   "cell_type": "markdown",
   "id": "434af821-d358-4e44-b1a3-c2c9903bfa23",
   "metadata": {},
   "source": [
    "(d)"
   ]
  },
  {
   "cell_type": "markdown",
   "id": "c9cff433-a79f-43fa-8296-7d3b8c59efef",
   "metadata": {},
   "source": [
    "$$dx(t)=\\alpha e^{\\alpha y(t)}dy(t)+\\frac{1}{2}\\alpha^2e^{\\alpha y(t)}(dy(t)^2)=\\alpha x(t)(\\mu dt + \\sigma dW(t))+\\frac{1}{2}\\alpha^2e^{\\alpha y(t)}\\sigma^2dt$$\n",
    "$$=(\\alpha\\mu+\\frac{1}{2}\\alpha^2\\sigma^2) x(t)dt + \\alpha \\sigma x(t) dW(t)$$"
   ]
  },
  {
   "cell_type": "markdown",
   "id": "9c1ee1e8-4b66-4db9-88da-47ea689672e8",
   "metadata": {},
   "source": [
    "(e)"
   ]
  },
  {
   "cell_type": "markdown",
   "id": "02875566-4f44-4989-aa16-35873c3f5176",
   "metadata": {},
   "source": [
    "$$dx(t)=2y(t)dy(t)+\\frac{1}{2}2\\sigma^2y(t)^2dt=2y(t)(\\alpha y(t)dt+\\sigma y(t)dW(t))+\\frac{1}{2}2\\sigma^2y(t)^2dt$$\n",
    "$$=2\\alpha y(t)^2dt+2\\sigma y(t)^2dW(t)+\\frac{1}{2}2\\sigma^2y(t)^2dt$$\n",
    "$$=2\\alpha x(t)dt+2\\sigma x(t)dW(t)+\\frac{1}{2}2\\sigma^2x(t)dt=(2\\alpha +\\sigma^2)x(t)dt+2\\sigma x(t)dW(t)$$"
   ]
  },
  {
   "cell_type": "markdown",
   "id": "e8c32199-a242-4812-a324-6a29db065b37",
   "metadata": {},
   "source": [
    "(f)"
   ]
  },
  {
   "cell_type": "markdown",
   "id": "323c97b5-7a5c-48c9-8a48-7381e18d3916",
   "metadata": {},
   "source": [
    "$$dx(t)=-\\frac{1}{y(t)^2}dy(t)+\\frac{2}{y(t)^3}(dy(t))^2$$\n",
    "$$=-\\frac{1}{y(t)^2}(\\alpha y(t)dt+\\sigma y(t)dW(t))+\\frac{2}{y(t)^3}\\sigma^2y(t)^2dt$$\n",
    "$$=-\\frac{\\alpha}{y(t)}dt-\\frac{\\sigma}{y(t)}dW(t)+\\frac{2\\sigma^2}{y(t)}dt=(-\\alpha+2\\sigma^2) x(t)dt - \\sigma x(t)dW(t)$$"
   ]
  },
  {
   "cell_type": "markdown",
   "id": "d972398c-1439-49a8-b07d-70cb3920d858",
   "metadata": {},
   "source": [
    "### Q2"
   ]
  },
  {
   "cell_type": "markdown",
   "id": "787e7383-43e3-4165-b8d8-1e287bf49e0b",
   "metadata": {},
   "source": [
    "According to Ito formula\n",
    "$$X(t)=\\sum_{k=1}^n\\sigma_{(k-1)\\Delta t}(W_{k\\Delta t}-W_{(k-1)\\Delta t})$$\n",
    "Because W(t) is Wiener process, which implies incremental would be independent of each other.\n",
    "$$E_0\\left[e^{iuX(t)}\\right]=\\prod_{k=1}^n E_0\\left[e^{iu\\sigma_{(k-1)\\Delta t}(W_{k\\Delta t}-W_{(k-1)\\Delta t})}\\right]$$\n",
    "Given $W_{k\\Delta t}-W_{(k-1)\\Delta t} \\sim N(0, \\Delta t)$\n",
    "$$E_0\\left[e^{iu\\sigma_{(k-1)\\Delta t}(W_{k\\Delta t}-W_{(k-1)\\Delta t})}\\right]=e^{\\frac{i^2u^2\\sigma_{(k-1)\\Delta t}^2\\Delta t}{2}}$$\n",
    "$$E_0\\left[e^{iuX(t)}\\right]=e^{\\frac{1}{2}i^2u^2\\sum_{k=1}^n\\sigma_{(k-1)\\Delta t}^2\\Delta t}=e^{-\\frac{u^2}{2}\\int_0^t\\sigma_s^2 ds}$$"
   ]
  },
  {
   "cell_type": "markdown",
   "id": "6ca639f4-5100-4074-b07d-a3b036dabbe9",
   "metadata": {},
   "source": [
    "### Q3"
   ]
  },
  {
   "cell_type": "markdown",
   "id": "c0649529-c14e-40cc-aabc-17bc13f51ae7",
   "metadata": {},
   "source": [
    "$$X(t)=X(0)+\\int_0^t \\alpha X(s)ds + \\int_0^t \\sigma_s dW(s)$$\n",
    "$$X(t)=X(0)+\\sum_{k=1}^n \\alpha X((k-1)\\Delta t) \\Delta t+ \\sum_{k=1}^n \\sigma_{(k-1)\\Delta t} (W_{k\\Delta t} - W_{(k-1)\\Delta t})$$\n",
    "$$E_0(X(t))=X(0) + \\sum_{k=1}^n \\alpha E_0(X((k-1)\\Delta t)) \\Delta t + \\sum_{k=1}^n E_0(\\sigma_{(k-1)\\Delta t}) E_0((W_{k\\Delta t} - W_{(k-1)\\Delta t}))$$\n",
    "$$=X(0) + \\sum_{k=1}^n \\alpha E_0(X((k-1)\\Delta t)) \\Delta t=X(0) + \\alpha \\int_0^t E_0(X(s))ds$$"
   ]
  },
  {
   "cell_type": "code",
   "execution_count": null,
   "id": "42b90b05-7725-4e67-a11a-b94d9f255b31",
   "metadata": {},
   "outputs": [],
   "source": []
>>>>>>> 16df4db983de14d0b48d9a2c3c5ca648c68223fb
  }
 ],
 "metadata": {
  "language_info": {
   "name": "python"
  }
 },
 "nbformat": 4,
 "nbformat_minor": 2
}
