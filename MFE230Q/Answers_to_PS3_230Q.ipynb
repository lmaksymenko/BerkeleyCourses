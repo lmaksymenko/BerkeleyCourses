{
 "cells": [
  {
   "cell_type": "markdown",
   "metadata": {},
   "source": [
    "### Answers to Assignment 1 of 230Q"
   ]
  },
  {
   "cell_type": "markdown",
   "metadata": {},
   "source": [
    "##### Authors(alphabetic order)\n",
    "1) Ishan Pathak ishan_pathak@berkeley.edu\n",
    "2) Leonid Maksymenko leo.maksymenko@berkeley.edu\n",
    "3) Nymph Qiu nymph_qiu@berkeley.edu\n",
    "4) Xuanzhong Ren rxz19@berkeley.edu"
   ]
  },
  {
   "cell_type": "markdown",
   "metadata": {},
   "source": [
    "#### Q1"
   ]
  },
  {
   "cell_type": "markdown",
   "metadata": {},
   "source": [
    "a) For $$\n",
    " x(t) = e^{at} $$\n",
    "\n",
    "The stochastic differential $\n",
    " dx $\n",
    " is given by:\n",
    "\n",
    "$$ dx = a e^{at} dt $$\n",
    "\n",
    "b) For $$\n",
    " x(t) = \\int_{0}^{t} g(s) dW(s) $$\n",
    "\n",
    "\n",
    "The stochastic differential $\n",
    " dx $\n",
    " is:\n",
    "\n",
    "$$\n",
    " dx = g(t) dW(t) +\\frac{1}{2}g^{'}(t)dt$$\n",
    "\n",
    "\n",
    "c) For $$\n",
    " x(t) = e^{aW(t)} $$\n",
    "\n",
    "Using Itô's lemma, the stochastic differential $\n",
    " dx $\n",
    " is:\n",
    "\n",
    "$$\n",
    " dx = a e^{aW(t)} dW(t) + \\frac{1}{2} a^2 e^{aW(t)} dt $$\n",
    "\n",
    "\n",
    "d) For $$\n",
    " x(t) = e^{aY(t)} $$\n",
    ", where $$\n",
    " dY = \\mu dt + \\sigma dW $$\n",
    "Applying Itô's lemma, the stochastic differential $\n",
    " dx $\n",
    " is:\n",
    "\n",
    "$$\n",
    " dx = \\mu a e^{aY(t)} dt + \\frac{1}{2} \\sigma^2 a^2 e^{aY(t)} dt + \\sigma a e^{aY(t)} dW(t) $$\n",
    "\n",
    "\n",
    "e) For $$\n",
    " x(t) = Y^2(t) $$\n",
    ", where $$\n",
    " dY = \\alpha Y dt + \\sigma Y dW $$\n",
    "Applying Itô's lemma, the stochastic differential $\n",
    " dx $\n",
    " is:\n",
    "\n",
    "$$\n",
    " dx = (2\\alpha Y^2 + \\sigma^2 Y^2) dt + 2\\sigma Y^2 dW(t) $$\n",
    "\n",
    "\n",
    "f) For $$\n",
    " x(t) = \\frac{1}{Y(t)} $$\n",
    ", where $$\n",
    " dY = \\alpha Y dt + \\sigma Y dW $$\n",
    "\n",
    "Applying Itô's lemma, the stochastic differential $\n",
    " dx $\n",
    " is:\n",
    "\n",
    "$$\n",
    " dx = \\left(-\\alpha Y^{-1} + \\sigma^2 Y^{-1}\\right) dt - \\sigma Y^{-1} dW(t) $$\n",
    "\n"
   ]
  },
  {
   "cell_type": "markdown",
   "metadata": {},
   "source": [
    "#### Q2\n",
    "It is evident that $X(t)\\sim N(0,\\int_0^t \\sigma_s^{2} ds)$, and through calculation, we have$$\n",
    "E[e^{itX}]=e^{-\\frac{t^{2}}{2}\\sigma_{X}^{2}}=e^{-\\frac{t^{2}}{2}\\int_0^t \\sigma_s^{2} ds}$$"
   ]
  },
  {
   "cell_type": "markdown",
   "metadata": {},
   "source": [
    "#### Q3"
   ]
  },
  {
   "cell_type": "markdown",
   "metadata": {},
   "source": [
    "It is easy to see:\n",
    "$$ X=X_0+\\alpha\\int_0^t X_s ds +\\int_0^t \\sigma_s dW$$\n",
    "Take expectation on both sides, we have:\n",
    "$$E_0[X_t]=X_0+\\alpha\\int_0^t E[X_s]ds$$\n",
    "Solve this ODE, we have $$E_0[X_t]=X_0e^{\\alpha t}$$"
   ]
  },
  {
   "cell_type": "markdown",
   "metadata": {},
   "source": [
    "#### Q4"
   ]
  },
  {
   "cell_type": "markdown",
   "metadata": {},
   "source": [
    "Given the coupled SDEs:\n",
    "$$\n",
    "dX = \\alpha X dt - Y dW\n",
    "$$\n",
    "$$\n",
    "dY = \\alpha Y dt + X dW.\n",
    "$$\n",
    "And the function $R(X, Y) = X^2 + Y^2$, we want to find $dR$. Using Itô's lemma for two variables, we get:\n",
    "$$\n",
    "dR = (2X dX + 2Y dY) + \\left( \\frac{\\partial^2 R}{\\partial X^2} (dX)^2 + 2 \\frac{\\partial^2 R}{\\partial X \\partial Y} dX dY + \\frac{\\partial^2 R}{\\partial Y^2} (dY)^2 \\right)\n",
    "$$\n",
    "$$ (dX)^2=Y^2dt,(dY)^2=X^2dt,dXdY=-XYdt$$\n",
    "After substituing these values, weget:\n",
    "$$\n",
    "dR =2(\\alpha+1)(X^2+Y^2)dt=2(\\alpha+1)Rdt$$"
   ]
  },
  {
   "cell_type": "markdown",
   "metadata": {},
   "source": [
    "#### Q5"
   ]
  },
  {
   "cell_type": "markdown",
   "metadata": {},
   "source": [
    "Given the SDE:\n",
    "$$\n",
    "dX = \\alpha X dt + \\sigma dW,\n",
    "$$\n",
    "(a) For $Y(X, t) = e^{-\\alpha t} X$, using Itô's lemma, we find:\n",
    "$$\n",
    "dY = -\\alpha e^{-\\alpha t}Xdt + \\alpha e^{-\\alpha t} X dt+\\sigma e^{-\\alpha t}dW=\\sigma e^{-\\alpha t}dW\n",
    "$$\n",
    "(b) From the relationship between Y and X, we know $Y(t=0)=X_0$\n",
    "$$\n",
    "Y(t)=X_0+\\sigma \\int_0^t e^{-\\alpha s} dW_s\n",
    "$$\n",
    "This shows that we can integrate the SDE for $X$ to get $X(t)$:\n",
    "$$\n",
    "X(t) = e^{\\alpha t} X(0) + \\sigma \\int_0^t e^{\\alpha (t-s)} dW_s.\n",
    "$$\n",
    "(c) Since $W(t)$ is normally distributed and $X(t)$ is a linear transformation involving $W(t)$, $X(t)$ is also normally distributed. Take $Z= \\sigma \\int_0^t e^{\\alpha (t-s)} dW_s$,$Z\\sim N(0,\\frac{\\sigma^2(e^{2\\alpha t}-1)}{2\\alpha})$,We can find \n",
    "$$\\mathbb{E}_0[X(T) | X(0)]=e^{\\alpha t} X(0)$$ \n",
    "$$\\mathbb{E}_0[X(T)^2 | X(0)]=e^{2\\alpha t} X^{2}(0)+\\frac{\\sigma^2(e^{2\\alpha t}-1)}{2\\alpha}$$\n",
    "$$ \\mathbb{Var}_0[X(T) | X(0)]=\\frac{\\sigma^2(e^{2\\alpha t}-1)}{2\\alpha}$$\n"
   ]
  }
 ],
 "metadata": {
  "language_info": {
   "name": "python"
  }
 },
 "nbformat": 4,
 "nbformat_minor": 2
}
