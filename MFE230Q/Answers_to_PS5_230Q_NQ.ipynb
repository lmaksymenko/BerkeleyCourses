{
 "cells": [
  {
   "cell_type": "markdown",
   "id": "753271fa-c701-4143-b491-c2d36f902a62",
   "metadata": {},
   "source": [
    "### Answers to Assignment 5 of 230Q"
   ]
  },
  {
   "cell_type": "markdown",
   "id": "fcb86882-bd41-433a-ac0d-b03995b9720c",
   "metadata": {},
   "source": [
    "##### Authors(alphabetic order)\n",
    "1) Ishan Pathak ishan_pathak@berkeley.edu\n",
    "2) Leonid Maksymenko leo.maksymenko@berkeley.edu\n",
    "3) Nymph Qiu nymph_qiu@berkeley.edu\n",
    "4) Xuanzhong Ren rxz19@berkeley.edu"
   ]
  },
  {
   "cell_type": "code",
   "execution_count": 13,
   "id": "ab595ca0-a627-4fad-a36d-e0d0956a2c3f",
   "metadata": {},
   "outputs": [],
   "source": [
    "import pandas as pd\n",
    "import numpy as np\n",
    "import matplotlib.pyplot as plt\n",
    "import statsmodels.api as sm\n",
    "from statsmodels.graphics.tsaplots import plot_acf, plot_pacf"
   ]
  },
  {
   "cell_type": "markdown",
   "id": "0ef9058b-007d-46bf-b73c-9ddaa56ff32d",
   "metadata": {},
   "source": [
    "### Q1"
   ]
  },
  {
   "cell_type": "markdown",
   "id": "92c65895-0535-4873-952d-266377054f56",
   "metadata": {},
   "source": [
    "$S_T=S_0e^{(r-\\delta-\\frac{1}{2}\\sigma^2)T+\\sigma W_T^Q}$<br>\n",
    "$P_0=e^{-rT}E_0((K-S_T)_+)$<br>\n",
    "$K>S_0e^{(r-\\delta-\\frac{1}{2}\\sigma^2)T+\\sigma \\sqrt{T}z}$<br>\n",
    "$z<\\frac{\\log(K/S_0)-(r-\\delta-\\frac{1}{2}\\sigma^2)T}{\\sigma \\sqrt{T}}$<br>\n",
    "Let $d_{-}=\\frac{\\log(S_0/K)+(r-\\delta-\\frac{1}{2}\\sigma^2)T}{\\sigma \\sqrt{T}}$, $d_+=\\frac{\\log(S_0/K)+(r-\\delta+\\frac{1}{2}\\sigma^2)T}{\\sigma \\sqrt{T}}$<br>\n",
    "$P_0=e^{-rT}K(N(-d_{-}))-e^{-rT}\\int_{\\infty}^{-d_{-}} S_0e^{(r-\\delta-\\frac{1}{2}\\sigma^2)T+\\sigma \\sqrt{T}z} \\frac{1}{\\sqrt{2\\pi}}e^{-\\frac{z^2}{2}}dz=e^{-rT}K(N(-d_{-}))-e^{-rT}\\int_{\\infty}^{-d_{-}-\\sigma\\sqrt{T}}S_0e^{(r-\\delta)T}\\frac{1}{\\sqrt{2\\pi}}e^{-\\frac{z_{*}^2}{2}}dz_{*}$<br>\n",
    "$P_0=e^{-rT}K(N(-d_{-}))-S_0e^{-\\delta T}(N(-d_{+}))$<br>"
   ]
  },
  {
   "cell_type": "markdown",
   "id": "c2724ab4-4718-4760-86ba-f1a348997e52",
   "metadata": {},
   "source": [
    "### Q2"
   ]
  },
  {
   "cell_type": "markdown",
   "id": "7154768d-039c-4625-9d41-f979d2c087cf",
   "metadata": {},
   "source": [
    "#### (a)"
   ]
  },
  {
   "cell_type": "markdown",
   "id": "be0bbd17-894b-4320-906b-61f07f35ee29",
   "metadata": {},
   "source": [
    "$Pr(y \\le y(T)\\le y+\\epsilon)=Pr(y \\le \\log(S_0)+(r-\\frac{1}{2}\\sigma^2)T+\\sigma\\sqrt{T} z\\le y+\\epsilon)=N(\\frac{y+\\epsilon-\\log(S_0)-(r-\\frac{1}{2}\\sigma^2)T}{\\sigma\\sqrt{T}})-N(\\frac{y-\\log(S_0)-(r-\\frac{1}{2}\\sigma^2)T}{\\sigma\\sqrt{T}})$<br>\n",
    "$AD_0=e^{-rT}Pr(y \\le y(T)\\le y+\\epsilon)\\frac{1}{\\epsilon}=\\frac{N(\\frac{y+\\epsilon-\\log(S_0)-(r-\\frac{1}{2}\\sigma^2)T}{\\sigma\\sqrt{T}})-N(\\frac{y-\\log(S_0)-(r-\\frac{1}{2}\\sigma^2)T}{\\sigma\\sqrt{T}})}{\\epsilon}e^{-rT}$<br>\n",
    "$\\lim_{\\epsilon\\rightarrow 0}e^{-rT}\\frac{N(\\frac{y+\\epsilon-\\log(S_0)-(r-\\frac{1}{2}\\sigma^2)T}{\\sigma\\sqrt{T}})-N(\\frac{y-\\log(S_0)-(r-\\frac{1}{2}\\sigma^2)T}{\\sigma\\sqrt{T}})}{\\epsilon}=e^{-rT}\\frac{1}{\\sqrt{2\\pi}}e^{-\\frac{(\\frac{y-\\log(S_0)-(r-\\frac{1}{2}\\sigma^2)T}{\\sigma\\sqrt{T}})^2}{2}}\\frac{1}{\\sigma\\sqrt{T}}=e^{-rT}\\frac{1}{\\sqrt{2\\pi\\sigma^2T}}e^{-(\\frac{(y-\\log(S_0)-(r-\\frac{1}{2}\\sigma^2)T)^2}{2\\sigma^2T})}$"
   ]
  },
  {
   "cell_type": "markdown",
   "id": "76268099-f918-497a-915e-b4ea47cc01c4",
   "metadata": {},
   "source": [
    "#### （b）"
   ]
  },
  {
   "cell_type": "markdown",
   "id": "f15a0857-92de-4807-a726-e2c503d25c7c",
   "metadata": {},
   "source": [
    "Payoff = $(S_0e^{y(t)}-K)_+$\n",
    "\n",
    "$\\int_{-\\infty}^{\\infty}e^{-rT}\\frac{1}{\\sqrt{2\\pi\\sigma^2T}}e^{-(\\frac{(y-\\log(S_0)-(r-\\frac{1}{2}\\sigma^2)T)^2}{2\\sigma^2T})}(e^{y}-K)_+ dy=\\int_{\\log K}^{\\infty}e^{-rT}\\frac{1}{\\sqrt{2\\pi\\sigma^2T}}e^{-(\\frac{(y-\\log(S_0)-(r-\\frac{1}{2}\\sigma^2)T)^2}{2\\sigma^2T})}(e^{y}-K) dy$<br>\n",
    "Let A = $\\int_{\\log K}^{\\infty}e^{-rT}\\frac{1}{\\sqrt{2\\pi\\sigma^2T}}e^{-(\\frac{(y-\\log(S_0)-(r-\\frac{1}{2}\\sigma^2)T)^2}{2\\sigma^2T})}K dy$ and B = $\\int_{\\log K}^{\\infty}e^{-rT}\\frac{1}{\\sqrt{2\\pi\\sigma^2T}}e^{-(\\frac{(y-\\log(S_0)-(r-\\frac{1}{2}\\sigma^2)T)^2}{2\\sigma^2T})}e^y dy$<br>\n",
    "Let $X_1 \\sim N(\\log(S_0)+(r-\\frac{1}{2}\\sigma^2)T, \\sigma^2T)$, so A=$Ke^{-rT}Pr(X_1\\ge \\log K)=Ke^{-rT}N(\\frac{\\log\\frac{S_0}{K}+(r-\\frac{1}{2}\\sigma^2)T}{\\sigma\\sqrt{T}})$<br>\n",
    "$B=\\int_{\\log K}^{\\infty}e^{-rT}\\frac{1}{\\sqrt{2\\pi\\sigma^2T}}e^{-(\\frac{(y-\\log(S_0)-(r+\\frac{1}{2}\\sigma^2)T)^2-2r\\sigma^2T^2-2\\sigma^2T\\log S_0 }{2\\sigma^2T})}dy=\\int_{\\log K}^{\\infty}S_0\\frac{1}{\\sqrt{2\\pi\\sigma^2T}}e^{-(\\frac{(y-\\log(S_0)-(r+\\frac{1}{2}\\sigma^2)T)^2}{2\\sigma^2T})}dy$<br>\n",
    "Let $X_2 \\sim N(\\log(S_0)+(r+\\frac{1}{2}\\sigma^2)T, \\sigma^2T)$, $B=S_0 Pr(X_2 \\ge \\log K)=S_0 N(\\frac{\\log \\frac{S_0}{K}+(r+\\frac{1}{2}\\sigma^2)T}{\\sigma\\sqrt{T}})$<br>\n",
    "\n",
    "So call price = $S_0 N(\\frac{\\log \\frac{S_0}{K}+(r+\\frac{1}{2}\\sigma^2)T}{\\sigma\\sqrt{T}})-Ke^{-rT}N(\\frac{\\log\\frac{S_0}{K}+(r-\\frac{1}{2}\\sigma^2)T}{\\sigma\\sqrt{T}})$ which is consistent with Black Scholes Model"
   ]
  },
  {
   "cell_type": "markdown",
   "id": "d92c3a50-5b13-4a96-99c8-69bae888c531",
   "metadata": {},
   "source": [
    "#### (a)"
   ]
  },
  {
   "cell_type": "markdown",
   "id": "dabfa1d3-92a3-4b2c-ae20-bc6298c982e5",
   "metadata": {},
   "source": []
  },
  {
   "cell_type": "markdown",
   "id": "9a8b19fe",
   "metadata": {},
   "source": [
    "### Question 3\n",
    "\n",
    "**part (a)**\n",
    "\n",
    "Assuming no payouts\n",
    "\n",
    "$G_t + (r - \\theta) s G_s + \\frac{1}{2} \\sigma^2 s^2 G_{ss} - rG = 0$\n",
    "\n",
    "G does not depend on time as the option can be held perpetually and there is no dependence of payout structure on time. Regardless of when we start the problem depends only on stock prices, in other words, we have the case of time invariance here. Hence, by this rationale\n",
    "\n",
    "$G_t=0$\n",
    "\n",
    "and the PDE reduces to $(r - \\delta) s G_s + \\frac{1}{2} \\sigma^2 s^2 G_{ss} - rG = 0$, subject to boundary conditions:\n",
    "\n",
    "$G(s^*) = s^*-K$, \n",
    "and \n",
    "\n",
    "$G(0) = 0$\n",
    "\n",
    "**part (b)**\n",
    "\n",
    "Assuming \n",
    "\n",
    "$\\alpha \\cdot (r - \\delta) \\cdot s^{\\alpha} + \\frac{1}{2} \\sigma^2 \\cdot \\alpha \\cdot (\\alpha - 1) \\cdot s^{\\alpha} - r \\cdot s^{\\alpha} = 0$\n",
    "\n",
    "$\\alpha^2 \\left(\\frac{\\sigma^2}{2}\\right) + \\alpha (r - \\delta - \\frac{\\sigma^2}{2}) - r = 0$\n",
    "\n",
    "$\\alpha = \\left(\\delta + \\frac{\\sigma^2}{2} - r\\right) \\pm \\sqrt{\\left(r - \\alpha - \\frac{\\sigma^2}{2}\\right)^2 + 2\\alpha^2 r} \\Bigg/ \\sigma^2$\n",
    "\n",
    "The above solution will have two roots, one greater than 0, $\\alpha_+$, and one less than 0, sya $\\alpha_-$\n",
    "\n",
    "The general solution can we wriiten as \n",
    "\n",
    "$c = As^{\\alpha_+} + Bs^{\\alpha_-}$\n",
    "\n",
    "For stock price close to zero, the call option should be worthless, hence \n",
    "\n",
    "$\\lim_{{s \\to 0}} c \\to 0 \\Rightarrow B = 0$\n",
    "\n",
    "From the first boundary condition, $A = \\frac{s^* - k}{{s^*}^{\\alpha_+}}$\n",
    "\n",
    "$\\Large$Hence, $\\Large c = \\frac{s^* - k}{{s^*}^{\\alpha_+}}{s}^{\\alpha_+}$, where $\\alpha_+$ is the positive root of the quadratic equation\n",
    "\n",
    "$\\Large \\alpha^2 \\left(\\frac{\\sigma^2}{2}\\right) + \\alpha (r - \\delta - \\frac{\\sigma^2}{2}) - r = 0$\n",
    "\n",
    "\n",
    "**part (c)**\n",
    "\n",
    "As $G$ is the risk neutral expectation of future payout, to find the optimal exercise price, we maximize $c$ with respect to $s^*$ to find \n",
    "\n",
    "$\\frac{\\partial c}{\\partial s^*} = (1 - \\alpha_+)(s^*)^{-\\alpha_+} + k\\alpha_+(s^*)^{-\\alpha_+ - 1}$\n",
    "\n",
    "$s^* = \\frac{k \\alpha_+}{\\alpha_+ - 1}$\n",
    "\n",
    "$\\text{As } \\delta \\to 0, \\alpha_+ \\to 1, \\text{ hence } s^* \\to \\infty$\n",
    "\n",
    "This makes sense as \n",
    "\n",
    "1. As $\\delta$ increases, the opportunity cost of holding the option increases since the stock now grows at $r-\\delta$ (insted of $r$) in the risk neutral world, hence the investor choses to exercise the profits as soon as the stock hits a finite level of $s^*$, rather than waiting for the stock to grow as much as it can."
   ]
  },
  {
   "cell_type": "markdown",
   "id": "3bfee50f",
   "metadata": {},
   "source": [
    "### Question 4\n",
    "\n",
    "**part (a)**\n",
    "\n",
    "Following the similar line of reasoning as Question 3(a), we argue that the claim value PV payout structure has no dependence on time as the boundary $v_{B}$ can be achieved perpetually at any point in time. Regardless of when we start the problem depends only on stock prices, in other words, we have the case of time invariance here.\n",
    "\n",
    "Using the same PDE as **3(a)**\n",
    "\n",
    "$rv p_v + \\frac{1}{2} \\sigma^2 v^2 p_{vv} - rp = 0$\n",
    "\n",
    "with boundary condition as \n",
    "\n",
    "$p(v_{B}) = 1$,\n",
    "and \n",
    "\n",
    "$p(\\infty) = 0$\n",
    "\n",
    "This is the same equation as derived in class, so we directly use the general solution\n",
    "\n",
    "$p = Av + Bv^{-\\frac{2r}{\\sigma^2}}$\n",
    "\n",
    "$A=0$\n",
    "\n",
    "Using the second boundary condition, we get \n",
    "\n",
    "$\\Large p = \\left(\\frac{v_B}{v}\\right)^{\\frac{2r}{\\sigma^2}}$\n",
    "\n",
    "**part (b)**\n",
    "\n",
    "For constant coupon payment part **g** of debt valuation, we use the general Black Scholes PDE in Lecture notes with constant payout  **c**\n",
    "\n",
    "$rv g_v + \\frac{1}{2} \\sigma^2 v^2 g_{vv} - rg +c = 0$\n",
    "\n",
    "Subject to boundary conditions $g(v_{B}) = 0$, and $g(\\infty)=0$\n",
    "\n",
    "Using the general solution of homogenous part from Q4(a) and a particular solution of $c/r$, we get the general solution of the PDE as \n",
    "\n",
    "$ \\Large g = Av + Bv^{\\frac{-2r}{\\sigma^2}} + \\frac{c}{r}$\n",
    "\n",
    "Using the boundary conditions, we get A=0, and that \n",
    "\n",
    "$\\Large g = \\frac{c}{r} \\left(1 - \\left(\\frac{v_B}{V}\\right)^{\\frac{2r}{\\sigma^2}}\\right)$\n",
    "\n",
    "For the bankruptcy part of debt valuation **u**, we observe that the valuation is similar to part (a) with the payout of $v_{B}$ oncce the barrier of $v_{B}$ is achieved, hence\n",
    "\n",
    "$\\Large u = v_B\\left(\\frac{v_B}{V}\\right)^{\\frac{2r}{\\sigma^2}}$\n",
    "\n",
    "Hence the total debt valuation is $g+u$ which is \n",
    "\n",
    "$\\Large D(V) = \\frac{c}{r} \\left(1 - \\left(\\frac{v_B}{V}\\right)^{\\frac{2r}{\\sigma^2}}\\right)+v_B\\left(\\frac{v_B}{V}\\right)^{\\frac{2r}{\\sigma^2}}$\n",
    "\n",
    "We notice that D(V) has an additional component in its payout structure of coupon payments till the stock price reaches the lower barrier $v_B$\n",
    "\n",
    "**part (c)**\n",
    "\n",
    "The Equity value is the difference between firm's current value and the value of Debt, hence\n",
    "\n",
    "$\\Large E(V) = V - \\frac{c}{r} \\left(1 - \\left(\\frac{v_B}{V}\\right)^{\\frac{2r}{\\sigma^2}}\\right)-v_B\\left(\\frac{v_B}{V}\\right)^{\\frac{2r}{\\sigma^2}}$\n",
    "\n",
    "As long as the company is solvent, equity holders have a residual claim on the company, hence, to decide on the optimal boudnary for declaring bankrupty, we must have $ E(V)>0$\n",
    "\n",
    "Solving we get, $\\Large v_{B} = V \\left(1 - \\frac{rV}{c}\\right)^{\\frac{\\sigma^2}{2r}}$"
   ]
  },
  {
   "cell_type": "code",
   "execution_count": null,
   "id": "cf33e70c",
   "metadata": {},
   "outputs": [],
   "source": []
  }
 ],
 "metadata": {
  "kernelspec": {
   "display_name": "Python 3 (ipykernel)",
   "language": "python",
   "name": "python3"
  },
  "language_info": {
   "codemirror_mode": {
    "name": "ipython",
    "version": 3
   },
   "file_extension": ".py",
   "mimetype": "text/x-python",
   "name": "python",
   "nbconvert_exporter": "python",
   "pygments_lexer": "ipython3",
   "version": "3.9.7"
  }
 },
 "nbformat": 4,
 "nbformat_minor": 5
}
