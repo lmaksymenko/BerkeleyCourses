{
 "cells": [
  {
   "cell_type": "markdown",
   "id": "753271fa-c701-4143-b491-c2d36f902a62",
   "metadata": {},
   "source": [
    "### Answers to Assignment 5 of 230Q"
   ]
  },
  {
   "cell_type": "markdown",
   "id": "fcb86882-bd41-433a-ac0d-b03995b9720c",
   "metadata": {},
   "source": [
    "##### Authors(alphabetic order)\n",
    "1) Ishan Pathak ishan_pathak@berkeley.edu\n",
    "2) Leonid Maksymenko leo.maksymenko@berkeley.edu\n",
    "3) Nymph Qiu nymph_qiu@berkeley.edu\n",
    "4) Xuanzhong Ren rxz19@berkeley.edu"
   ]
  },
  {
   "cell_type": "code",
   "execution_count": 13,
   "id": "ab595ca0-a627-4fad-a36d-e0d0956a2c3f",
   "metadata": {},
   "outputs": [],
   "source": [
    "import pandas as pd\n",
    "import numpy as np\n",
    "import matplotlib.pyplot as plt\n",
    "import statsmodels.api as sm\n",
    "from statsmodels.graphics.tsaplots import plot_acf, plot_pacf"
   ]
  },
  {
   "cell_type": "markdown",
   "id": "0ef9058b-007d-46bf-b73c-9ddaa56ff32d",
   "metadata": {},
   "source": [
    "### Q1"
   ]
  },
  {
   "cell_type": "markdown",
   "id": "92c65895-0535-4873-952d-266377054f56",
   "metadata": {},
   "source": [
    "$S_T=S_0e^{(r-\\delta-\\frac{1}{2}\\sigma^2)T+\\sigma W_T^Q}$<br>\n",
    "$P_0=e^{-rT}E_0((K-S_T)_+)$<br>\n",
    "$K>S_0e^{(r-\\delta-\\frac{1}{2}\\sigma^2)T+\\sigma \\sqrt{T}z}$<br>\n",
    "$z<\\frac{\\log(K/S_0)-(r-\\delta-\\frac{1}{2}\\sigma^2)T}{\\sigma \\sqrt{T}}$<br>\n",
    "Let $d_{-}=\\frac{\\log(S_0/K)+(r-\\delta-\\frac{1}{2}\\sigma^2)T}{\\sigma \\sqrt{T}}$, $d_+=\\frac{\\log(S_0/K)+(r-\\delta+\\frac{1}{2}\\sigma^2)T}{\\sigma \\sqrt{T}}$<br>\n",
    "$P_0=e^{-rT}K(N(-d_{-}))-e^{-rT}\\int_{\\infty}^{-d_{-}} S_0e^{(r-\\delta-\\frac{1}{2}\\sigma^2)T+\\sigma \\sqrt{T}z} \\frac{1}{\\sqrt{2\\pi}}e^{-\\frac{z^2}{2}}dz=e^{-rT}K(N(-d_{-}))-e^{-rT}\\int_{\\infty}^{-d_{-}-\\sigma\\sqrt{T}}S_0e^{(r-\\delta)T}\\frac{1}{\\sqrt{2\\pi}}e^{-\\frac{z_{*}^2}{2}}dz_{*}$<br>\n",
    "$P_0=e^{-rT}K(N(-d_{-}))-S_0e^{-\\delta T}(N(-d_{+}))$<br>"
   ]
  },
  {
   "cell_type": "markdown",
   "id": "c2724ab4-4718-4760-86ba-f1a348997e52",
   "metadata": {},
   "source": [
    "### Q2"
   ]
  },
  {
   "cell_type": "markdown",
   "id": "7154768d-039c-4625-9d41-f979d2c087cf",
   "metadata": {},
   "source": [
    "#### (a)"
   ]
  },
  {
   "cell_type": "markdown",
   "id": "be0bbd17-894b-4320-906b-61f07f35ee29",
   "metadata": {},
   "source": [
    "$Pr(y \\le y(T)\\le y+\\epsilon)=Pr(y \\le \\log(S_0)+(r-\\frac{1}{2}\\sigma^2)T+\\sigma\\sqrt{T} z\\le y+\\epsilon)=N(\\frac{y+\\epsilon-\\log(S_0)-(r-\\frac{1}{2}\\sigma^2)T}{\\sigma\\sqrt{T}})-N(\\frac{y-\\log(S_0)-(r-\\frac{1}{2}\\sigma^2)T}{\\sigma\\sqrt{T}})$<br>\n",
    "$AD_0=e^{-rT}Pr(y \\le y(T)\\le y+\\epsilon)\\frac{1}{\\epsilon}=\\frac{N(\\frac{y+\\epsilon-\\log(S_0)-(r-\\frac{1}{2}\\sigma^2)T}{\\sigma\\sqrt{T}})-N(\\frac{y-\\log(S_0)-(r-\\frac{1}{2}\\sigma^2)T}{\\sigma\\sqrt{T}})}{\\epsilon}e^{-rT}$<br>\n",
    "$\\lim_{\\epsilon\\rightarrow 0}e^{-rT}\\frac{N(\\frac{y+\\epsilon-\\log(S_0)-(r-\\frac{1}{2}\\sigma^2)T}{\\sigma\\sqrt{T}})-N(\\frac{y-\\log(S_0)-(r-\\frac{1}{2}\\sigma^2)T}{\\sigma\\sqrt{T}})}{\\epsilon}=e^{-rT}\\frac{1}{\\sqrt{2\\pi}}e^{-\\frac{(\\frac{y-\\log(S_0)-(r-\\frac{1}{2}\\sigma^2)T}{\\sigma\\sqrt{T}})^2}{2}}\\frac{1}{\\sigma\\sqrt{T}}=e^{-rT}\\frac{1}{\\sqrt{2\\pi\\sigma^2T}}e^{-(\\frac{(y-\\log(S_0)-(r-\\frac{1}{2}\\sigma^2)T)^2}{2\\sigma^2T})}$"
   ]
  },
  {
   "cell_type": "markdown",
   "id": "76268099-f918-497a-915e-b4ea47cc01c4",
   "metadata": {},
   "source": [
    "#### （b）"
   ]
  },
  {
   "cell_type": "markdown",
   "id": "f15a0857-92de-4807-a726-e2c503d25c7c",
   "metadata": {},
   "source": [
    "Payoff = $(S_0e^{y(t)}-K)_+$\n",
    "\n",
    "$\\int_{-\\infty}^{\\infty}e^{-rT}\\frac{1}{\\sqrt{2\\pi\\sigma^2T}}e^{-(\\frac{(y-\\log(S_0)-(r-\\frac{1}{2}\\sigma^2)T)^2}{2\\sigma^2T})}(e^{y}-K)_+ dy=\\int_{\\log K}^{\\infty}e^{-rT}\\frac{1}{\\sqrt{2\\pi\\sigma^2T}}e^{-(\\frac{(y-\\log(S_0)-(r-\\frac{1}{2}\\sigma^2)T)^2}{2\\sigma^2T})}(e^{y}-K) dy$<br>\n",
    "Let A = $\\int_{\\log K}^{\\infty}e^{-rT}\\frac{1}{\\sqrt{2\\pi\\sigma^2T}}e^{-(\\frac{(y-\\log(S_0)-(r-\\frac{1}{2}\\sigma^2)T)^2}{2\\sigma^2T})}K dy$ and B = $\\int_{\\log K}^{\\infty}e^{-rT}\\frac{1}{\\sqrt{2\\pi\\sigma^2T}}e^{-(\\frac{(y-\\log(S_0)-(r-\\frac{1}{2}\\sigma^2)T)^2}{2\\sigma^2T})}e^y dy$<br>\n",
    "Let $X_1 \\sim N(\\log(S_0)+(r-\\frac{1}{2}\\sigma^2)T, \\sigma^2T)$, so A=$Ke^{-rT}Pr(X_1\\ge \\log K)=Ke^{-rT}N(\\frac{\\log\\frac{S_0}{K}+(r-\\frac{1}{2}\\sigma^2)T}{\\sigma\\sqrt{T}})$<br>\n",
    "$B=\\int_{\\log K}^{\\infty}e^{-rT}\\frac{1}{\\sqrt{2\\pi\\sigma^2T}}e^{-(\\frac{(y-\\log(S_0)-(r+\\frac{1}{2}\\sigma^2)T)^2-2r\\sigma^2T^2-2\\sigma^2T\\log S_0 }{2\\sigma^2T})}dy=\\int_{\\log K}^{\\infty}S_0\\frac{1}{\\sqrt{2\\pi\\sigma^2T}}e^{-(\\frac{(y-\\log(S_0)-(r+\\frac{1}{2}\\sigma^2)T)^2}{2\\sigma^2T})}dy$<br>\n",
    "Let $X_2 \\sim N(\\log(S_0)+(r+\\frac{1}{2}\\sigma^2)T, \\sigma^2T)$, $B=S_0 Pr(X_2 \\ge \\log K)=S_0 N(\\frac{\\log \\frac{S_0}{K}+(r+\\frac{1}{2}\\sigma^2)T}{\\sigma\\sqrt{T}})$<br>\n",
    "\n",
    "So call price = $S_0 N(\\frac{\\log \\frac{S_0}{K}+(r+\\frac{1}{2}\\sigma^2)T}{\\sigma\\sqrt{T}})-Ke^{-rT}N(\\frac{\\log\\frac{S_0}{K}+(r-\\frac{1}{2}\\sigma^2)T}{\\sigma\\sqrt{T}})$ which is consistent with Black Scholes Model"
   ]
  },
  {
   "cell_type": "markdown",
   "id": "d92c3a50-5b13-4a96-99c8-69bae888c531",
   "metadata": {},
   "source": [
    "#### (a)"
   ]
  },
  {
   "cell_type": "markdown",
   "id": "dabfa1d3-92a3-4b2c-ae20-bc6298c982e5",
   "metadata": {},
   "source": []
  },
  {
   "cell_type": "code",
   "execution_count": null,
   "id": "10baf213",
   "metadata": {},
   "outputs": [],
   "source": []
  }
 ],
 "metadata": {
  "kernelspec": {
   "display_name": "mfe230e",
   "language": "python",
   "name": "mfe230e"
  },
  "language_info": {
   "codemirror_mode": {
    "name": "ipython",
    "version": 3
   },
   "file_extension": ".py",
   "mimetype": "text/x-python",
   "name": "python",
   "nbconvert_exporter": "python",
   "pygments_lexer": "ipython3",
   "version": "3.11.8"
  }
 },
 "nbformat": 4,
 "nbformat_minor": 5
}
