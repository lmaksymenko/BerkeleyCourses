{
 "cells": [
  {
   "cell_type": "markdown",
   "id": "39382b3f-5b9b-4702-90e6-87f650f6201d",
   "metadata": {},
   "source": [
    "### Answers to Assignment 1 of 230Q"
   ]
  },
  {
   "cell_type": "markdown",
   "id": "401e7a29-99b6-49e9-9b2c-6f4febad7866",
   "metadata": {},
   "source": [
    "##### Authors(alphabetic order)\n",
    "1) Ishan Pathak ishan_pathak@berkeley.edu\n",
    "2) Leonid Maksymenko leo.maksymenko@berkeley.edu\n",
    "3) Nymph Qiu nymph_qiu@berkeley.edu\n",
    "4) Xuanzhong Ren rxz19@berkeley.edu"
   ]
  },
  {
   "cell_type": "markdown",
   "id": "dd0901ac-1ab4-41c6-95ad-39b655c53401",
   "metadata": {},
   "source": [
    "#### Q1"
   ]
  },
  {
   "cell_type": "markdown",
   "id": "27c999fc-342c-4421-9252-cdc38f244fa9",
   "metadata": {},
   "source": [
    "(a)\n",
    "<br>\n",
    "There are infinite number of strictly positive state price vectors $\\psi$ like $\\psi = \\begin{pmatrix}\\frac{1}{3} \\\\ \\frac{1}{6} \\\\ \\frac{1}{9}\\end{pmatrix} >> \\mathbf{0}$ which satisfies equation $\\psi_1+2\\psi_2+3\\psi_3=1$.\n",
    "<br>\n",
    "Given first FTAP, it is arbitrage free.<br>\n",
    "Given arbitrage free, there exists a positive state price vector so LOOP holds.\n",
    "<br>\n",
    "(b)\n",
    "<br>\n",
    "We could observe that a portfolio $\\mathbf{h}=\\begin{pmatrix}-2 \\\\ 1\\end{pmatrix}$ could result in 0 cost today while $\\mathbf{V}_1=\\begin{pmatrix}0 \\\\ 0.02 \\\\0\\end{pmatrix}$. There is arbitrage and it is of type 1. <br>\n",
    "We could observe $\\begin{pmatrix}\\frac{5}{6} \\\\ 0 \\\\ 0\\end{pmatrix}$ is a state price vector so LOOP holds.\n",
    "<br>\n",
    "(c)\n",
    "<br>\n",
    "We could see that the 2 states are exactly the same so we could have a portfolio $\\mathbf{h}=\\begin{pmatrix}-1 \\\\ 1\\end{pmatrix}$ which has net profit 0.02 today while zero future payoff. There is arbitrage and it is of type 2.<br>\n",
    "There is no state price vector given payoff in 2 states is the same. LOOP doesn't hold.\n",
    "<br>\n",
    "(d)\n",
    "<br>\n",
    "Assume we have a state price vector.<br>\n",
    "$\\begin{pmatrix}\n",
    "3 & 1 & 1\\\\\n",
    "0 & 2 & 2\\\\\n",
    "1 & 2 & 1\n",
    "\\end{pmatrix}\\psi=\\begin{pmatrix}\n",
    "1\\\\\n",
    "1\\\\\n",
    "1\n",
    "\\end{pmatrix}$ => $\n",
    "\\psi=\\frac{-1}{6}\\begin{pmatrix}\n",
    "-2 & 1 & 0\\\\\n",
    "2 & 2 & -6\\\\\n",
    "-2 & -5 & 6\n",
    "\\end{pmatrix}\\begin{pmatrix}\n",
    "1\\\\\n",
    "1\\\\\n",
    "1\n",
    "\\end{pmatrix}=\\begin{pmatrix}\n",
    "\\frac{1}{6}\\\\\n",
    "\\frac{1}{3}\\\\\n",
    "\\frac{1}{6}\n",
    "\\end{pmatrix}\n",
    "$\n",
    "<br>\n",
    "We could get a strictly positive state price vector and according to first FTAP, there is no arbitrage. <br>\n",
    "Because arbitrage free holds, there is at least one strictly positive state price vector so LOOP holds<br>\n",
    "(e)<br>\n",
    "$\\mathbf{D}=\\begin{pmatrix}\n",
    "3 & 1 & 2\\\\\n",
    "1 & 1.5 & 1.7\\\\\n",
    "2.5 & 2 & 1.5\n",
    "\\end{pmatrix}$<br>\n",
    "$\\det(D)=-4.2$ so market is complete and there is one unique state price vector.\n",
    "<br>\n",
    "$\\mathbf{D}^{-1}\\mathbf{s}_0=\\frac{-1}{4.2}\\begin{pmatrix}\n",
    "-1.15 & 2.5 & -1.3\\\\\n",
    "2.75  & -0.5 & -3.1\\\\\n",
    "-1.75 & -3.5 & 3.5\n",
    "\\end{pmatrix}\\begin{pmatrix}\n",
    "1\\\\\n",
    "1\\\\\n",
    "1\n",
    "\\end{pmatrix}=\\begin{pmatrix}\n",
    "-0.0119\\\\\n",
    "0.2024\\\\\n",
    "0.4167\n",
    "\\end{pmatrix}=\\psi$<br>\n",
    "We could see that the unique state price vector is not strictly positive and according to first FTAP, it implies that there is arbitrage.\n",
    "<br>\n",
    "We could observe that a portfolio $\\mathbf{h}=\\begin{pmatrix}1 \\\\ -2 \\\\1\\end{pmatrix}$ could result in $V_0=0$ today while $\\mathbf{V}_1=\\begin{pmatrix}3.5 \\\\ 0 \\\\0.1\\end{pmatrix}$. There is arbitrage and it is of type 1. <br>\n",
    "<br>\n",
    "Given there is a state price vector, LOOP holds.<br>"
   ]
  },
  {
   "cell_type": "markdown",
   "id": "5ea1681c-7f7f-4a52-8d09-0cdb6c2abf61",
   "metadata": {},
   "source": [
    "#### Q2"
   ]
  },
  {
   "cell_type": "markdown",
   "id": "daf3f831-2b5d-4093-bcee-627e18aa2116",
   "metadata": {},
   "source": [
    "(a)<br>\n",
    "Given arbitrage free<br>\n",
    "$u=1.2, d=1.05$<br>\n",
    "$1+r_f=1.1$<br>\n",
    "$q_u=\\frac{1+r_f-d}{u-d}=\\frac{1}{3}$<br>\n",
    "$q_d=\\frac{u-(1+r_f)}{u-d}=\\frac{2}{3}$<br>\n",
    "$\\frac{1}{1+r_f}(300q_u + 40q_d)=115.1516$ Million USD<br>"
   ]
  },
  {
   "cell_type": "markdown",
   "id": "ec7e8090-93b4-4257-915e-8fe0a189554c",
   "metadata": {},
   "source": [
    "(b)<br>\n",
    "$r_s=70\\%\\times\\frac{300-P}{P} + 30\\%\\times\\frac{40-P}{P}=\\frac{222-P}{P}=r_f+\\beta_s(r_m-r_f)$<br>\n",
    "$\\because r_m=0.2\\times0.7+0.05\\times0.3=0.155$, $\\sigma_m^2=0.2^2\\times0.7+0.05^2\\times0.3-0.155^2=0.004725$<br>\n",
    "and $\\beta_s = \\frac{0.045\\times0.7(\\frac{78}{P})+(-0.105)\\times0.3(\\frac{-182}{P})}{\\sigma_m^2}$\n",
    "<br>\n",
    "$\\therefore 0.7(300-P)+0.3(40-P)=0.1P+\\frac{0.045\\times0.7\\times78+(-0.105)\\times0.3\\times(-182)}{0.004725}0.055$\n",
    "<br>\n",
    "$\\therefore P=115.1516$ Million USD<br>\n",
    "It is verified that CAPM leads to the same value as non-arbitrage does."
   ]
  },
  {
   "cell_type": "markdown",
   "id": "8eeb0790-b294-4bfa-a181-165acf53e4e8",
   "metadata": {},
   "source": [
    "#### Q3\n",
    "<br>\n",
    "Let $\\mathbf{h}=\\begin{pmatrix}\n",
    "0 \\\\\n",
    "1 \\\\\n",
    "-2 \\\\\n",
    "1\n",
    "\\end{pmatrix}$, then we have $V_0=1$ and future payoff would be $\\begin{cases}\n",
    "S-50 & 50 \\le S \\le 55 \\\\\n",
    "60 - S & 55 \\le S \\le 60 \\\\\n",
    "0 & otherwise\n",
    "\\end{cases}$<br>\n",
    "Future non negative payoff with positive profit at t=0 shows that there is arbitrage."
   ]
  },
  {
   "cell_type": "code",
   "execution_count": null,
   "id": "9c4f4c60-4bb1-454e-81b8-5d171dbe6ccd",
   "metadata": {},
   "outputs": [],
   "source": []
  }
 ],
 "metadata": {
  "kernelspec": {
   "display_name": "mfe230e",
   "language": "python",
   "name": "mfe230e"
  },
  "language_info": {
   "codemirror_mode": {
    "name": "ipython",
    "version": 3
   },
   "file_extension": ".py",
   "mimetype": "text/x-python",
   "name": "python",
   "nbconvert_exporter": "python",
   "pygments_lexer": "ipython3",
   "version": "3.11.8"
  }
 },
 "nbformat": 4,
 "nbformat_minor": 5
}
