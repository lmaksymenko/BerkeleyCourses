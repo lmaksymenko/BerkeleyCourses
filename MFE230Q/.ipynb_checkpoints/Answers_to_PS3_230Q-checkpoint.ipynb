{
 "cells": [
  {
   "cell_type": "markdown",
   "id": "5113f146-b840-4ef3-8df7-21c8d3391b50",
   "metadata": {},
   "source": [
    "### Answers to Assignment 3 of 230Q"
   ]
  },
  {
   "cell_type": "markdown",
   "id": "65dfcda2-6fe5-4845-8f0f-fc56edb198ef",
   "metadata": {},
   "source": [
    "##### Authors(alphabetic order)\n",
    "1) Ishan Pathak ishan_pathak@berkeley.edu\n",
    "2) Leonid Maksymenko leo.maksymenko@berkeley.edu\n",
    "3) Nymph Qiu nymph_qiu@berkeley.edu\n",
    "4) Xuanzhong Ren rxz19@berkeley.edu"
   ]
  },
  {
   "cell_type": "code",
   "execution_count": 1,
   "id": "3dd5f58a-b92e-4a8f-8b98-8a90540b05e7",
   "metadata": {},
   "outputs": [],
   "source": [
    "import pandas as pd\n",
    "import numpy as np\n",
    "import matplotlib.pyplot as plt\n",
    "from scipy.stats import norm,chi2, t"
   ]
  },
  {
   "cell_type": "markdown",
   "id": "512801ec-ca19-46dd-ac8c-442fd0412bd2",
   "metadata": {},
   "source": [
    "### Q1"
   ]
  },
  {
   "cell_type": "markdown",
   "id": "4c884f7a-57a6-408f-ba60-2323cae9c1c8",
   "metadata": {},
   "source": [
    "(a)"
   ]
  },
  {
   "cell_type": "markdown",
   "id": "3271ff1a-bcba-42fa-8cd8-2bd26ff0bf54",
   "metadata": {},
   "source": [
    "$$dx(t)=ae^{at}dt=ax(t)dt$$"
   ]
  },
  {
   "cell_type": "markdown",
   "id": "bdf7a3c0-6752-4e53-97d6-cc8f8b5327fb",
   "metadata": {},
   "source": [
    "(b)"
   ]
  },
  {
   "cell_type": "markdown",
   "id": "a145ab11-0d9d-453e-bafa-8d2bdeb7514f",
   "metadata": {},
   "source": [
    "$$dx(t)=g(t)dW(t)+\\frac{1}{2}g'(t)dt$$"
   ]
  },
  {
   "cell_type": "markdown",
   "id": "414b458c-eb89-40b5-b653-e1fc57d0768c",
   "metadata": {},
   "source": [
    "(c)"
   ]
  },
  {
   "cell_type": "markdown",
   "id": "16484c4c-5303-4676-8e4c-dc19ec77de4b",
   "metadata": {},
   "source": [
    "$$dx(t)=\\alpha e^{\\alpha W(t)}dW(t)+\\frac{1}{2}\\alpha^2e^{\\alpha W(t)}dt=\\alpha x(t)dW(t)+\\frac{1}{2}\\alpha^2x(t)dt$$"
   ]
  },
  {
   "cell_type": "markdown",
   "id": "434af821-d358-4e44-b1a3-c2c9903bfa23",
   "metadata": {},
   "source": [
    "(d)"
   ]
  },
  {
   "cell_type": "markdown",
   "id": "c9cff433-a79f-43fa-8296-7d3b8c59efef",
   "metadata": {},
   "source": [
    "$$dx(t)=\\alpha e^{\\alpha y(t)}dy(t)+\\frac{1}{2}\\alpha^2e^{\\alpha y(t)}(dy(t)^2)=\\alpha x(t)(\\mu dt + \\sigma dW(t))+\\frac{1}{2}\\alpha^2e^{\\alpha y(t)}\\sigma^2dt$$\n",
    "$$=(\\alpha\\mu+\\frac{1}{2}\\alpha^2\\sigma^2) x(t)dt + \\alpha \\sigma x(t) dW(t)$$"
   ]
  },
  {
   "cell_type": "markdown",
   "id": "9c1ee1e8-4b66-4db9-88da-47ea689672e8",
   "metadata": {},
   "source": [
    "(e)"
   ]
  },
  {
   "cell_type": "markdown",
   "id": "02875566-4f44-4989-aa16-35873c3f5176",
   "metadata": {},
   "source": [
    "$$dx(t)=2y(t)dy(t)+\\frac{1}{2}2\\sigma^2y(t)^2dt=2y(t)(\\alpha y(t)dt+\\sigma y(t)dW(t))+\\frac{1}{2}2\\sigma^2y(t)^2dt$$\n",
    "$$=2\\alpha y(t)^2dt+2\\sigma y(t)^2dW(t)+\\frac{1}{2}2\\sigma^2y(t)^2dt$$\n",
    "$$=2\\alpha x(t)dt+2\\sigma x(t)dW(t)+\\frac{1}{2}2\\sigma^2x(t)dt=(2\\alpha +\\sigma^2)x(t)dt+2\\sigma x(t)dW(t)$$"
   ]
  },
  {
   "cell_type": "markdown",
   "id": "e8c32199-a242-4812-a324-6a29db065b37",
   "metadata": {},
   "source": [
    "(f)"
   ]
  },
  {
   "cell_type": "markdown",
   "id": "323c97b5-7a5c-48c9-8a48-7381e18d3916",
   "metadata": {},
   "source": [
    "$$dx(t)=-\\frac{1}{y(t)^2}dy(t)+\\frac{2}{y(t)^3}(dy(t))^2$$\n",
    "$$=-\\frac{1}{y(t)^2}(\\alpha y(t)dt+\\sigma y(t)dW(t))+\\frac{2}{y(t)^3}\\sigma^2y(t)^2dt$$\n",
    "$$=-\\frac{\\alpha}{y(t)}dt-\\frac{\\sigma}{y(t)}dW(t)+\\frac{2\\sigma^2}{y(t)}dt=(-\\alpha+2\\sigma^2) x(t)dt - \\sigma x(t)dW(t)$$"
   ]
  },
  {
   "cell_type": "markdown",
   "id": "d972398c-1439-49a8-b07d-70cb3920d858",
   "metadata": {},
   "source": [
    "### Q2"
   ]
  },
  {
   "cell_type": "markdown",
   "id": "787e7383-43e3-4165-b8d8-1e287bf49e0b",
   "metadata": {},
   "source": [
    "According to Ito formula\n",
    "$$X(t)=\\sum_{k=1}^n\\sigma_{(k-1)\\Delta t}(W_{k\\Delta t}-W_{(k-1)\\Delta t})$$\n",
    "Because W(t) is Wiener process, which implies incremental would be independent of each other.\n",
    "$$E_0\\left[e^{iuX(t)}\\right]=\\prod_{k=1}^n E_0\\left[e^{iu\\sigma_{(k-1)\\Delta t}(W_{k\\Delta t}-W_{(k-1)\\Delta t})}\\right]$$\n",
    "Given $W_{k\\Delta t}-W_{(k-1)\\Delta t} \\sim N(0, \\Delta t)$\n",
    "$$E_0\\left[e^{iu\\sigma_{(k-1)\\Delta t}(W_{k\\Delta t}-W_{(k-1)\\Delta t})}\\right]=e^{\\frac{i^2u^2\\sigma_{(k-1)\\Delta t}^2\\Delta t}{2}}$$\n",
    "$$E_0\\left[e^{iuX(t)}\\right]=e^{\\frac{1}{2}i^2u^2\\sum_{k=1}^n\\sigma_{(k-1)\\Delta t}^2\\Delta t}=e^{-\\frac{u^2}{2}\\int_0^t\\sigma_s^2 ds}$$"
   ]
  },
  {
   "cell_type": "markdown",
   "id": "6ca639f4-5100-4074-b07d-a3b036dabbe9",
   "metadata": {},
   "source": [
    "### Q3"
   ]
  },
  {
   "cell_type": "markdown",
   "id": "c0649529-c14e-40cc-aabc-17bc13f51ae7",
   "metadata": {},
   "source": [
    "$$X(t)=X(0)+\\int_0^t \\alpha X(s)ds + \\int_0^t \\sigma_s dW(s)$$\n",
    "$$X(t)=X(0)+\\sum_{k=1}^n \\alpha X((k-1)\\Delta t) \\Delta t+ \\sum_{k=1}^n \\sigma_{(k-1)\\Delta t} (W_{k\\Delta t} - W_{(k-1)\\Delta t})$$\n",
    "$$E_0(X(t))=X(0) + \\sum_{k=1}^n \\alpha E_0(X((k-1)\\Delta t)) \\Delta t + \\sum_{k=1}^n E_0(\\sigma_{(k-1)\\Delta t}) E_0((W_{k\\Delta t} - W_{(k-1)\\Delta t}))$$\n",
    "$$=X(0) + \\sum_{k=1}^n \\alpha E_0(X((k-1)\\Delta t)) \\Delta t=X(0) + \\alpha \\int_0^t E_0(X(s))ds$$"
   ]
  },
  {
   "cell_type": "code",
   "execution_count": null,
   "id": "42b90b05-7725-4e67-a11a-b94d9f255b31",
   "metadata": {},
   "outputs": [],
   "source": []
  }
 ],
 "metadata": {
  "kernelspec": {
   "display_name": "mfe230e",
   "language": "python",
   "name": "mfe230e"
  },
  "language_info": {
   "codemirror_mode": {
    "name": "ipython",
    "version": 3
   },
   "file_extension": ".py",
   "mimetype": "text/x-python",
   "name": "python",
   "nbconvert_exporter": "python",
   "pygments_lexer": "ipython3",
   "version": "3.11.8"
  }
 },
 "nbformat": 4,
 "nbformat_minor": 5
}
